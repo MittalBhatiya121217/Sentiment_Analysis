{
  "cells": [
    {
      "cell_type": "markdown",
      "metadata": {
        "id": "yXSpYR1PKAjw"
      },
      "source": [
        "# Sentiment Analysis\n",
        "**Instructions**:\n",
        "1. Wherever you are asked to code, insert a text block below your code block and explain what you have coded as per your own understanding.\n",
        "2. If the code is provided by us, execute it, and add below a text block and provide your explanation in your own words.\n",
        "3. Submit both the .ipynb and pdf files to canvas.\n",
        "4. **The similarity score should be less than 15%.**\n",
        "5. **This will be the bonus ICE and the score will be added to the overall percentage.**"
      ]
    },
    {
      "cell_type": "markdown",
      "metadata": {
        "id": "CiXPmMbBxZwN"
      },
      "source": [
        "# Task 1 (15 points)\n",
        "Run the below code blocks in tutorial 1 without any errors. Write down your observations in detail for each code block."
      ]
    },
    {
      "cell_type": "markdown",
      "metadata": {
        "id": "jeDE5V7kKK_6"
      },
      "source": [
        "#Tutorial-1: Sentiment Analysis on movie reviews\n",
        "\n",
        "Sentiment analysis is a natural language processing technique that involves analyzing text to determine the emotional tone or subjective opinion of the writer. It is also known as opinion mining or emotion AI.\n",
        "\n",
        "Sentiment analysis can be performed on a variety of text data, including customer reviews, social media posts, news articles, and more. It uses machine learning algorithms to classify the text as positive, negative, or neutral, or to assign a numerical sentiment score on a scale. It can provide valuable insights into the attitudes and opinions of a target audience, and help businesses and organizations make data-driven decisions.\n",
        "\n",
        "This code provides a simple example of how to perform sentiment analysis on text data using scikit-learn's pipeline functionality. This performs analysis on a dataset of phrases from movie reviews. The sentiment labels for each phrase are integers ranging from 0 to 4, with 0 being the most negative and 4 being the most positive."
      ]
    },
    {
      "cell_type": "markdown",
      "metadata": {
        "id": "FCcoXTW9Mgp-"
      },
      "source": [
        "For running the tutorial, you will need the dataset present in this link provided.\n",
        "\n",
        "https://www.kaggle.com/competitions/sentiment-analysis-on-movie-reviews/data"
      ]
    },
    {
      "cell_type": "code",
      "execution_count": null,
      "metadata": {
        "colab": {
          "base_uri": "https://localhost:8080/"
        },
        "id": "lCGOayXRL7Uy",
        "outputId": "752a65a7-1733-4ea4-c684-c21457269142"
      },
      "outputs": [
        {
          "output_type": "stream",
          "name": "stdout",
          "text": [
            "Looking in indexes: https://pypi.org/simple, https://us-python.pkg.dev/colab-wheels/public/simple/\n",
            "Requirement already satisfied: transformers in /usr/local/lib/python3.9/dist-packages (4.27.4)\n",
            "Requirement already satisfied: filelock in /usr/local/lib/python3.9/dist-packages (from transformers) (3.11.0)\n",
            "Requirement already satisfied: huggingface-hub<1.0,>=0.11.0 in /usr/local/lib/python3.9/dist-packages (from transformers) (0.13.4)\n",
            "Requirement already satisfied: packaging>=20.0 in /usr/local/lib/python3.9/dist-packages (from transformers) (23.0)\n",
            "Requirement already satisfied: tokenizers!=0.11.3,<0.14,>=0.11.1 in /usr/local/lib/python3.9/dist-packages (from transformers) (0.13.3)\n",
            "Requirement already satisfied: regex!=2019.12.17 in /usr/local/lib/python3.9/dist-packages (from transformers) (2022.10.31)\n",
            "Requirement already satisfied: pyyaml>=5.1 in /usr/local/lib/python3.9/dist-packages (from transformers) (6.0)\n",
            "Requirement already satisfied: numpy>=1.17 in /usr/local/lib/python3.9/dist-packages (from transformers) (1.22.4)\n",
            "Requirement already satisfied: requests in /usr/local/lib/python3.9/dist-packages (from transformers) (2.27.1)\n",
            "Requirement already satisfied: tqdm>=4.27 in /usr/local/lib/python3.9/dist-packages (from transformers) (4.65.0)\n",
            "Requirement already satisfied: typing-extensions>=3.7.4.3 in /usr/local/lib/python3.9/dist-packages (from huggingface-hub<1.0,>=0.11.0->transformers) (4.5.0)\n",
            "Requirement already satisfied: idna<4,>=2.5 in /usr/local/lib/python3.9/dist-packages (from requests->transformers) (3.4)\n",
            "Requirement already satisfied: charset-normalizer~=2.0.0 in /usr/local/lib/python3.9/dist-packages (from requests->transformers) (2.0.12)\n",
            "Requirement already satisfied: urllib3<1.27,>=1.21.1 in /usr/local/lib/python3.9/dist-packages (from requests->transformers) (1.26.15)\n",
            "Requirement already satisfied: certifi>=2017.4.17 in /usr/local/lib/python3.9/dist-packages (from requests->transformers) (2022.12.7)\n"
          ]
        }
      ],
      "source": [
        "!pip install transformers"
      ]
    },
    {
      "cell_type": "markdown",
      "metadata": {
        "id": "bUg9KWwjr2tu"
      },
      "source": [
        "Here, we are using the transformers library which is used for performing nltk pretrained models which is trained with the huge dataset such as text classification, topic of the content, sentiment analysis, question answering  etc.\n",
        "\n",
        "In conclude, here we are installing the transformer library which is we use foir getting access of the pretrained models.\n",
        "\n"
      ]
    },
    {
      "cell_type": "code",
      "execution_count": null,
      "metadata": {
        "id": "HyKn0FiFF_gY"
      },
      "outputs": [],
      "source": [
        "import pandas as pd\n",
        "import numpy as np\n",
        "\n",
        "from sklearn.feature_extraction.text import CountVectorizer, TfidfVectorizer\n",
        "from sklearn.ensemble import RandomForestClassifier, AdaBoostClassifier, AdaBoostRegressor\n",
        "from sklearn.model_selection import train_test_split\n",
        "from sklearn.base import BaseEstimator, TransformerMixin\n",
        "from sklearn.decomposition import PCA\n",
        "from sklearn.feature_selection import chi2\n",
        "from sklearn.metrics import accuracy_score, confusion_matrix\n",
        "from sklearn.pipeline import Pipeline, make_pipeline\n",
        "\n",
        "from collections import Counter\n",
        "\n",
        "from nltk.sentiment import SentimentAnalyzer\n",
        "from nltk.classify import NaiveBayesClassifier\n",
        "\n",
        "import tensorflow as tf\n",
        "\n",
        "from keras.callbacks import EarlyStopping, ModelCheckpoint\n",
        "\n",
        "from gensim.models import Word2Vec\n",
        "from gensim.models.phrases import Phrases, Phraser\n",
        "\n",
        "import transformers\n",
        "import torch\n",
        "\n",
        "import seaborn as sns\n",
        "import matplotlib.pyplot as plt\n",
        "\n",
        "import warnings\n",
        "warnings.simplefilter(action='ignore', category=FutureWarning)\n",
        "\n",
        "import os"
      ]
    },
    {
      "cell_type": "markdown",
      "metadata": {
        "id": "jYIjCZBMt3jE"
      },
      "source": [
        "Here, we are importing the libraries for performing the sentiment analysis using natural language processing and machine learning approach.\n",
        "\n",
        "here pandas and numpy library which is used for data manipulation and analysis panda is reading the data files while numpy is used for performing the statistical calculations.\n",
        "\n",
        "after that we are using the sklearn library to use the machine learning algorithms here we are using the vectorizers for converting the categorical data into the numerical labels and also fetching the models such as random forest and adaboost and evaluation metrix such as accuracy score and confusion matrix.\n",
        "now we are importing the library tensorflow which is use for building and training the neural netrwork models.\n",
        "\n",
        "gensim library which is used for training the word embedding for instance word2vec.\n",
        "\n",
        "transformer and torch library is used for working with the pretrained model for instance BERT.\n",
        "\n",
        "the seaborn and matplotlib libraries are used for the visulizing the data.\n",
        "\n",
        "at the bottom we are importing the warning library which is used for prevention of the warnings.\n",
        "\n",
        "\n",
        "in conclude, we are importing all the libraries which is we are going to use for the sentiment analysis.\n"
      ]
    },
    {
      "cell_type": "code",
      "execution_count": null,
      "metadata": {
        "colab": {
          "base_uri": "https://localhost:8080/",
          "height": 205
        },
        "id": "90qJnKXIGLri",
        "outputId": "4649b4b9-60f4-4c04-d7c4-a1865bd64f6e"
      },
      "outputs": [
        {
          "output_type": "execute_result",
          "data": {
            "text/plain": [
              "          SentenceId  \\\n",
              "PhraseId               \n",
              "1                  1   \n",
              "2                  1   \n",
              "\n",
              "                                                                                                                                                                                                Phrase  \\\n",
              "PhraseId                                                                                                                                                                                                 \n",
              "1         A series of escapades demonstrating the adage that what is good for the goose is also good for the gander , some of which occasionally amuses but none of which amounts to much of a story .   \n",
              "2                                                                                                                        A series of escapades demonstrating the adage that what is good for the goose   \n",
              "\n",
              "          Sentiment  \n",
              "PhraseId             \n",
              "1                 1  \n",
              "2                 2  "
            ],
            "text/html": [
              "\n",
              "  <div id=\"df-dd33290d-d221-4551-b4e4-78b8ecf67672\">\n",
              "    <div class=\"colab-df-container\">\n",
              "      <div>\n",
              "<style scoped>\n",
              "    .dataframe tbody tr th:only-of-type {\n",
              "        vertical-align: middle;\n",
              "    }\n",
              "\n",
              "    .dataframe tbody tr th {\n",
              "        vertical-align: top;\n",
              "    }\n",
              "\n",
              "    .dataframe thead th {\n",
              "        text-align: right;\n",
              "    }\n",
              "</style>\n",
              "<table border=\"1\" class=\"dataframe\">\n",
              "  <thead>\n",
              "    <tr style=\"text-align: right;\">\n",
              "      <th></th>\n",
              "      <th>SentenceId</th>\n",
              "      <th>Phrase</th>\n",
              "      <th>Sentiment</th>\n",
              "    </tr>\n",
              "    <tr>\n",
              "      <th>PhraseId</th>\n",
              "      <th></th>\n",
              "      <th></th>\n",
              "      <th></th>\n",
              "    </tr>\n",
              "  </thead>\n",
              "  <tbody>\n",
              "    <tr>\n",
              "      <th>1</th>\n",
              "      <td>1</td>\n",
              "      <td>A series of escapades demonstrating the adage that what is good for the goose is also good for the gander , some of which occasionally amuses but none of which amounts to much of a story .</td>\n",
              "      <td>1</td>\n",
              "    </tr>\n",
              "    <tr>\n",
              "      <th>2</th>\n",
              "      <td>1</td>\n",
              "      <td>A series of escapades demonstrating the adage that what is good for the goose</td>\n",
              "      <td>2</td>\n",
              "    </tr>\n",
              "  </tbody>\n",
              "</table>\n",
              "</div>\n",
              "      <button class=\"colab-df-convert\" onclick=\"convertToInteractive('df-dd33290d-d221-4551-b4e4-78b8ecf67672')\"\n",
              "              title=\"Convert this dataframe to an interactive table.\"\n",
              "              style=\"display:none;\">\n",
              "        \n",
              "  <svg xmlns=\"http://www.w3.org/2000/svg\" height=\"24px\"viewBox=\"0 0 24 24\"\n",
              "       width=\"24px\">\n",
              "    <path d=\"M0 0h24v24H0V0z\" fill=\"none\"/>\n",
              "    <path d=\"M18.56 5.44l.94 2.06.94-2.06 2.06-.94-2.06-.94-.94-2.06-.94 2.06-2.06.94zm-11 1L8.5 8.5l.94-2.06 2.06-.94-2.06-.94L8.5 2.5l-.94 2.06-2.06.94zm10 10l.94 2.06.94-2.06 2.06-.94-2.06-.94-.94-2.06-.94 2.06-2.06.94z\"/><path d=\"M17.41 7.96l-1.37-1.37c-.4-.4-.92-.59-1.43-.59-.52 0-1.04.2-1.43.59L10.3 9.45l-7.72 7.72c-.78.78-.78 2.05 0 2.83L4 21.41c.39.39.9.59 1.41.59.51 0 1.02-.2 1.41-.59l7.78-7.78 2.81-2.81c.8-.78.8-2.07 0-2.86zM5.41 20L4 18.59l7.72-7.72 1.47 1.35L5.41 20z\"/>\n",
              "  </svg>\n",
              "      </button>\n",
              "      \n",
              "  <style>\n",
              "    .colab-df-container {\n",
              "      display:flex;\n",
              "      flex-wrap:wrap;\n",
              "      gap: 12px;\n",
              "    }\n",
              "\n",
              "    .colab-df-convert {\n",
              "      background-color: #E8F0FE;\n",
              "      border: none;\n",
              "      border-radius: 50%;\n",
              "      cursor: pointer;\n",
              "      display: none;\n",
              "      fill: #1967D2;\n",
              "      height: 32px;\n",
              "      padding: 0 0 0 0;\n",
              "      width: 32px;\n",
              "    }\n",
              "\n",
              "    .colab-df-convert:hover {\n",
              "      background-color: #E2EBFA;\n",
              "      box-shadow: 0px 1px 2px rgba(60, 64, 67, 0.3), 0px 1px 3px 1px rgba(60, 64, 67, 0.15);\n",
              "      fill: #174EA6;\n",
              "    }\n",
              "\n",
              "    [theme=dark] .colab-df-convert {\n",
              "      background-color: #3B4455;\n",
              "      fill: #D2E3FC;\n",
              "    }\n",
              "\n",
              "    [theme=dark] .colab-df-convert:hover {\n",
              "      background-color: #434B5C;\n",
              "      box-shadow: 0px 1px 3px 1px rgba(0, 0, 0, 0.15);\n",
              "      filter: drop-shadow(0px 1px 2px rgba(0, 0, 0, 0.3));\n",
              "      fill: #FFFFFF;\n",
              "    }\n",
              "  </style>\n",
              "\n",
              "      <script>\n",
              "        const buttonEl =\n",
              "          document.querySelector('#df-dd33290d-d221-4551-b4e4-78b8ecf67672 button.colab-df-convert');\n",
              "        buttonEl.style.display =\n",
              "          google.colab.kernel.accessAllowed ? 'block' : 'none';\n",
              "\n",
              "        async function convertToInteractive(key) {\n",
              "          const element = document.querySelector('#df-dd33290d-d221-4551-b4e4-78b8ecf67672');\n",
              "          const dataTable =\n",
              "            await google.colab.kernel.invokeFunction('convertToInteractive',\n",
              "                                                     [key], {});\n",
              "          if (!dataTable) return;\n",
              "\n",
              "          const docLinkHtml = 'Like what you see? Visit the ' +\n",
              "            '<a target=\"_blank\" href=https://colab.research.google.com/notebooks/data_table.ipynb>data table notebook</a>'\n",
              "            + ' to learn more about interactive tables.';\n",
              "          element.innerHTML = '';\n",
              "          dataTable['output_type'] = 'display_data';\n",
              "          await google.colab.output.renderOutput(dataTable, element);\n",
              "          const docLink = document.createElement('div');\n",
              "          docLink.innerHTML = docLinkHtml;\n",
              "          element.appendChild(docLink);\n",
              "        }\n",
              "      </script>\n",
              "    </div>\n",
              "  </div>\n",
              "  "
            ]
          },
          "metadata": {},
          "execution_count": 5
        }
      ],
      "source": [
        "df = pd.read_csv(\"/content/train.tsv\", sep='\\t', index_col=\"PhraseId\")\n",
        "pd.set_option('display.max_colwidth', None)\n",
        "df.head(2)"
      ]
    },
    {
      "cell_type": "markdown",
      "metadata": {
        "id": "7j9VlJPg7IOC"
      },
      "source": [
        "Here, we are reading the csv  file using the pandas library.and  also display 2 data rows and columns from the csv file.\n",
        "\n",
        "\n",
        "first we are creating the variable df  after that we are providing the function to read the file which is pd.read_csv which is pd is the alias of the pandas library and read_csv is the function of the pandas library for reading the csv file and in this we are passing the 3 different parameter first is the path of the file and second is the sep='\\t' which is the parameter for columns use the tab as the delimeter and after that we are passsing the parameter index_col=\"ParseId\" which is specifies that index columns.\n",
        "\n",
        "after that we are using the fucntion pd.set_option('display.max_colwidth', None) which is used for the remove the width from the columns so that when we call the df.head it properly fit in the window.\n",
        "\n",
        "at the last we are doing df.head(2) which is usede for display 2 rows data from the dataframe.\n",
        "\n",
        "\n"
      ]
    },
    {
      "cell_type": "code",
      "execution_count": null,
      "metadata": {
        "id": "8MXSp8ScGLuY"
      },
      "outputs": [],
      "source": [
        "train, test = train_test_split(df[[\"Phrase\", \"Sentiment\"]], random_state=0)\n",
        "X_train = train.Phrase\n",
        "X_test = test.Phrase\n",
        "y_train = train.Sentiment\n",
        "y_test = test.Sentiment"
      ]
    },
    {
      "cell_type": "markdown",
      "metadata": {
        "id": "mboGadXR-9O3"
      },
      "source": [
        "Here, we are spliting the dataframe into the training and testing data uisng the train_test_split() method.\n",
        "\n",
        "first we are spliting the data randomly using the train_test_split() function. we are passing the parameters first is the dataframe object df in the df we are passing two parameter which is phrase and sentiment which is the two columns of the dataframe. after that we are passing the parameter for random_state=0 which is use for make sure the split is reproducible every time when its run.\n",
        "\n",
        "now , we are parting th dataframe data pharse and sentiments. where in  X_train and X_test we are giving the train.pharases columns and y_train and y_test which is we are providing the sentiment column of the dataframe.\n",
        "\n",
        "here this all the variables is used for the train the model and also evaluate the model.\n"
      ]
    },
    {
      "cell_type": "code",
      "execution_count": null,
      "metadata": {
        "id": "UiC_YjwVGLw_"
      },
      "outputs": [],
      "source": [
        "def get_accuracy():\n",
        "    pipe.fit(X_train, y_train)\n",
        "    y_pred = pipe.predict(X_test)\n",
        "    return round(accuracy_score(y_pred, y_test),3)"
      ]
    },
    {
      "cell_type": "markdown",
      "metadata": {
        "id": "nJ2cEIOBDKbu"
      },
      "source": [
        "here we are fiting the model using the X_train and y_train the data for that we are using the fit() method.\n",
        "\n",
        "first we are usign the get_accuracy() method for training the model this method will calculate and return the accuracy score of the model.\n",
        "\n",
        " after that we are using the fit() method for training the model in the fit() method we are passing the two parameters which are X_trainn and y_train dataframes.\n",
        "\n",
        "after that we are getting the predicted values based on the actual values where y_pred is the variable in this we are passing the pipeline and predict() method in this method we are passing the parameter X_test which is predict the value based on the actual values.\n",
        "\n",
        "at the last we are returning the function round which is used for rounding the accuracy score. here we are passing the two parameters which are y_pred and y_test and set 3 as the 3 decimals.\n",
        "\n",
        "all in all, we are training the model and predicting the values using the fit() and predict() method.\n",
        "\n",
        "\n",
        "\n"
      ]
    },
    {
      "cell_type": "markdown",
      "metadata": {
        "id": "DOjYA121Hu53"
      },
      "source": [
        "# Baseline models\n",
        "\n",
        "these code blocks demonstrate how to build and evaluate a text classification pipeline using scikit-learn, as well as how to customize the pipeline using different vectorizers and tokenizers.\n",
        "\n",
        "\n",
        "\n",
        "\n",
        "\n",
        "\n",
        "\n",
        "We'll build them through simple steps:\n",
        "\n",
        "encoding each sentence through basic methods such as bag of words and tf-idf.\n",
        "using classic trees ensembles that use bagging and boosting, respectively.\n",
        "ignoring the sentence Id.\n",
        "ignoring in some cases the less frequent words."
      ]
    },
    {
      "cell_type": "markdown",
      "metadata": {
        "id": "ksTei3E4HxFs"
      },
      "source": [
        "## Random Forest, BOW, TF-IDF"
      ]
    },
    {
      "cell_type": "code",
      "execution_count": null,
      "metadata": {
        "id": "FncSHpsTGLzo"
      },
      "outputs": [],
      "source": [
        "count_vectorizer = CountVectorizer(max_features=1000)\n",
        "random_forest = RandomForestClassifier(max_depth=10, n_estimators=10)"
      ]
    },
    {
      "cell_type": "markdown",
      "metadata": {
        "id": "2mfOgo8KGpoA"
      },
      "source": [
        "**Random forest**\n",
        "Random forest is an method of ensemble learning method which is use for the classification and regressions. here we are constructing the multiple decision trees to give the output to make more accurate the predictions. here tree is trained using the different subset of the dataframe and random subset is use to split the tree. the result is more stable so that there is no cause as a overfittings.\n",
        "**BOW**\n",
        "Bow stands for bag-of-words. which is used for convert the documents into the vector of the words frequencies. here we are counting the frequencies of the each word and stored into the vector. here the main thing is order of the token is not matter its only stored the words tokens.\n",
        "**TF-IDF**\n",
        "TF-IDF stands for term frequency- inverse document frequency which is text represent method which is shown the importance of the word into the collection of the documents. the frequency of the word in the documents name as the term frequency while frequency of the word in the corpus is the inverse document frequency.\n",
        " here,  we are using the two objects count vectorizer and random forest.\n",
        "\n",
        "\n",
        " countervectorizer is used for text processing which is use for convert the text into the matrix of the token counts. and we are passing the parameter which is max_features which is specifies the maximum number of the features. here its set 1000 which means that 1000 frequent words will be use in the matrix.\n",
        "\n",
        " random forest is the object of the random forest ckassifier which is used for the learning method that construct the collection of the decision tree and at the last combines to predict and improve the accuracy score of the model.max_depth is use for the maximum depth of the decision tree. n_estomators is the parameter for number of the trees.\n",
        "\n",
        "overall here we are creating the two object for the differend kind of approach.countervedctor for counting the frequency and convert them into the matrix and random forest for train the model.\n",
        "\n",
        "\n",
        "\n",
        "\n",
        "\n",
        "\n"
      ]
    },
    {
      "cell_type": "code",
      "execution_count": null,
      "metadata": {
        "id": "sg6On5W0GL2M"
      },
      "outputs": [],
      "source": [
        "pipe = make_pipeline(count_vectorizer,random_forest)"
      ]
    },
    {
      "cell_type": "markdown",
      "metadata": {
        "id": "yQWSB-CLRXGj"
      },
      "source": [
        "Here, we are creating the pipeline for the countervectorizer and random forest which is used for the text preprocessing and train the random forest model on the result features.\n",
        "\n"
      ]
    },
    {
      "cell_type": "code",
      "execution_count": null,
      "metadata": {
        "colab": {
          "base_uri": "https://localhost:8080/"
        },
        "id": "Uwya3iYEGL4j",
        "outputId": "e5ba11d2-319c-442f-bf57-915fc425a8a7"
      },
      "outputs": [
        {
          "output_type": "execute_result",
          "data": {
            "text/plain": [
              "0.516"
            ]
          },
          "metadata": {},
          "execution_count": 10
        }
      ],
      "source": [
        "get_accuracy()"
      ]
    },
    {
      "cell_type": "markdown",
      "metadata": {
        "id": "lz2RamVqSKmZ"
      },
      "source": [
        "Here, we are using the get_accuracy() method for calculating the accuracy score by using the fitting pipeline to training the data, and for predicting the labels and also compare the results with the actual labels.\n",
        "\n"
      ]
    },
    {
      "cell_type": "markdown",
      "metadata": {
        "id": "ildLSiIxH5sv"
      },
      "source": [
        "Let's look at the percentages of the classes in the true labels and in the predictions."
      ]
    },
    {
      "cell_type": "code",
      "execution_count": null,
      "metadata": {
        "id": "MXvSO9OxGL7N"
      },
      "outputs": [],
      "source": [
        "y_pred = pipe.predict(X_test)"
      ]
    },
    {
      "cell_type": "markdown",
      "metadata": {
        "id": "H-EWc6ICTPPD"
      },
      "source": [
        "Here, we are predicting the labels using the predict() method in this method we are using the pipeline for predict the labels and we are storing the predicted labels into the y_pred. here we are doing to check the performance of the model using the unseen data while training the model and comparing the predicted lables into the actual lables.\n",
        "\n"
      ]
    },
    {
      "cell_type": "code",
      "execution_count": null,
      "metadata": {
        "colab": {
          "base_uri": "https://localhost:8080/"
        },
        "id": "7x26molTGL9w",
        "outputId": "f9022a2d-c37d-4028-83fe-64dd1c2077ee"
      },
      "outputs": [
        {
          "output_type": "execute_result",
          "data": {
            "text/plain": [
              "2    0.51\n",
              "3    0.21\n",
              "1    0.17\n",
              "4    0.06\n",
              "0    0.04\n",
              "Name: Sentiment, dtype: float64"
            ]
          },
          "metadata": {},
          "execution_count": 12
        }
      ],
      "source": [
        "round(pd.Series(y_train).value_counts(normalize=True),2)"
      ]
    },
    {
      "cell_type": "markdown",
      "metadata": {
        "id": "6ZCT085cXzYe"
      },
      "source": [
        "here we are creating the pandas series, which is use the y_train data and value_counts.\n",
        "\n",
        "here we are creating the pandas series which is frequency of the each of the unique values in the y_train. here we are using the value_count() method for counting the occurance of the each unique value in y_train and passed parameter normalize=true is specifies the counts of the proportions. here we are round up the result by 2 decimal using the round() function.\n",
        "\n",
        "\n"
      ]
    },
    {
      "cell_type": "code",
      "execution_count": null,
      "metadata": {
        "colab": {
          "base_uri": "https://localhost:8080/"
        },
        "id": "0M0Ey3PSGMAX",
        "outputId": "d5aff956-e7d1-4bd8-9b77-7df4a516f7fe"
      },
      "outputs": [
        {
          "output_type": "execute_result",
          "data": {
            "text/plain": [
              "2    0.99\n",
              "3    0.01\n",
              "1    0.00\n",
              "4    0.00\n",
              "0    0.00\n",
              "dtype: float64"
            ]
          },
          "metadata": {},
          "execution_count": 13
        }
      ],
      "source": [
        "round(pd.Series(y_pred).value_counts(normalize=True),2)"
      ]
    },
    {
      "cell_type": "markdown",
      "metadata": {
        "id": "pQPMDDRterkR"
      },
      "source": [
        "here we are creating the pandas series, which is use the y_train data and value_counts.\n",
        "\n",
        "here we are creating the pandas series which is frequency of the each of the unique values in the y_train. here we are using the value_count() method for counting the occurance of the each unique value in y_train and passed parameter normalize=true is specifies the counts of the proportions. here we are round up the result by 2 decimal using the round() function."
      ]
    },
    {
      "cell_type": "markdown",
      "metadata": {
        "id": "hOUU_Vl3H_C7"
      },
      "source": [
        "As we can see, Decision Trees in their basic configuration are not a good model for unbalanced data! In almost every node, the biggest category has the majority and that's what the model predicts for almost every row. The accuracy then is aproximately the percentage of the biggest category: 0.5.\n",
        "\n",
        "Let's add now weights."
      ]
    },
    {
      "cell_type": "code",
      "execution_count": null,
      "metadata": {
        "colab": {
          "base_uri": "https://localhost:8080/"
        },
        "id": "qNMSnELzGMCs",
        "outputId": "1bd50449-8f8e-495d-c65c-4db76cc52528"
      },
      "outputs": [
        {
          "output_type": "stream",
          "name": "stdout",
          "text": [
            "0.437\n",
            "0.462\n"
          ]
        }
      ],
      "source": [
        "random_forest.set_params(class_weight = 'balanced')\n",
        "print(get_accuracy())\n",
        "random_forest.set_params(class_weight = 'balanced_subsample')\n",
        "print(get_accuracy())"
      ]
    },
    {
      "cell_type": "markdown",
      "metadata": {
        "id": "fJWHCj4CiE7r"
      },
      "source": [
        "here, we are tuning the hyperparameters of the random forest model by changing the value of the class weight balanced and balanced subsample. and evaluating the accuracy of the data.\n",
        "\n",
        "class weight is the parameter of the classification where the classes are balanced which means that one class is more or less then other classes.\n",
        "\n",
        "after that we are using  the class weight 'balanced sub sample'  which means  that here we are using the subset of the samples for each tree. here its use the way to improve the performance of the minoroty class.\n",
        "\n",
        "All in all, using the random forest model and using the balanced and balanced subsamples data we are calculating the accuracy score of the model.\n",
        "\n",
        "\n",
        "\n",
        "\n",
        "\n",
        "\n",
        "\n",
        "\n",
        "\n",
        "\n",
        "\n",
        "\n",
        "\n",
        "\n",
        "\n",
        "\n"
      ]
    },
    {
      "cell_type": "markdown",
      "metadata": {
        "id": "F3uxv5m9ICvp"
      },
      "source": [
        "Surprisingly or not, when using as weights the inverse of the classes proportion, the accuracy gets worst.\n",
        "\n",
        "Through the confusion matrix we can see that the model is still predicting too much 2, although now the complexity increased."
      ]
    },
    {
      "cell_type": "code",
      "execution_count": null,
      "metadata": {
        "colab": {
          "base_uri": "https://localhost:8080/",
          "height": 561
        },
        "id": "NcNQGq-1GMFC",
        "outputId": "fee87177-bbbd-4997-e97d-3adc1b95655e"
      },
      "outputs": [
        {
          "output_type": "stream",
          "name": "stderr",
          "text": [
            "<ipython-input-15-cd42ade1a659>:9: UserWarning: FixedFormatter should only be used together with FixedLocator\n",
            "  ax.set_xticklabels(['']+ labels)\n",
            "<ipython-input-15-cd42ade1a659>:10: UserWarning: FixedFormatter should only be used together with FixedLocator\n",
            "  ax.set_yticklabels(['']+ labels)\n"
          ]
        },
        {
          "output_type": "display_data",
          "data": {
            "text/plain": [
              "<Figure size 1000x500 with 2 Axes>"
            ],
            "image/png": "[encoded data removed]"
          },
          "metadata": {}
        }
      ],
      "source": [
        "labels = [i for i in range(5)]\n",
        "y_pred = pipe.predict(X_test)\n",
        "cm = confusion_matrix(y_test, y_pred)\n",
        "fig = plt.figure(figsize=(10, 5))\n",
        "ax = fig.add_subplot(111)\n",
        "cax = ax.matshow(cm)\n",
        "plt.title('Confusion matrix')\n",
        "fig.colorbar(cax)\n",
        "ax.set_xticklabels(['']+ labels)\n",
        "ax.set_yticklabels(['']+ labels)\n",
        "plt.xlabel('Predicted')\n",
        "plt.ylabel('True')\n",
        "plt.show()"
      ]
    },
    {
      "cell_type": "markdown",
      "metadata": {
        "id": "gljYM_I8mUIH"
      },
      "source": [
        "here,we are creating the confusion matrix for evaluating the performance of the model using the test dataset.\n",
        "\n",
        "first we are using the predict() method with parameter as a test set and predicte the  labels which is training the model.\n",
        "\n",
        "after that we are creating the confusion metrics by comparing the predicted label with the actual labels. the matrix which is shows the number of true positive, true negative, false positive,false negative of the each class.its also represent the how many classes are misclassified and how many classification errors are in the model.\n",
        "\n",
        "\n",
        "after that we are using the matplotlib for making the confusion matrix . we are creating the figure, adding the subplot and use matshow to display the confusion matrix as a colourful grids.\n",
        "\n",
        "at the last we are displaying the plot.show(). this will shows the performance of the model and visualize the perfomance using the confusion matrix.\n"
      ]
    },
    {
      "cell_type": "markdown",
      "metadata": {
        "id": "5QCYIfSVIGHD"
      },
      "source": [
        "We'll try also adding lemmatization and replacing the BOW with tf-idf."
      ]
    },
    {
      "cell_type": "code",
      "execution_count": null,
      "metadata": {
        "id": "LXFeyuqbGMJv"
      },
      "outputs": [],
      "source": [
        "#taken from sklearn webpage\n",
        "from nltk import word_tokenize\n",
        "from nltk.stem import WordNetLemmatizer\n",
        "class LemmaTokenizer:\n",
        "    def __init__(self):\n",
        "        self.wnl = WordNetLemmatizer()\n",
        "    def __call__(self, doc):\n",
        "        return [self.wnl.lemmatize(t) for t in word_tokenize(doc)]"
      ]
    },
    {
      "cell_type": "markdown",
      "metadata": {
        "id": "WwTdAQi6wLQJ"
      },
      "source": [
        "here, we are importing the nltk library for using the statistical methods and from the nltk we are importing the word_tokenize.\n",
        "\n",
        "after that we are importing the nltk.stem library and from this we are dimporting the wordlemmatizer which is use for the lemmatize the words in the documents.\n",
        "\n",
        "lemmatization is reducing the words into their base and root form, which is use to normalize the text data and improve the performance of the model.\n",
        "\n",
        "here _init_ method is use as the wordlemmatizer object and _Call_ method use for the lemmatize the tokens from the documents here we are using the word_Tokenize for spliting the words in to the tokens.here the lemmatize method is perform in each word to convert the word into the base and root form.\n",
        "\n",
        "here we are customize the tokenizer use in the place of the default tokenizer in different nlp operations using the python libraries.\n",
        "\n",
        "\n"
      ]
    },
    {
      "cell_type": "code",
      "execution_count": null,
      "metadata": {
        "colab": {
          "base_uri": "https://localhost:8080/"
        },
        "id": "8ZboqqgUGMM2",
        "outputId": "cf97f531-bd58-4976-a0ed-8946f5267e73"
      },
      "outputs": [
        {
          "output_type": "stream",
          "name": "stderr",
          "text": [
            "[nltk_data] Downloading package punkt to /root/nltk_data...\n",
            "[nltk_data]   Unzipping tokenizers/punkt.zip.\n",
            "[nltk_data] Downloading package wordnet to /root/nltk_data...\n",
            "/usr/local/lib/python3.9/dist-packages/sklearn/feature_extraction/text.py:528: UserWarning: The parameter 'token_pattern' will not be used since 'tokenizer' is not None'\n",
            "  warnings.warn(\n"
          ]
        },
        {
          "output_type": "execute_result",
          "data": {
            "text/plain": [
              "0.477"
            ]
          },
          "metadata": {},
          "execution_count": 17
        }
      ],
      "source": [
        "import nltk\n",
        "nltk.download('punkt')\n",
        "nltk.download('wordnet')\n",
        "pipe[0].set_params(tokenizer=LemmaTokenizer())\n",
        "get_accuracy()"
      ]
    },
    {
      "cell_type": "markdown",
      "metadata": {
        "id": "bMwR33w21fIl"
      },
      "source": [
        "here, we are majorly calculating the accuracy score of the model.\n",
        "\n",
        "first, we are importing the nltk library which is natural language toolkit which is use for performing the statistical methods.\n",
        "\n",
        "after that we are downloading the punkt for punctuations and also wordnet for processed the data.\n",
        "\n",
        "here we are using the machine learning pipeline where we are using the customize tokenizer name as a wordlemmatizer for processed the text data before its trained in the model.\n",
        "\n",
        " after that we are calculating the accuracy score of the model using the get_accuracy() method.\n",
        "\n",
        "in conclude, here we are using the machine learning pipeline that use the custom tokenizer for processed the data and now we are training the model and calculating the accuracy of the model.\n",
        "\n",
        "\n",
        "\n",
        "\n",
        "\n"
      ]
    },
    {
      "cell_type": "code",
      "execution_count": null,
      "metadata": {
        "colab": {
          "base_uri": "https://localhost:8080/"
        },
        "id": "EC_Dh7WPGpuu",
        "outputId": "02a82db1-1949-418f-93eb-689154dad363"
      },
      "outputs": [
        {
          "output_type": "execute_result",
          "data": {
            "text/plain": [
              "0.462"
            ]
          },
          "metadata": {},
          "execution_count": 19
        }
      ],
      "source": [
        "tfidf_vectorizer = TfidfVectorizer()\n",
        "pipe.steps[0] = ('vectorizer', tfidf_vectorizer)\n",
        "get_accuracy()"
      ]
    },
    {
      "cell_type": "markdown",
      "metadata": {
        "id": "M_E1WTuF1BNw"
      },
      "source": [
        "Here, we are using the tfidf vectorizer  using the machine learning pipeline.\n",
        "\n",
        "first we are using the tfidf vectorization which is use for convert the text documents intot he matrics of the numerical features which is going to be used as the input into the model.\n",
        "\n",
        "after that we are using the pipe.steps[0] which is the pipeline of the tfidf vectorizer, which is replacing any of the previous steps that is define. tfidfvectorizer() function will create and instance of the tfidfvectorizer.\n",
        "\n",
        "here tfidfvectorizer is to use for the calculate the importance of the each word from the text  by calculating the term frequency-inverse document frequency score.\n",
        "\n",
        "here at the last we are calculating the accuracy score of the model using the train and evaluation of the model using the tfdif returns data.\n"
      ]
    },
    {
      "cell_type": "markdown",
      "metadata": {
        "id": "ys8KGu-oIJxq"
      },
      "source": [
        "That is, still poor results. We'll try with boosting."
      ]
    },
    {
      "cell_type": "markdown",
      "metadata": {
        "id": "fnBWQKtCf7M6"
      },
      "source": [
        "#Tutorial-2: Basic sentiment analysis using text blob\n",
        "\n",
        "TextBlob is a Python library that provides a simple API for common natural language processing (NLP) tasks, including sentiment analysis. Sentiment analysis is the process of determining whether a piece of text expresses positive, negative, or neutral sentiment.\n",
        "\n",
        "In order to perform sentiment analysis with TextBlob, you can create a TextBlob object from a string of text, and then use the sentiment property to get a sentiment polarity score and a subjectivity score. The polarity score ranges from -1 (negative sentiment) to 1 (positive sentiment), with 0 indicating neutral sentiment. The subjectivity score ranges from 0 (objective) to 1 (subjective), representing how much the text expresses an opinion or personal feeling."
      ]
    },
    {
      "cell_type": "code",
      "execution_count": null,
      "metadata": {
        "id": "TAp37y1cf9h2"
      },
      "outputs": [],
      "source": [
        "from textblob import TextBlob"
      ]
    },
    {
      "cell_type": "markdown",
      "metadata": {
        "id": "Sx3wtiHef9Hu"
      },
      "source": [
        "here. we are importing the textblob library which is used for the performing the sentiment analysis on the text based data.\n",
        "\n",
        "\n"
      ]
    },
    {
      "cell_type": "code",
      "execution_count": null,
      "metadata": {
        "colab": {
          "base_uri": "https://localhost:8080/"
        },
        "id": "uclK6ZoSf-hJ",
        "outputId": "23a4f151-257c-43c5-a005-0d6c6ea327ca"
      },
      "outputs": [
        {
          "output_type": "stream",
          "name": "stdout",
          "text": [
            "positive\n"
          ]
        }
      ],
      "source": [
        "tweet=\"I am happy\"\n",
        "analysis = TextBlob(tweet)\n",
        "if analysis.sentiment.polarity > 0:\n",
        "  print('positive')\n",
        "elif analysis.sentiment.polarity == 0:\n",
        "  print('neutral')\n",
        "else:\n",
        "  print('negative')"
      ]
    },
    {
      "cell_type": "markdown",
      "metadata": {
        "id": "TxklvRvlgcWF"
      },
      "source": [
        "Here, we are using the textblob library for perform the sentiment analysis on the given tweets.\n",
        "first we are creating the object of the textblob and passing the parameter as a tweets.\n",
        "after that we are using the sentiment polarity of the sentiment where polarity > 0 then its positive and if polarity ==0 then its neutral else negative.\n",
        "\n",
        "here in this code sentence is \"I m happy\" so sentiment polarity is positive so the output return as a \"positive\".\n",
        "\n"
      ]
    },
    {
      "cell_type": "markdown",
      "metadata": {
        "id": "sr4_2ByTY46q"
      },
      "source": [
        "#Translation in Python\n",
        "\n",
        "Translation in Python refers to the process of converting text from one language to another using programming tools and techniques.\n",
        "\n",
        "One popular library for performing translation in Python is the translate module. This library provides a simple interface for translating text using various translation services, such as Google Translate, Microsoft Translator, and Yandex.Translate."
      ]
    },
    {
      "cell_type": "code",
      "execution_count": null,
      "metadata": {
        "colab": {
          "base_uri": "https://localhost:8080/"
        },
        "id": "XIyn3qNjPptb",
        "outputId": "48a4485c-1265-4503-8f68-b0f81a85f925"
      },
      "outputs": [
        {
          "output_type": "stream",
          "name": "stdout",
          "text": [
            "Looking in indexes: https://pypi.org/simple, https://us-python.pkg.dev/colab-wheels/public/simple/\n",
            "Collecting translate\n",
            "  Downloading translate-3.6.1-py2.py3-none-any.whl (12 kB)\n",
            "Requirement already satisfied: click in /usr/local/lib/python3.9/dist-packages (from translate) (8.1.3)\n",
            "Requirement already satisfied: requests in /usr/local/lib/python3.9/dist-packages (from translate) (2.27.1)\n",
            "Requirement already satisfied: lxml in /usr/local/lib/python3.9/dist-packages (from translate) (4.9.2)\n",
            "Collecting libretranslatepy==2.1.1\n",
            "  Downloading libretranslatepy-2.1.1-py3-none-any.whl (3.2 kB)\n",
            "Requirement already satisfied: urllib3<1.27,>=1.21.1 in /usr/local/lib/python3.9/dist-packages (from requests->translate) (1.26.15)\n",
            "Requirement already satisfied: certifi>=2017.4.17 in /usr/local/lib/python3.9/dist-packages (from requests->translate) (2022.12.7)\n",
            "Requirement already satisfied: charset-normalizer~=2.0.0 in /usr/local/lib/python3.9/dist-packages (from requests->translate) (2.0.12)\n",
            "Requirement already satisfied: idna<4,>=2.5 in /usr/local/lib/python3.9/dist-packages (from requests->translate) (3.4)\n",
            "Installing collected packages: libretranslatepy, translate\n",
            "Successfully installed libretranslatepy-2.1.1 translate-3.6.1\n"
          ]
        }
      ],
      "source": [
        "pip install translate"
      ]
    },
    {
      "cell_type": "markdown",
      "metadata": {
        "id": "fZjVOnAghbSo"
      },
      "source": [
        "we are installing the translate library using the \"!pip install translate\" which is used for the translating the text using the different kind of the translation engines.\n",
        "\n"
      ]
    },
    {
      "cell_type": "code",
      "execution_count": null,
      "metadata": {
        "colab": {
          "base_uri": "https://localhost:8080/"
        },
        "id": "QthCigfgRSSn",
        "outputId": "53c96471-c927-4539-96ac-f6b3e7ba106c"
      },
      "outputs": [
        {
          "output_type": "stream",
          "name": "stdout",
          "text": [
            "Hello dear sponsor, how are you?\n"
          ]
        }
      ],
      "source": [
        "from translate import Translator\n",
        "\n",
        "translator = Translator(from_lang=\"spanish\", to_lang=\"english\")\n",
        "translation = translator.translate(\"Hola. ¿Cómo estás?\")\n",
        "print(translation)\n"
      ]
    },
    {
      "cell_type": "markdown",
      "metadata": {
        "id": "Q0ZfisgmhxX8"
      },
      "source": [
        "here, we are translating the spanish text into the english text using the translator.\n",
        "for that we are first importing the translator which is the  translator engines for translating text.\n",
        "after that we are creating the object of the translator and we are providing two parameter first is the from_lang=\"spanish\" which is represent in which language sentence is right now and another one is the to_lang=\"english\" which represent that in which langauge we want to translate.\n",
        "\n",
        "after specifying the from and to languages, now we are calling the translate() method from the translator and for that in this method we are passing the sentence of the spenish which is now perform the translating task and convert the sentence into the english.and stored the translated text into the variable translation.\n",
        "\n",
        "at the last we are printing the translated text using the print() with variable translation.\n",
        "\n",
        "\n",
        "\n",
        "\n"
      ]
    },
    {
      "cell_type": "markdown",
      "metadata": {
        "id": "HZSnTYwQJXdS"
      },
      "source": [
        "# Task 2 (25 points)\n",
        "\n",
        "Write a Python program to perform sentiment analysis on the given spanish text below. You can either use a pre-trained spanish sentiment analysis model or implement your own. Your program should output the overall sentiment of the text as well as the sentiment of each sentence individually"
      ]
    },
    {
      "cell_type": "code",
      "execution_count": null,
      "metadata": {
        "id": "RaxqygzaOclw"
      },
      "outputs": [],
      "source": [
        "spanish_text = \"Anoche tuve una experiencia increíble en el restaurante. La comida era deliciosa y el servicio fue impecable. Nuestro camarero fue muy amable y atento, e hizo excelentes recomendaciones del menú. El ambiente del restaurante también era maravilloso, con una bonita decoración y un ambiente acogedor. En general, recomendaría encarecidamente este restaurante a cualquiera que busque una experiencia gastronómica fantástica.\""
      ]
    },
    {
      "cell_type": "markdown",
      "metadata": {
        "id": "cdoHTKOljSav"
      },
      "source": [
        "here, we are passing the spanish text into one variable called as spanish_text.this text we will use for performing the sentiment analysis model."
      ]
    },
    {
      "cell_type": "code",
      "execution_count": null,
      "metadata": {
        "colab": {
          "base_uri": "https://localhost:8080/",
          "height": 936
        },
        "id": "gN7Fsz1Ll9KH",
        "outputId": "32f2a80d-3614-4ab3-c2f7-4c0adbccd5da"
      },
      "outputs": [
        {
          "output_type": "stream",
          "name": "stdout",
          "text": [
            "Looking in indexes: https://pypi.org/simple, https://us-python.pkg.dev/colab-wheels/public/simple/\n",
            "Collecting googletrans==4.0.0-rc1\n",
            "  Downloading googletrans-4.0.0rc1.tar.gz (20 kB)\n",
            "  Preparing metadata (setup.py) ... \u001b[?25l\u001b[?25hdone\n",
            "Collecting httpx==0.13.3\n",
            "  Downloading httpx-0.13.3-py3-none-any.whl (55 kB)\n",
            "\u001b[2K     \u001b[90m━━━━━━━━━━━━━━━━━━━━━━━━━━━━━━━━━━━━━━━━\u001b[0m \u001b[32m55.1/55.1 kB\u001b[0m \u001b[31m6.7 MB/s\u001b[0m eta \u001b[36m0:00:00\u001b[0m\n",
            "\u001b[?25hRequirement already satisfied: certifi in /usr/local/lib/python3.9/dist-packages (from httpx==0.13.3->googletrans==4.0.0-rc1) (2022.12.7)\n",
            "Collecting httpcore==0.9.*\n",
            "  Downloading httpcore-0.9.1-py3-none-any.whl (42 kB)\n",
            "\u001b[2K     \u001b[90m━━━━━━━━━━━━━━━━━━━━━━━━━━━━━━━━━━━━━━━━\u001b[0m \u001b[32m42.6/42.6 kB\u001b[0m \u001b[31m5.7 MB/s\u001b[0m eta \u001b[36m0:00:00\u001b[0m\n",
            "\u001b[?25hCollecting hstspreload\n",
            "  Downloading hstspreload-2023.1.1-py3-none-any.whl (1.5 MB)\n",
            "\u001b[2K     \u001b[90m━━━━━━━━━━━━━━━━━━━━━━━━━━━━━━━━━━━━━━━━\u001b[0m \u001b[32m1.5/1.5 MB\u001b[0m \u001b[31m46.0 MB/s\u001b[0m eta \u001b[36m0:00:00\u001b[0m\n",
            "\u001b[?25hCollecting chardet==3.*\n",
            "  Downloading chardet-3.0.4-py2.py3-none-any.whl (133 kB)\n",
            "\u001b[2K     \u001b[90m━━━━━━━━━━━━━━━━━━━━━━━━━━━━━━━━━━━━━━\u001b[0m \u001b[32m133.4/133.4 kB\u001b[0m \u001b[31m16.8 MB/s\u001b[0m eta \u001b[36m0:00:00\u001b[0m\n",
            "\u001b[?25hRequirement already satisfied: sniffio in /usr/local/lib/python3.9/dist-packages (from httpx==0.13.3->googletrans==4.0.0-rc1) (1.3.0)\n",
            "Collecting idna==2.*\n",
            "  Downloading idna-2.10-py2.py3-none-any.whl (58 kB)\n",
            "\u001b[2K     \u001b[90m━━━━━━━━━━━━━━━━━━━━━━━━━━━━━━━━━━━━━━━━\u001b[0m \u001b[32m58.8/58.8 kB\u001b[0m \u001b[31m7.7 MB/s\u001b[0m eta \u001b[36m0:00:00\u001b[0m\n",
            "\u001b[?25hCollecting rfc3986<2,>=1.3\n",
            "  Downloading rfc3986-1.5.0-py2.py3-none-any.whl (31 kB)\n",
            "Collecting h11<0.10,>=0.8\n",
            "  Downloading h11-0.9.0-py2.py3-none-any.whl (53 kB)\n",
            "\u001b[2K     \u001b[90m━━━━━━━━━━━━━━━━━━━━━━━━━━━━━━━━━━━━━━━━\u001b[0m \u001b[32m53.6/53.6 kB\u001b[0m \u001b[31m7.4 MB/s\u001b[0m eta \u001b[36m0:00:00\u001b[0m\n",
            "\u001b[?25hCollecting h2==3.*\n",
            "  Downloading h2-3.2.0-py2.py3-none-any.whl (65 kB)\n",
            "\u001b[2K     \u001b[90m━━━━━━━━━━━━━━━━━━━━━━━━━━━━━━━━━━━━━━━━\u001b[0m \u001b[32m65.0/65.0 kB\u001b[0m \u001b[31m8.8 MB/s\u001b[0m eta \u001b[36m0:00:00\u001b[0m\n",
            "\u001b[?25hCollecting hyperframe<6,>=5.2.0\n",
            "  Downloading hyperframe-5.2.0-py2.py3-none-any.whl (12 kB)\n",
            "Collecting hpack<4,>=3.0\n",
            "  Downloading hpack-3.0.0-py2.py3-none-any.whl (38 kB)\n",
            "Building wheels for collected packages: googletrans\n",
            "  Building wheel for googletrans (setup.py) ... \u001b[?25l\u001b[?25hdone\n",
            "  Created wheel for googletrans: filename=googletrans-4.0.0rc1-py3-none-any.whl size=17413 sha256=8dcaa0abd230d54e0b685496db97060707e0f492fff779023f8969203a22bcec\n",
            "  Stored in directory: /root/.cache/pip/wheels/60/b3/27/d8aff3e2d5c2d0d97a117cdf0d5f13cd121e2c2b5fb49b55a0\n",
            "Successfully built googletrans\n",
            "Installing collected packages: rfc3986, hyperframe, hpack, h11, chardet, idna, hstspreload, h2, httpcore, httpx, googletrans\n",
            "  Attempting uninstall: chardet\n",
            "    Found existing installation: chardet 4.0.0\n",
            "    Uninstalling chardet-4.0.0:\n",
            "      Successfully uninstalled chardet-4.0.0\n",
            "  Attempting uninstall: idna\n",
            "    Found existing installation: idna 3.4\n",
            "    Uninstalling idna-3.4:\n",
            "      Successfully uninstalled idna-3.4\n",
            "Successfully installed chardet-3.0.4 googletrans-4.0.0rc1 h11-0.9.0 h2-3.2.0 hpack-3.0.0 hstspreload-2023.1.1 httpcore-0.9.1 httpx-0.13.3 hyperframe-5.2.0 idna-2.10 rfc3986-1.5.0\n"
          ]
        },
        {
          "output_type": "display_data",
          "data": {
            "application/vnd.colab-display-data+json": {
              "pip_warning": {
                "packages": [
                  "chardet",
                  "idna"
                ]
              }
            }
          },
          "metadata": {}
        }
      ],
      "source": [
        "!pip install googletrans==4.0.0-rc1\n"
      ]
    },
    {
      "cell_type": "markdown",
      "metadata": {
        "id": "vVANUudEjpwF"
      },
      "source": [
        "Here, we are installing the library \"!pip install googletrans==4.0.0-rc1\" here we are specifying the version also which is used for the translating the text with dufferent languages using the google translate APIs.\n",
        "\n"
      ]
    },
    {
      "cell_type": "code",
      "execution_count": null,
      "metadata": {
        "colab": {
          "base_uri": "https://localhost:8080/"
        },
        "id": "k6wWhOwunxon",
        "outputId": "afc4400c-6fe7-444a-9d6b-b23db98c6abf"
      },
      "outputs": [
        {
          "output_type": "stream",
          "name": "stdout",
          "text": [
            "Overall sentiment of the Spanish text: positive\n",
            "Overall sentiment of the English text: positive\n",
            "Sentiment by sentence in the Spanish text:\n",
            "Anoche tuve una experiencia increíble en el restaurante. : neutral\n",
            "La comida era deliciosa y el servicio fue impecable. : neutral\n",
            "Nuestro camarero fue muy amable y atento, e hizo excelentes recomendaciones del menú. : neutral\n",
            "El ambiente del restaurante también era maravilloso, con una bonita decoración y un ambiente acogedor. : neutral\n",
            "En general, recomendaría encarecidamente este restaurante a cualquiera que busque una experiencia gastronómica fantástica. : positive\n",
            " \n",
            "Sentiment by sentence in the English text:\n",
            "Last night I had an incredible experience in the restaurant.The food was delicious and the service was impeccable.Our waiter was very friendly and attentive, and made excellent recommendations of the menu.The restaurant atmosphere was also wonderful, with a beautiful decoration and a cozy atmosphere.In general, I would strongly recommend this restaurant to anyone looking for a fantastic gastronomic experience. : positive\n"
          ]
        }
      ],
      "source": [
        "from textblob import TextBlob\n",
        "from googletrans import Translator\n",
        "\n",
        "# The given Spanish text\n",
        "spanish_text = \"Anoche tuve una experiencia increíble en el restaurante. La comida era deliciosa y el servicio fue impecable. Nuestro camarero fue muy amable y atento, e hizo excelentes recomendaciones del menú. El ambiente del restaurante también era maravilloso, con una bonita decoración y un ambiente acogedor. En general, recomendaría encarecidamente este restaurante a cualquiera que busque una experiencia gastronómica fantástica.\"\n",
        "\n",
        "# Create a translator object\n",
        "translator = Translator()\n",
        "\n",
        "# Translate the text to English\n",
        "english_text = translator.translate(spanish_text, dest='en').text\n",
        "\n",
        "# Create a TextBlob object for the Spanish text\n",
        "spanish_blob = TextBlob(spanish_text)\n",
        "\n",
        "# Get the sentiment of the Spanish text\n",
        "spanish_polarity = spanish_blob.sentiment.polarity\n",
        "\n",
        "# Create a TextBlob object for the English text\n",
        "english_blob = TextBlob(english_text)\n",
        "\n",
        "# Get the sentiment of the English text\n",
        "english_polarity = english_blob.sentiment.polarity\n",
        "\n",
        "# Print the overall sentiment of the Spanish text and the English text\n",
        "print(\"Overall sentiment of the Spanish text:\", \"positive\" if spanish_polarity > 0 else \"negative\" if spanish_polarity < 0 else \"neutral\")\n",
        "print(\"Overall sentiment of the English text:\", \"positive\" if english_polarity > 0 else \"negative\" if english_polarity < 0 else \"neutral\")\n",
        "\n",
        "# Get the sentiment of each sentence and classify it as positive, negative, or neutral\n",
        "sentiment_by_sentence = {}\n",
        "for sentence in spanish_blob.sentences:\n",
        "    sentence_polarity = sentence.sentiment.polarity\n",
        "    if sentence_polarity > 0:\n",
        "        sentiment_by_sentence[str(sentence)] = 'positive'\n",
        "    elif sentence_polarity < 0:\n",
        "        sentiment_by_sentence[str(sentence)] = 'negative'\n",
        "    else:\n",
        "        sentiment_by_sentence[str(sentence)] = 'neutral'\n",
        "\n",
        "# Print the sentiment of each sentence in the Spanish text\n",
        "print(\"Sentiment by sentence in the Spanish text:\")\n",
        "for sentence, sentiment in sentiment_by_sentence.items():\n",
        "    print(sentence, \":\", sentiment)\n",
        "\n",
        "# Get the sentiment of each sentence and classify it as positive, negative, or neutral\n",
        "sentiment_by_sentence = {}\n",
        "for sentence in english_blob.sentences:\n",
        "    sentence_polarity = sentence.sentiment.polarity\n",
        "    if sentence_polarity > 0:\n",
        "        sentiment_by_sentence[str(sentence)] = 'positive'\n",
        "    elif sentence_polarity < 0:\n",
        "        sentiment_by_sentence[str(sentence)] = 'negative'\n",
        "    else:\n",
        "        sentiment_by_sentence[str(sentence)] = 'neutral'\n",
        "\n",
        "# Print the sentiment of each sentence in the English text\n",
        "print(\" \")\n",
        "print(\"Sentiment by sentence in the English text:\")\n",
        "for sentence, sentiment in sentiment_by_sentence.items():\n",
        "    print(sentence, \":\", sentiment)\n"
      ]
    },
    {
      "cell_type": "markdown",
      "metadata": {
        "id": "_EAaveIknB18"
      },
      "source": [
        "her we are using the two different libraries for the natural language processing textblob and googletrans for performing the sentiment analysis on the provided spanish text.\n",
        "\n",
        "first we are creating the translator object form the googletrans to translate the spenish text into the english.\n",
        "\n",
        "here we are using the textblob for performing the translation on the spanish text on the original spanish text and also translate the english text.\n",
        "\n",
        "and we print the overall sentiment of the text, along with the sentiment of the each sentence in the each text. here we classify text into theree different parts which is positive, negative and neutral.\n",
        "\n",
        "the main aim is here to see the use of textblob library and googletrans libraries for performing the sentiment analysison spanish text.which is going to useful for reading and understanding the sentiment of the social media posts, customer reviews.\n",
        "\n",
        "\n"
      ]
    },
    {
      "cell_type": "code",
      "execution_count": null,
      "metadata": {
        "colab": {
          "base_uri": "https://localhost:8080/"
        },
        "id": "whAi8UUbpiMT",
        "outputId": "ae63dabc-ac4c-4015-bede-3504355e658b"
      },
      "outputs": [
        {
          "output_type": "stream",
          "name": "stdout",
          "text": [
            "Looking in indexes: https://pypi.org/simple, https://us-python.pkg.dev/colab-wheels/public/simple/\n",
            "Collecting flair\n",
            "  Downloading flair-0.12.2-py3-none-any.whl (373 kB)\n",
            "\u001b[2K     \u001b[90m━━━━━━━━━━━━━━━━━━━━━━━━━━━━━━━━━━━━━━\u001b[0m \u001b[32m373.1/373.1 kB\u001b[0m \u001b[31m11.4 MB/s\u001b[0m eta \u001b[36m0:00:00\u001b[0m\n",
            "\u001b[?25hCollecting langdetect\n",
            "  Downloading langdetect-1.0.9.tar.gz (981 kB)\n",
            "\u001b[2K     \u001b[90m━━━━━━━━━━━━━━━━━━━━━━━━━━━━━━━━━━━━━━\u001b[0m \u001b[32m981.5/981.5 kB\u001b[0m \u001b[31m38.4 MB/s\u001b[0m eta \u001b[36m0:00:00\u001b[0m\n",
            "\u001b[?25h  Preparing metadata (setup.py) ... \u001b[?25l\u001b[?25hdone\n",
            "Requirement already satisfied: huggingface-hub>=0.10.0 in /usr/local/lib/python3.9/dist-packages (from flair) (0.13.4)\n",
            "Requirement already satisfied: python-dateutil>=2.6.1 in /usr/local/lib/python3.9/dist-packages (from flair) (2.8.2)\n",
            "Requirement already satisfied: tabulate in /usr/local/lib/python3.9/dist-packages (from flair) (0.8.10)\n",
            "Collecting conllu>=4.0\n",
            "  Downloading conllu-4.5.2-py2.py3-none-any.whl (16 kB)\n",
            "Requirement already satisfied: regex in /usr/local/lib/python3.9/dist-packages (from flair) (2022.10.31)\n",
            "Collecting wikipedia-api\n",
            "  Downloading Wikipedia_API-0.5.8-py3-none-any.whl (13 kB)\n",
            "Collecting bpemb>=0.3.2\n",
            "  Downloading bpemb-0.3.4-py3-none-any.whl (19 kB)\n",
            "Requirement already satisfied: matplotlib>=2.2.3 in /usr/local/lib/python3.9/dist-packages (from flair) (3.7.1)\n",
            "Collecting ftfy\n",
            "  Downloading ftfy-6.1.1-py3-none-any.whl (53 kB)\n",
            "\u001b[2K     \u001b[90m━━━━━━━━━━━━━━━━━━━━━━━━━━━━━━━━━━━━━━━━\u001b[0m \u001b[32m53.1/53.1 kB\u001b[0m \u001b[31m5.1 MB/s\u001b[0m eta \u001b[36m0:00:00\u001b[0m\n",
            "\u001b[?25hCollecting janome\n",
            "  Downloading Janome-0.4.2-py2.py3-none-any.whl (19.7 MB)\n",
            "\u001b[2K     \u001b[90m━━━━━━━━━━━━━━━━━━━━━━━━━━━━━━━━━━━━━━━━\u001b[0m \u001b[32m19.7/19.7 MB\u001b[0m \u001b[31m25.2 MB/s\u001b[0m eta \u001b[36m0:00:00\u001b[0m\n",
            "\u001b[?25hCollecting transformer-smaller-training-vocab>=0.2.1\n",
            "  Downloading transformer_smaller_training_vocab-0.2.3-py3-none-any.whl (12 kB)\n",
            "Collecting mpld3==0.3\n",
            "  Downloading mpld3-0.3.tar.gz (788 kB)\n",
            "\u001b[2K     \u001b[90m━━━━━━━━━━━━━━━━━━━━━━━━━━━━━━━━━━━━━━\u001b[0m \u001b[32m788.5/788.5 kB\u001b[0m \u001b[31m36.9 MB/s\u001b[0m eta \u001b[36m0:00:00\u001b[0m\n",
            "\u001b[?25h  Preparing metadata (setup.py) ... \u001b[?25l\u001b[?25hdone\n",
            "Requirement already satisfied: gensim>=3.8.0 in /usr/local/lib/python3.9/dist-packages (from flair) (4.3.1)\n",
            "Collecting deprecated>=1.2.4\n",
            "  Downloading Deprecated-1.2.13-py2.py3-none-any.whl (9.6 kB)\n",
            "Collecting gdown==4.4.0\n",
            "  Downloading gdown-4.4.0.tar.gz (14 kB)\n",
            "  Installing build dependencies ... \u001b[?25l\u001b[?25hdone\n",
            "  Getting requirements to build wheel ... \u001b[?25l\u001b[?25hdone\n",
            "  Preparing metadata (pyproject.toml) ... \u001b[?25l\u001b[?25hdone\n",
            "Requirement already satisfied: more-itertools in /usr/local/lib/python3.9/dist-packages (from flair) (9.1.0)\n",
            "Requirement already satisfied: torch!=1.8,>=1.5.0 in /usr/local/lib/python3.9/dist-packages (from flair) (2.0.0+cu118)\n",
            "Requirement already satisfied: transformers[sentencepiece]>=4.18.0 in /usr/local/lib/python3.9/dist-packages (from flair) (4.27.4)\n",
            "Requirement already satisfied: scikit-learn>=0.21.3 in /usr/local/lib/python3.9/dist-packages (from flair) (1.2.2)\n",
            "Collecting pytorch-revgrad\n",
            "  Downloading pytorch_revgrad-0.2.0-py3-none-any.whl (4.6 kB)\n",
            "Requirement already satisfied: tqdm>=4.26.0 in /usr/local/lib/python3.9/dist-packages (from flair) (4.65.0)\n",
            "Collecting sqlitedict>=1.6.0\n",
            "  Downloading sqlitedict-2.1.0.tar.gz (21 kB)\n",
            "  Preparing metadata (setup.py) ... \u001b[?25l\u001b[?25hdone\n",
            "Collecting pptree\n",
            "  Downloading pptree-3.1.tar.gz (3.0 kB)\n",
            "  Preparing metadata (setup.py) ... \u001b[?25l\u001b[?25hdone\n",
            "Collecting boto3\n",
            "  Downloading boto3-1.26.110-py3-none-any.whl (135 kB)\n",
            "\u001b[2K     \u001b[90m━━━━━━━━━━━━━━━━━━━━━━━━━━━━━━━━━━━━━━\u001b[0m \u001b[32m135.6/135.6 kB\u001b[0m \u001b[31m15.9 MB/s\u001b[0m eta \u001b[36m0:00:00\u001b[0m\n",
            "\u001b[?25hRequirement already satisfied: lxml in /usr/local/lib/python3.9/dist-packages (from flair) (4.9.2)\n",
            "Collecting segtok>=1.5.7\n",
            "  Downloading segtok-1.5.11-py3-none-any.whl (24 kB)\n",
            "Requirement already satisfied: hyperopt>=0.2.7 in /usr/local/lib/python3.9/dist-packages (from flair) (0.2.7)\n",
            "Requirement already satisfied: beautifulsoup4 in /usr/local/lib/python3.9/dist-packages (from gdown==4.4.0->flair) (4.11.2)\n",
            "Requirement already satisfied: six in /usr/local/lib/python3.9/dist-packages (from gdown==4.4.0->flair) (1.16.0)\n",
            "Requirement already satisfied: filelock in /usr/local/lib/python3.9/dist-packages (from gdown==4.4.0->flair) (3.11.0)\n",
            "Requirement already satisfied: requests[socks] in /usr/local/lib/python3.9/dist-packages (from gdown==4.4.0->flair) (2.27.1)\n",
            "Collecting sentencepiece\n",
            "  Downloading sentencepiece-0.1.97-cp39-cp39-manylinux_2_17_x86_64.manylinux2014_x86_64.whl (1.3 MB)\n",
            "\u001b[2K     \u001b[90m━━━━━━━━━━━━━━━━━━━━━━━━━━━━━━━━━━━━━━━━\u001b[0m \u001b[32m1.3/1.3 MB\u001b[0m \u001b[31m84.5 MB/s\u001b[0m eta \u001b[36m0:00:00\u001b[0m\n",
            "\u001b[?25hRequirement already satisfied: numpy in /usr/local/lib/python3.9/dist-packages (from bpemb>=0.3.2->flair) (1.22.4)\n",
            "Requirement already satisfied: wrapt<2,>=1.10 in /usr/local/lib/python3.9/dist-packages (from deprecated>=1.2.4->flair) (1.14.1)\n",
            "Requirement already satisfied: smart-open>=1.8.1 in /usr/local/lib/python3.9/dist-packages (from gensim>=3.8.0->flair) (6.3.0)\n",
            "Requirement already satisfied: scipy>=1.7.0 in /usr/local/lib/python3.9/dist-packages (from gensim>=3.8.0->flair) (1.10.1)\n",
            "Requirement already satisfied: typing-extensions>=3.7.4.3 in /usr/local/lib/python3.9/dist-packages (from huggingface-hub>=0.10.0->flair) (4.5.0)\n",
            "Requirement already satisfied: packaging>=20.9 in /usr/local/lib/python3.9/dist-packages (from huggingface-hub>=0.10.0->flair) (23.0)\n",
            "Requirement already satisfied: pyyaml>=5.1 in /usr/local/lib/python3.9/dist-packages (from huggingface-hub>=0.10.0->flair) (6.0)\n",
            "Requirement already satisfied: py4j in /usr/local/lib/python3.9/dist-packages (from hyperopt>=0.2.7->flair) (0.10.9.7)\n",
            "Requirement already satisfied: cloudpickle in /usr/local/lib/python3.9/dist-packages (from hyperopt>=0.2.7->flair) (2.2.1)\n",
            "Requirement already satisfied: future in /usr/local/lib/python3.9/dist-packages (from hyperopt>=0.2.7->flair) (0.18.3)\n",
            "Requirement already satisfied: networkx>=2.2 in /usr/local/lib/python3.9/dist-packages (from hyperopt>=0.2.7->flair) (3.1)\n",
            "Requirement already satisfied: pyparsing>=2.3.1 in /usr/local/lib/python3.9/dist-packages (from matplotlib>=2.2.3->flair) (3.0.9)\n",
            "Requirement already satisfied: pillow>=6.2.0 in /usr/local/lib/python3.9/dist-packages (from matplotlib>=2.2.3->flair) (8.4.0)\n",
            "Requirement already satisfied: contourpy>=1.0.1 in /usr/local/lib/python3.9/dist-packages (from matplotlib>=2.2.3->flair) (1.0.7)\n",
            "Requirement already satisfied: importlib-resources>=3.2.0 in /usr/local/lib/python3.9/dist-packages (from matplotlib>=2.2.3->flair) (5.12.0)\n",
            "Requirement already satisfied: fonttools>=4.22.0 in /usr/local/lib/python3.9/dist-packages (from matplotlib>=2.2.3->flair) (4.39.3)\n",
            "Requirement already satisfied: cycler>=0.10 in /usr/local/lib/python3.9/dist-packages (from matplotlib>=2.2.3->flair) (0.11.0)\n",
            "Requirement already satisfied: kiwisolver>=1.0.1 in /usr/local/lib/python3.9/dist-packages (from matplotlib>=2.2.3->flair) (1.4.4)\n",
            "Requirement already satisfied: threadpoolctl>=2.0.0 in /usr/local/lib/python3.9/dist-packages (from scikit-learn>=0.21.3->flair) (3.1.0)\n",
            "Requirement already satisfied: joblib>=1.1.1 in /usr/local/lib/python3.9/dist-packages (from scikit-learn>=0.21.3->flair) (1.2.0)\n",
            "Requirement already satisfied: triton==2.0.0 in /usr/local/lib/python3.9/dist-packages (from torch!=1.8,>=1.5.0->flair) (2.0.0)\n",
            "Requirement already satisfied: jinja2 in /usr/local/lib/python3.9/dist-packages (from torch!=1.8,>=1.5.0->flair) (3.1.2)\n",
            "Requirement already satisfied: sympy in /usr/local/lib/python3.9/dist-packages (from torch!=1.8,>=1.5.0->flair) (1.11.1)\n",
            "Requirement already satisfied: cmake in /usr/local/lib/python3.9/dist-packages (from triton==2.0.0->torch!=1.8,>=1.5.0->flair) (3.25.2)\n",
            "Requirement already satisfied: lit in /usr/local/lib/python3.9/dist-packages (from triton==2.0.0->torch!=1.8,>=1.5.0->flair) (16.0.0)\n",
            "Collecting datasets<3.0.0,>=2.0.0\n",
            "  Downloading datasets-2.11.0-py3-none-any.whl (468 kB)\n",
            "\u001b[2K     \u001b[90m━━━━━━━━━━━━━━━━━━━━━━━━━━━━━━━━━━━━━━\u001b[0m \u001b[32m468.7/468.7 kB\u001b[0m \u001b[31m49.7 MB/s\u001b[0m eta \u001b[36m0:00:00\u001b[0m\n",
            "\u001b[?25hRequirement already satisfied: tokenizers!=0.11.3,<0.14,>=0.11.1 in /usr/local/lib/python3.9/dist-packages (from transformers[sentencepiece]>=4.18.0->flair) (0.13.3)\n",
            "Collecting protobuf<=3.20.2\n",
            "  Downloading protobuf-3.20.2-cp39-cp39-manylinux_2_5_x86_64.manylinux1_x86_64.whl (1.0 MB)\n",
            "\u001b[2K     \u001b[90m━━━━━━━━━━━━━━━━━━━━━━━━━━━━━━━━━━━━━━━━\u001b[0m \u001b[32m1.0/1.0 MB\u001b[0m \u001b[31m63.4 MB/s\u001b[0m eta \u001b[36m0:00:00\u001b[0m\n",
            "\u001b[?25hCollecting botocore<1.30.0,>=1.29.110\n",
            "  Downloading botocore-1.29.111-py3-none-any.whl (10.6 MB)\n",
            "\u001b[2K     \u001b[90m━━━━━━━━━━━━━━━━━━━━━━━━━━━━━━━━━━━━━━━━\u001b[0m \u001b[32m10.6/10.6 MB\u001b[0m \u001b[31m75.1 MB/s\u001b[0m eta \u001b[36m0:00:00\u001b[0m\n",
            "\u001b[?25hCollecting s3transfer<0.7.0,>=0.6.0\n",
            "  Downloading s3transfer-0.6.0-py3-none-any.whl (79 kB)\n",
            "\u001b[2K     \u001b[90m━━━━━━━━━━━━━━━━━━━━━━━━━━━━━━━━━━━━━━━━\u001b[0m \u001b[32m79.6/79.6 kB\u001b[0m \u001b[31m9.7 MB/s\u001b[0m eta \u001b[36m0:00:00\u001b[0m\n",
            "\u001b[?25hCollecting jmespath<2.0.0,>=0.7.1\n",
            "  Downloading jmespath-1.0.1-py3-none-any.whl (20 kB)\n",
            "Requirement already satisfied: wcwidth>=0.2.5 in /usr/local/lib/python3.9/dist-packages (from ftfy->flair) (0.2.6)\n",
            "Requirement already satisfied: urllib3<1.27,>=1.25.4 in /usr/local/lib/python3.9/dist-packages (from botocore<1.30.0,>=1.29.110->boto3->flair) (1.26.15)\n",
            "Requirement already satisfied: fsspec[http]>=2021.11.1 in /usr/local/lib/python3.9/dist-packages (from datasets<3.0.0,>=2.0.0->transformer-smaller-training-vocab>=0.2.1->flair) (2023.3.0)\n",
            "Requirement already satisfied: pandas in /usr/local/lib/python3.9/dist-packages (from datasets<3.0.0,>=2.0.0->transformer-smaller-training-vocab>=0.2.1->flair) (1.5.3)\n",
            "Collecting xxhash\n",
            "  Downloading xxhash-3.2.0-cp39-cp39-manylinux_2_17_x86_64.manylinux2014_x86_64.whl (212 kB)\n",
            "\u001b[2K     \u001b[90m━━━━━━━━━━━━━━━━━━━━━━━━━━━━━━━━━━━━━━\u001b[0m \u001b[32m212.2/212.2 kB\u001b[0m \u001b[31m23.6 MB/s\u001b[0m eta \u001b[36m0:00:00\u001b[0m\n",
            "\u001b[?25hCollecting aiohttp\n",
            "  Downloading aiohttp-3.8.4-cp39-cp39-manylinux_2_17_x86_64.manylinux2014_x86_64.whl (1.0 MB)\n",
            "\u001b[2K     \u001b[90m━━━━━━━━━━━━━━━━━━━━━━━━━━━━━━━━━━━━━━━━\u001b[0m \u001b[32m1.0/1.0 MB\u001b[0m \u001b[31m42.7 MB/s\u001b[0m eta \u001b[36m0:00:00\u001b[0m\n",
            "\u001b[?25hCollecting responses<0.19\n",
            "  Downloading responses-0.18.0-py3-none-any.whl (38 kB)\n",
            "Collecting dill<0.3.7,>=0.3.0\n",
            "  Downloading dill-0.3.6-py3-none-any.whl (110 kB)\n",
            "\u001b[2K     \u001b[90m━━━━━━━━━━━━━━━━━━━━━━━━━━━━━━━━━━━━━━\u001b[0m \u001b[32m110.5/110.5 kB\u001b[0m \u001b[31m13.6 MB/s\u001b[0m eta \u001b[36m0:00:00\u001b[0m\n",
            "\u001b[?25hCollecting multiprocess\n",
            "  Downloading multiprocess-0.70.14-py39-none-any.whl (132 kB)\n",
            "\u001b[2K     \u001b[90m━━━━━━━━━━━━━━━━━━━━━━━━━━━━━━━━━━━━━━\u001b[0m \u001b[32m132.9/132.9 kB\u001b[0m \u001b[31m10.0 MB/s\u001b[0m eta \u001b[36m0:00:00\u001b[0m\n",
            "\u001b[?25hRequirement already satisfied: pyarrow>=8.0.0 in /usr/local/lib/python3.9/dist-packages (from datasets<3.0.0,>=2.0.0->transformer-smaller-training-vocab>=0.2.1->flair) (9.0.0)\n",
            "Requirement already satisfied: zipp>=3.1.0 in /usr/local/lib/python3.9/dist-packages (from importlib-resources>=3.2.0->matplotlib>=2.2.3->flair) (3.15.0)\n",
            "Requirement already satisfied: charset-normalizer~=2.0.0 in /usr/local/lib/python3.9/dist-packages (from requests[socks]->gdown==4.4.0->flair) (2.0.12)\n",
            "Requirement already satisfied: idna<4,>=2.5 in /usr/local/lib/python3.9/dist-packages (from requests[socks]->gdown==4.4.0->flair) (2.10)\n",
            "Requirement already satisfied: certifi>=2017.4.17 in /usr/local/lib/python3.9/dist-packages (from requests[socks]->gdown==4.4.0->flair) (2022.12.7)\n",
            "Requirement already satisfied: soupsieve>1.2 in /usr/local/lib/python3.9/dist-packages (from beautifulsoup4->gdown==4.4.0->flair) (2.4)\n",
            "Requirement already satisfied: MarkupSafe>=2.0 in /usr/local/lib/python3.9/dist-packages (from jinja2->torch!=1.8,>=1.5.0->flair) (2.1.2)\n",
            "Requirement already satisfied: PySocks!=1.5.7,>=1.5.6 in /usr/local/lib/python3.9/dist-packages (from requests[socks]->gdown==4.4.0->flair) (1.7.1)\n",
            "Requirement already satisfied: mpmath>=0.19 in /usr/local/lib/python3.9/dist-packages (from sympy->torch!=1.8,>=1.5.0->flair) (1.3.0)\n",
            "Requirement already satisfied: attrs>=17.3.0 in /usr/local/lib/python3.9/dist-packages (from aiohttp->datasets<3.0.0,>=2.0.0->transformer-smaller-training-vocab>=0.2.1->flair) (22.2.0)\n",
            "Collecting async-timeout<5.0,>=4.0.0a3\n",
            "  Downloading async_timeout-4.0.2-py3-none-any.whl (5.8 kB)\n",
            "Collecting aiosignal>=1.1.2\n",
            "  Downloading aiosignal-1.3.1-py3-none-any.whl (7.6 kB)\n",
            "Collecting frozenlist>=1.1.1\n",
            "  Downloading frozenlist-1.3.3-cp39-cp39-manylinux_2_5_x86_64.manylinux1_x86_64.manylinux_2_17_x86_64.manylinux2014_x86_64.whl (158 kB)\n",
            "\u001b[2K     \u001b[90m━━━━━━━━━━━━━━━━━━━━━━━━━━━━━━━━━━━━━━\u001b[0m \u001b[32m158.8/158.8 kB\u001b[0m \u001b[31m21.3 MB/s\u001b[0m eta \u001b[36m0:00:00\u001b[0m\n",
            "\u001b[?25hCollecting multidict<7.0,>=4.5\n",
            "  Downloading multidict-6.0.4-cp39-cp39-manylinux_2_17_x86_64.manylinux2014_x86_64.whl (114 kB)\n",
            "\u001b[2K     \u001b[90m━━━━━━━━━━━━━━━━━━━━━━━━━━━━━━━━━━━━━━\u001b[0m \u001b[32m114.2/114.2 kB\u001b[0m \u001b[31m16.3 MB/s\u001b[0m eta \u001b[36m0:00:00\u001b[0m\n",
            "\u001b[?25hCollecting yarl<2.0,>=1.0\n",
            "  Downloading yarl-1.8.2-cp39-cp39-manylinux_2_17_x86_64.manylinux2014_x86_64.whl (264 kB)\n",
            "\u001b[2K     \u001b[90m━━━━━━━━━━━━━━━━━━━━━━━━━━━━━━━━━━━━━━\u001b[0m \u001b[32m264.6/264.6 kB\u001b[0m \u001b[31m25.8 MB/s\u001b[0m eta \u001b[36m0:00:00\u001b[0m\n",
            "\u001b[?25hRequirement already satisfied: pytz>=2020.1 in /usr/local/lib/python3.9/dist-packages (from pandas->datasets<3.0.0,>=2.0.0->transformer-smaller-training-vocab>=0.2.1->flair) (2022.7.1)\n",
            "Building wheels for collected packages: gdown, mpld3, sqlitedict, langdetect, pptree\n",
            "  Building wheel for gdown (pyproject.toml) ... \u001b[?25l\u001b[?25hdone\n",
            "  Created wheel for gdown: filename=gdown-4.4.0-py3-none-any.whl size=14776 sha256=ff4fa1699e2036f2a621eb686faf3e92cafb6f7371fa3044b9de5c64aeddce88\n",
            "  Stored in directory: /root/.cache/pip/wheels/7d/37/b6/b2a79c75e898c0b8e46ff255102602d7159a10d9af0d80641a\n",
            "  Building wheel for mpld3 (setup.py) ... \u001b[?25l\u001b[?25hdone\n",
            "  Created wheel for mpld3: filename=mpld3-0.3-py3-none-any.whl size=116702 sha256=465edb7844ad49638b010f47b84f5bd678a34f3bd352bfda2eff622e3eec48d8\n",
            "  Stored in directory: /root/.cache/pip/wheels/a6/f4/e6/e40ff9021f6b3854af70fa8ea004f5ab95672817462df08fed\n",
            "  Building wheel for sqlitedict (setup.py) ... \u001b[?25l\u001b[?25hdone\n",
            "  Created wheel for sqlitedict: filename=sqlitedict-2.1.0-py3-none-any.whl size=16863 sha256=422550c6426a4325077222b7d0faaed5e8ff19d09e06f102c5ad61a784801c3a\n",
            "  Stored in directory: /root/.cache/pip/wheels/f6/48/c4/942f7a1d556fddd2348cb9ac262f251873dfd8a39afec5678e\n",
            "  Building wheel for langdetect (setup.py) ... \u001b[?25l\u001b[?25hdone\n",
            "  Created wheel for langdetect: filename=langdetect-1.0.9-py3-none-any.whl size=993243 sha256=337f28e071653b19b8a38749820215fb354d2d1b9b48b2cf4215c4331d9e507c\n",
            "  Stored in directory: /root/.cache/pip/wheels/d1/c1/d9/7e068de779d863bc8f8fc9467d85e25cfe47fa5051fff1a1bb\n",
            "  Building wheel for pptree (setup.py) ... \u001b[?25l\u001b[?25hdone\n",
            "  Created wheel for pptree: filename=pptree-3.1-py3-none-any.whl size=4629 sha256=03f1256f3b3012935a0cb36f552f24445f7a7b52d04f8167a326b573d6d5ae82\n",
            "  Stored in directory: /root/.cache/pip/wheels/52/0e/51/514e690004ea9713bc3fdb678d5e2768fcc597d0c3b6a3abd2\n",
            "Successfully built gdown mpld3 sqlitedict langdetect pptree\n",
            "Installing collected packages: sqlitedict, sentencepiece, pptree, mpld3, janome, xxhash, segtok, protobuf, multidict, langdetect, jmespath, ftfy, frozenlist, dill, deprecated, conllu, async-timeout, yarl, wikipedia-api, responses, multiprocess, botocore, aiosignal, s3transfer, gdown, bpemb, aiohttp, boto3, datasets, transformer-smaller-training-vocab, pytorch-revgrad, flair\n",
            "  Attempting uninstall: protobuf\n",
            "    Found existing installation: protobuf 3.20.3\n",
            "    Uninstalling protobuf-3.20.3:\n",
            "      Successfully uninstalled protobuf-3.20.3\n",
            "  Attempting uninstall: gdown\n",
            "    Found existing installation: gdown 4.6.6\n",
            "    Uninstalling gdown-4.6.6:\n",
            "      Successfully uninstalled gdown-4.6.6\n",
            "\u001b[31mERROR: pip's dependency resolver does not currently take into account all the packages that are installed. This behaviour is the source of the following dependency conflicts.\n",
            "tensorflow 2.12.0 requires protobuf!=4.21.0,!=4.21.1,!=4.21.2,!=4.21.3,!=4.21.4,!=4.21.5,<5.0.0dev,>=3.20.3, but you have protobuf 3.20.2 which is incompatible.\u001b[0m\u001b[31m\n",
            "\u001b[0mSuccessfully installed aiohttp-3.8.4 aiosignal-1.3.1 async-timeout-4.0.2 boto3-1.26.110 botocore-1.29.111 bpemb-0.3.4 conllu-4.5.2 datasets-2.11.0 deprecated-1.2.13 dill-0.3.6 flair-0.12.2 frozenlist-1.3.3 ftfy-6.1.1 gdown-4.4.0 janome-0.4.2 jmespath-1.0.1 langdetect-1.0.9 mpld3-0.3 multidict-6.0.4 multiprocess-0.70.14 pptree-3.1 protobuf-3.20.2 pytorch-revgrad-0.2.0 responses-0.18.0 s3transfer-0.6.0 segtok-1.5.11 sentencepiece-0.1.97 sqlitedict-2.1.0 transformer-smaller-training-vocab-0.2.3 wikipedia-api-0.5.8 xxhash-3.2.0 yarl-1.8.2\n"
          ]
        }
      ],
      "source": [
        "!pip install flair\n"
      ]
    },
    {
      "cell_type": "markdown",
      "metadata": {
        "id": "2ZPVrU0-yT7-"
      },
      "source": [
        "here, we are installing the \"!pip install flair\" library which is used for the natural language processing task sentiment analysis. here we are using this for use the pre-trained model and function of the nlp.\n",
        "\n"
      ]
    },
    {
      "cell_type": "code",
      "execution_count": null,
      "metadata": {
        "colab": {
          "base_uri": "https://localhost:8080/",
          "height": 373,
          "referenced_widgets": [
            "14e8423910404036851a1a9ff183b72c",
            "069b5608c78f4e869989ed972ae61d70",
            "a254650860f24c7caedb48c4f93a0c49",
            "7f39e450621740c2a5f4796e4637cc76",
            "fea2acae7edd4b7db456f9de61e122ee",
            "ddf5cd273e1747239225b54acfac2846",
            "c8787e265e374e00b55882280308ed6f",
            "66a302f110734992a974ea9b81695ced",
            "ab579a5168364900a159bf9c615db90b",
            "f85a64ff91d74638a81ab16f13ebc4d0",
            "a9b4a1be0219494ea7547db2b94f7576",
            "b589ddbb1fee458680782bdba826d256",
            "654e18730e5841b7ac733e2b8c20bbdd",
            "a0a57557d9be4369a13a10c7df6c6684",
            "1e14f50394184a75b46c92b77ec0ef1f",
            "d364a4b04ef74effa67d190b99b0ab29",
            "e2c91bd725ce4efea73fc4515a539d6c",
            "28b08edf346b465483322db0c5d8a735",
            "74968e681c6e40e3b07299be985036c5",
            "03756ee424274a02850ba6f9c202a2f8",
            "8ca845e72bfe407a8dd00165273dfc4a",
            "df5d388ef04449299beb747f3069659e",
            "5ac91f7efe55402b9d5dfac720273b7e",
            "47cc3a0096b1432ba430476774958c9c",
            "478a3181e1f24505ae8d7c0fa5ab1eba",
            "9d99647607214554bd31ba5042d0fb4f",
            "9e8a5cd312a945c087a0bece569da69e",
            "003d99fb73124b1abb9c29d3337f42f7",
            "ed21fc16f206453da7dbe34fd4d8b356",
            "5858982edf2744aca5e98d98e9b4d61e",
            "2ac7113d38d943eeb4abbf5d75a1df72",
            "4e5fb4a1544c4bb7a9f9779f4a88da04",
            "fa1d43a273ed48ebad4465d83ba69ada",
            "f1d485917d214b71846b62290a859e46",
            "0c62e1435d5e4ac88b60ca06977136ce",
            "e9069e4e9b7c4ed8b272e35a64140ed3",
            "6c7db91304e04ddb949346b26a5322d8",
            "d8cb97164c4b4c51956654284f92600e",
            "a5d6405f9cd14f73985a853ae6bcca95",
            "e4bb0601b13846949143510952b734f7",
            "41de7ec5fcbb49e99d0339b4748ab6bc",
            "13ba1c02d2f646fbbcf4aa606301a5dd",
            "dccf82a87e714c28bca8bc4d0314c75c",
            "26d0a637f8cf4458a3de0fc2fbb0e1ab"
          ]
        },
        "id": "hjdjcChXm0QP",
        "outputId": "0886de47-0dbc-4092-f6eb-f067b0109e52"
      },
      "outputs": [
        {
          "output_type": "stream",
          "name": "stdout",
          "text": [
            "2023-04-11 21:19:54,728 https://nlp.informatik.hu-berlin.de/resources/models/sentiment-curated-distilbert/sentiment-en-mix-distillbert_4.pt not found in cache, downloading to /tmp/tmp6ze5ukry\n"
          ]
        },
        {
          "output_type": "stream",
          "name": "stderr",
          "text": [
            "100%|██████████| 253M/253M [00:15<00:00, 16.9MB/s]\n"
          ]
        },
        {
          "output_type": "stream",
          "name": "stdout",
          "text": [
            "2023-04-11 21:20:10,920 copying /tmp/tmp6ze5ukry to cache at /root/.flair/models/sentiment-en-mix-distillbert_4.pt\n",
            "2023-04-11 21:20:11,543 removing temp file /tmp/tmp6ze5ukry\n"
          ]
        },
        {
          "output_type": "display_data",
          "data": {
            "text/plain": [
              "Downloading (…)okenizer_config.json:   0%|          | 0.00/28.0 [00:00<?, ?B/s]"
            ],
            "application/vnd.jupyter.widget-view+json": {
              "version_major": 2,
              "version_minor": 0,
              "model_id": "14e8423910404036851a1a9ff183b72c"
            }
          },
          "metadata": {}
        },
        {
          "output_type": "display_data",
          "data": {
            "text/plain": [
              "Downloading (…)lve/main/config.json:   0%|          | 0.00/483 [00:00<?, ?B/s]"
            ],
            "application/vnd.jupyter.widget-view+json": {
              "version_major": 2,
              "version_minor": 0,
              "model_id": "b589ddbb1fee458680782bdba826d256"
            }
          },
          "metadata": {}
        },
        {
          "output_type": "display_data",
          "data": {
            "text/plain": [
              "Downloading (…)solve/main/vocab.txt:   0%|          | 0.00/232k [00:00<?, ?B/s]"
            ],
            "application/vnd.jupyter.widget-view+json": {
              "version_major": 2,
              "version_minor": 0,
              "model_id": "5ac91f7efe55402b9d5dfac720273b7e"
            }
          },
          "metadata": {}
        },
        {
          "output_type": "display_data",
          "data": {
            "text/plain": [
              "Downloading (…)/main/tokenizer.json:   0%|          | 0.00/466k [00:00<?, ?B/s]"
            ],
            "application/vnd.jupyter.widget-view+json": {
              "version_major": 2,
              "version_minor": 0,
              "model_id": "f1d485917d214b71846b62290a859e46"
            }
          },
          "metadata": {}
        },
        {
          "output_type": "stream",
          "name": "stdout",
          "text": [
            "Sentence 1 sentiment is NEGATIVE\n",
            "Sentence 2 sentiment is POSITIVE\n",
            "Sentence 3 sentiment is POSITIVE\n",
            "Sentence 4 sentiment is POSITIVE\n",
            "Sentence 5 sentiment is POSITIVE\n",
            "2023-04-11 21:20:16,240 Warning: An empty Sentence was created! Are there empty strings in your dataset?\n",
            "Sentence 6 sentiment is NO SENTIMENT\n",
            "Overall sentiment of the text is POSITIVE\n"
          ]
        }
      ],
      "source": [
        "\n",
        "from flair.models import TextClassifier\n",
        "from flair.data import Sentence\n",
        "\n",
        "# Load the pre-trained sentiment analysis model\n",
        "classifier = TextClassifier.load('sentiment')\n",
        "\n",
        "# Spanish text to analyze\n",
        "spanish_text = \"Anoche tuve una experiencia increíble en el restaurante. La comida era deliciosa y el servicio fue impecable. Nuestro camarero fue muy amable y atento, e hizo excelentes recomendaciones del menú. El ambiente del restaurante también era maravilloso, con una bonita decoración y un ambiente acogedor. En general, recomendaría encarecidamente este restaurante a cualquiera que busque una experiencia gastronómica fantástica.\"\n",
        "\n",
        "# Split the text into sentences\n",
        "sentences = spanish_text.split('.')\n",
        "\n",
        "# Analyze the sentiment of each sentence\n",
        "for i, sentence in enumerate(sentences):\n",
        "    # Create a Sentence object for each sentence\n",
        "    s = Sentence(sentence.strip())\n",
        "\n",
        "    # Predict the sentiment label for the sentence\n",
        "    classifier.predict(s)\n",
        "\n",
        "    # Get the sentiment value (positive, negative, or neutral)\n",
        "    if s.labels:\n",
        "        sentiment_value = s.labels[0].value\n",
        "    else:\n",
        "        sentiment_value = \"NO SENTIMENT\"\n",
        "\n",
        "    # Print the sentiment of the sentence\n",
        "    print(f\"Sentence {i+1} sentiment is {sentiment_value}\")\n",
        "\n",
        "# Predict the overall sentiment of the text\n",
        "s = Sentence(spanish_text)\n",
        "classifier.predict(s)\n",
        "if s.labels:\n",
        "    overall_sentiment = s.labels[0].value\n",
        "else:\n",
        "    overall_sentiment = \"NO SENTIMENT\"\n",
        "print(f\"Overall sentiment of the text is {overall_sentiment}\")\n"
      ]
    },
    {
      "cell_type": "markdown",
      "metadata": {
        "id": "z4K9iGR50-gt"
      },
      "source": [
        "Here, we are performing sentiment analysis on the spanish text using the flair library.\n",
        "\n",
        "first we are importing the library flair which is the used for performing the sentiment analysis we are using the pre-trained sentiment analysis models from this library.here we are first loading the pre-trained model for sentiment analysis model.\n",
        "\n",
        "here, after choosing the model we are spliting the dataset into the each sentences. here we analayze the sentiment of the each sentence using the model and print classify results as a positive, negative and neutral for each of the sentences.\n",
        "\n",
        "\n",
        "Here, we are predicting the sentiment of the text by by analyzing the text and print the sentiment labels. here its analyze the sentiment of the spanish text.\n",
        "\n",
        "\n",
        "\n",
        "\n"
      ]
    },
    {
      "cell_type": "markdown",
      "metadata": {
        "id": "1w3BAZ57m2JU"
      },
      "source": [
        "#Task 3: sentiment analysis using the Naive Bayes algorithm\n",
        "\n",
        "The Naive Bayes algorithm is a probabilistic algorithm that uses Bayes' theorem to calculate the probability of a given text belonging to a particular sentiment class. The below article explains how to build a Naive Bayes classifier for sentiment analysis using a labeled dataset of movie reviews.\n",
        "\n",
        "Tutorial: https://www.enjoyalgorithms.com/blog/sentiment-analysis-using-naive-bayes\n",
        "\n",
        "Referring the above tutorial provided,\n",
        "\n",
        "What are the advantages and limitations of using the Naive Bayes algorithm for sentiment analysis? How might you address some of the limitations? **(10 Points)**\n"
      ]
    },
    {
      "cell_type": "markdown",
      "metadata": {
        "id": "LJmFVg8Ppdcp"
      },
      "source": [
        "**Answer:**\n",
        "**Sentiment Analysis :**\n",
        "Sentiment analysis is the process of identifying the tones of the sentecne which is positive, negative and neutral. its perform in the text data. This approach is used for analysing the data of customer reviews,social media comments and emails.\n",
        "\n",
        "**Naive Bayes Algorithm:**\n",
        "Naive Bayes Algorithm is the probabilistic classifier.its dependent on the probability of the model that gives the independence assumpations. that assumptions does't have any reality that's why its called as a naive.\n",
        "\n",
        "\n",
        "**Advantages of use the Naive Bayes algorithm for sentiment analysis:**\n",
        "1.simplicity:\n",
        "Naive bayes is the simple algorithm which is easy to implement and required less training data to trained the model.\n",
        "\n",
        "2.speed: naive bayes is fast algorithm which is trained on the huge datasets faster.\n",
        "\n",
        "3.Robustness: naive bayes is the powerful algorithm which work well with the noisy and incomplete the data.\n",
        "\n",
        "4.high accuracy: whether its simple , naive bayes is gaining high accuracy on the sentiment analysis.\n",
        "\n",
        "\n",
        "\n",
        "**Limitations of use the Naive Bayes algorithm for sentiment analysis:**\n",
        "Assumptions of independence:\n",
        "naive bayes assumes that all the features here are independent, which is not true un every case in nlp tasks.\n",
        "lACK of context: naive bayes is not use the context of the text to analyze. so sometimes its misclassified.\n",
        "limited expressiveness: naive bayes is use the linear decision boundries, which is the limitize the ability to capture the complax relation between the features.\n",
        "\n",
        "**To address some of these limitations, the below steps can be taken:**\n",
        "Feature engineering: here for selection of the features and engineering them we need to carefully use it for reduce the effect of the idependent assumptions.\n",
        "\n",
        "Ensemble methods: here we need to use ensamle methods bagging and boosting  which is going to help to improve the expressiveness of the model for combining multiple weak models and make one strong model.\n",
        "\n",
        "contextual analysis: here we are incorporating with the surrounding words and phrases which is help to improve the accuracy of the model.\n",
        "\n",
        "\n",
        "\n",
        "\n",
        "\n",
        "\n"
      ]
    },
    {
      "cell_type": "markdown",
      "metadata": {
        "id": "DcnDsuxCOX1Z"
      },
      "source": [
        "#Task 4: (10 Points)\n",
        "\n",
        "How does the Boolean feature selection technique used in the Boolean Multinomial Naive Bayes algorithm differ from other feature selection techniques in text classification, such as frequency-based selection, and how does it impact the performance of the algorithm?"
      ]
    },
    {
      "cell_type": "markdown",
      "metadata": {
        "id": "sVfKhWreOp__"
      },
      "source": [
        "**Answer:**\n",
        "\n",
        "**Feature Selection**\n",
        "Feature selection is the process of the reducing the number of the input variable while making the prediction of the model.\n",
        "** Boolean feature selection technique**\n",
        "this is technique which is use in the machine learning to select the subset of the variables and features which are most relatable to the problem. its select based on the boolean or binary values, which are either 0 or 1 based on the whether this features is present or the absent.\n",
        "\n",
        "**Boolean Multinomial Naive Bayes algorithm**\n",
        "this is the variation of the naive bayes algorithm which is used for text classification. this is specially use for the boolean and binary data and feature, where each feature is classify as the present or absent in the text.\n",
        "here all the features are independent to each others and give the class labels. this is calculate the feature of the each class and use the probability to predict the classes for the new documents.\n",
        "\n",
        "Talking about the feature selections:\n",
        "**Boolean feature selection:**\n",
        "this technique is used for the selecting the boolean multinomial naive bayes algorithm and its different from frequency based selection  here its only consider whether its present or absent for the particularly features in text, rather than its frequency.\n",
        "\n",
        "uin boolean feature selection, here we vector the feature of the document which is consists of the binary values which are representing whether each feature is present or not in the document. its used for the frequency of the features of the document which is not provide much information about the related classifications.\n",
        "\n",
        "**Frequency-based selection:**\n",
        "in this selection we are consider the frequency of the occurance of the each feature in the text, and also select the features based on the frequency. this is useful technique when the frequency of the features provide is realiable information about the related to the classification.\n",
        "\n",
        "\n",
        "\n",
        "Talking about the impact of the feature selection on the performance of the boolean multinomial naive bayes algorithm based on the specific classification and chracteristics of the dataset. in short, frequency based selection may be perform better than boolean feature selection when its the frequency of the feature is information for the classification.while, if the frequency of the feature is not provide more information, boolean feature selection may be perform better by reduce the number of the not related features in the model. at the last, the choice of the feature selection is based on the experimentation and evaluation on the specific task and data.\n",
        "\n"
      ]
    },
    {
      "cell_type": "markdown",
      "metadata": {
        "id": "U2QTUFENv-RZ"
      },
      "source": [
        "#Task 5: Sentiment Analysis & Opinion Mining with Python and NLTK\n",
        "\n",
        "The tutorial covers the basics of sentiment analysis and opinion mining, and provides a step-by-step guide to implementing a sentiment analysis system using Python and the Natural Language Toolkit (NLTK) library. The tutorial also introduces different techniques for feature extraction, including bag-of-words, n-grams, and word embeddings.\n",
        "\n",
        "Tutorial: https://pub.towardsai.net/sentiment-analysis-opinion-mining-with-python-nlp-tutorial-d1f173ca4e3c\n",
        "\n",
        "Implement all the code blocks in the above tutorial and provide your explanation in your own words.**(10 Points)**"
      ]
    },
    {
      "cell_type": "markdown",
      "metadata": {
        "id": "3sjoVZv-B-k9"
      },
      "source": [
        "# **Dataset extractions:**"
      ]
    },
    {
      "cell_type": "code",
      "execution_count": null,
      "metadata": {
        "colab": {
          "base_uri": "https://localhost:8080/"
        },
        "id": "kiZt4IjFQ04l",
        "outputId": "e8e170c4-2922-4809-e570-b670ee04a45e"
      },
      "outputs": [
        {
          "output_type": "stream",
          "name": "stdout",
          "text": [
            "--2023-04-11 21:21:58--  https://raw.githubusercontent.com/towardsai/tutorials/master/sentiment_analysis_tutorial/women_clothing_review.csv\n",
            "Resolving raw.githubusercontent.com (raw.githubusercontent.com)... 185.199.108.133, 185.199.109.133, 185.199.110.133, ...\n",
            "Connecting to raw.githubusercontent.com (raw.githubusercontent.com)|185.199.108.133|:443... connected.\n",
            "HTTP request sent, awaiting response... 200 OK\n",
            "Length: 8480236 (8.1M) [text/plain]\n",
            "Saving to: ‘women_clothing_review.csv’\n",
            "\n",
            "\r          women_clo   0%[                    ]       0  --.-KB/s               \rwomen_clothing_revi 100%[===================>]   8.09M  --.-KB/s    in 0.06s   \n",
            "\n",
            "2023-04-11 21:21:58 (141 MB/s) - ‘women_clothing_review.csv’ saved [8480236/8480236]\n",
            "\n"
          ]
        }
      ],
      "source": [
        "!wget https://raw.githubusercontent.com/towardsai/tutorials/master/sentiment_analysis_tutorial/women_clothing_review.csv"
      ]
    },
    {
      "cell_type": "markdown",
      "metadata": {
        "id": "XOPX1MAQCDl1"
      },
      "source": [
        "here, we are downloading the dataset of women clothing reviews.here we are downloading the csv file. this dataset is the collection of the women clothing reviews for performing the sentiment analysis."
      ]
    },
    {
      "cell_type": "markdown",
      "metadata": {
        "id": "Ze2hXD3VCHH1"
      },
      "source": [
        "# **Import libraries:**"
      ]
    },
    {
      "cell_type": "code",
      "execution_count": null,
      "metadata": {
        "colab": {
          "base_uri": "https://localhost:8080/"
        },
        "id": "kx5OSl2tCHXQ",
        "outputId": "a1231261-a862-491e-a0f6-54375ebcab71"
      },
      "outputs": [
        {
          "output_type": "stream",
          "name": "stderr",
          "text": [
            "[nltk_data] Downloading package stopwords to /root/nltk_data...\n",
            "[nltk_data]   Unzipping corpora/stopwords.zip.\n"
          ]
        }
      ],
      "source": [
        "import pandas as pd\n",
        "import numpy as np\n",
        "import seaborn as sns\n",
        "import re\n",
        "import string\n",
        "from string import punctuation\n",
        "import nltk\n",
        "from nltk.corpus import stopwords\n",
        "nltk.download('stopwords')\n",
        "\n",
        "\n",
        "import matplotlib.pyplot as plt\n",
        "from sklearn.model_selection import train_test_split\n",
        "from sklearn.feature_extraction.text import CountVectorizer\n",
        "from sklearn.feature_extraction.text import TfidfTransformer\n",
        "\n",
        "import tensorflow as tf\n",
        "from tensorflow.keras.models import Sequential\n",
        "from tensorflow.keras.layers import Dense, Activation, Dropout\n",
        "from tensorflow.keras.callbacks import EarlyStopping"
      ]
    },
    {
      "cell_type": "markdown",
      "metadata": {
        "id": "GxPJTwgXFDKn"
      },
      "source": [
        "here. we are importing the all libraries for performing the sentiment analysis.\n",
        "first we are importing the pandas library which is used for data reading and data visualizations.after that we are using the numpy for calculating the statistical calculations.\n",
        "here we are also using the natural language toolkit for processing the sentiment analysis task. for that we are using the tensorflow for developed the model and evaluate.\n",
        "\n",
        "overall, we are here importing all the libraries which is needed for developing the model and evaluation for performing the sentiment analysis."
      ]
    },
    {
      "cell_type": "markdown",
      "metadata": {
        "id": "G2glSkeYCRCP"
      },
      "source": [
        "# **Show Dataset Values:**"
      ]
    },
    {
      "cell_type": "code",
      "execution_count": null,
      "metadata": {
        "colab": {
          "base_uri": "https://localhost:8080/",
          "height": 458
        },
        "id": "V4kPrj0OCRT8",
        "outputId": "8c061d8b-e20d-4a43-d0c1-d3882f62c8ac"
      },
      "outputs": [
        {
          "output_type": "execute_result",
          "data": {
            "text/plain": [
              "   Unnamed: 0  Clothing ID  Age                    Title  \\\n",
              "0           0          767   33                      NaN   \n",
              "1           1         1080   34                      NaN   \n",
              "2           2         1077   60  Some major design flaws   \n",
              "3           3         1049   50         My favorite buy!   \n",
              "4           4          847   47         Flattering shirt   \n",
              "\n",
              "                                                                                                                                                                                                                                                                                                                                                                                                                                                                                                            Review Text  \\\n",
              "0                                                                                                                                                                                                                                                                                                                                                                                                                                                                 Absolutely wonderful - silky and sexy and comfortable   \n",
              "1                                                                                                                                                                                                       Love this dress!  it's sooo pretty.  i happened to find it in a store, and i'm glad i did bc i never would have ordered it online bc it's petite.  i bought a petite and am 5'8\".  i love the length on me- hits just a little below the knee.  would definitely be a true midi on someone who is truly petite.   \n",
              "2  I had such high hopes for this dress and really wanted it to work for me. i initially ordered the petite small (my usual size) but i found this to be outrageously small. so small in fact that i could not zip it up! i reordered it in petite medium, which was just ok. overall, the top half was comfortable and fit nicely, but the bottom half had a very tight under layer and several somewhat cheap (net) over layers. imo, a major design flaw was the net over layer sewn directly into the zipper - it c   \n",
              "3                                                                                                                                                                                                                                                                                                                                                                                          I love, love, love this jumpsuit. it's fun, flirty, and fabulous! every time i wear it, i get nothing but great compliments!   \n",
              "4                                                                                                                                                                                                                                                                                                                      This shirt is very flattering to all due to the adjustable front tie. it is the perfect length to wear with leggings and it is sleeveless so it pairs well with any cardigan. love this shirt!!!   \n",
              "\n",
              "   Rating  Recommended IND  Positive Feedback Count   Division Name  \\\n",
              "0       4                1                        0       Initmates   \n",
              "1       5                1                        4         General   \n",
              "2       3                0                        0         General   \n",
              "3       5                1                        0  General Petite   \n",
              "4       5                1                        6         General   \n",
              "\n",
              "  Department Name Class Name  \n",
              "0        Intimate  Intimates  \n",
              "1         Dresses    Dresses  \n",
              "2         Dresses    Dresses  \n",
              "3         Bottoms      Pants  \n",
              "4            Tops    Blouses  "
            ],
            "text/html": [
              "\n",
              "  <div id=\"df-c1e2eb81-fc6e-4d11-bb8a-4be9e0475df4\">\n",
              "    <div class=\"colab-df-container\">\n",
              "      <div>\n",
              "<style scoped>\n",
              "    .dataframe tbody tr th:only-of-type {\n",
              "        vertical-align: middle;\n",
              "    }\n",
              "\n",
              "    .dataframe tbody tr th {\n",
              "        vertical-align: top;\n",
              "    }\n",
              "\n",
              "    .dataframe thead th {\n",
              "        text-align: right;\n",
              "    }\n",
              "</style>\n",
              "<table border=\"1\" class=\"dataframe\">\n",
              "  <thead>\n",
              "    <tr style=\"text-align: right;\">\n",
              "      <th></th>\n",
              "      <th>Unnamed: 0</th>\n",
              "      <th>Clothing ID</th>\n",
              "      <th>Age</th>\n",
              "      <th>Title</th>\n",
              "      <th>Review Text</th>\n",
              "      <th>Rating</th>\n",
              "      <th>Recommended IND</th>\n",
              "      <th>Positive Feedback Count</th>\n",
              "      <th>Division Name</th>\n",
              "      <th>Department Name</th>\n",
              "      <th>Class Name</th>\n",
              "    </tr>\n",
              "  </thead>\n",
              "  <tbody>\n",
              "    <tr>\n",
              "      <th>0</th>\n",
              "      <td>0</td>\n",
              "      <td>767</td>\n",
              "      <td>33</td>\n",
              "      <td>NaN</td>\n",
              "      <td>Absolutely wonderful - silky and sexy and comfortable</td>\n",
              "      <td>4</td>\n",
              "      <td>1</td>\n",
              "      <td>0</td>\n",
              "      <td>Initmates</td>\n",
              "      <td>Intimate</td>\n",
              "      <td>Intimates</td>\n",
              "    </tr>\n",
              "    <tr>\n",
              "      <th>1</th>\n",
              "      <td>1</td>\n",
              "      <td>1080</td>\n",
              "      <td>34</td>\n",
              "      <td>NaN</td>\n",
              "      <td>Love this dress!  it's sooo pretty.  i happened to find it in a store, and i'm glad i did bc i never would have ordered it online bc it's petite.  i bought a petite and am 5'8\".  i love the length on me- hits just a little below the knee.  would definitely be a true midi on someone who is truly petite.</td>\n",
              "      <td>5</td>\n",
              "      <td>1</td>\n",
              "      <td>4</td>\n",
              "      <td>General</td>\n",
              "      <td>Dresses</td>\n",
              "      <td>Dresses</td>\n",
              "    </tr>\n",
              "    <tr>\n",
              "      <th>2</th>\n",
              "      <td>2</td>\n",
              "      <td>1077</td>\n",
              "      <td>60</td>\n",
              "      <td>Some major design flaws</td>\n",
              "      <td>I had such high hopes for this dress and really wanted it to work for me. i initially ordered the petite small (my usual size) but i found this to be outrageously small. so small in fact that i could not zip it up! i reordered it in petite medium, which was just ok. overall, the top half was comfortable and fit nicely, but the bottom half had a very tight under layer and several somewhat cheap (net) over layers. imo, a major design flaw was the net over layer sewn directly into the zipper - it c</td>\n",
              "      <td>3</td>\n",
              "      <td>0</td>\n",
              "      <td>0</td>\n",
              "      <td>General</td>\n",
              "      <td>Dresses</td>\n",
              "      <td>Dresses</td>\n",
              "    </tr>\n",
              "    <tr>\n",
              "      <th>3</th>\n",
              "      <td>3</td>\n",
              "      <td>1049</td>\n",
              "      <td>50</td>\n",
              "      <td>My favorite buy!</td>\n",
              "      <td>I love, love, love this jumpsuit. it's fun, flirty, and fabulous! every time i wear it, i get nothing but great compliments!</td>\n",
              "      <td>5</td>\n",
              "      <td>1</td>\n",
              "      <td>0</td>\n",
              "      <td>General Petite</td>\n",
              "      <td>Bottoms</td>\n",
              "      <td>Pants</td>\n",
              "    </tr>\n",
              "    <tr>\n",
              "      <th>4</th>\n",
              "      <td>4</td>\n",
              "      <td>847</td>\n",
              "      <td>47</td>\n",
              "      <td>Flattering shirt</td>\n",
              "      <td>This shirt is very flattering to all due to the adjustable front tie. it is the perfect length to wear with leggings and it is sleeveless so it pairs well with any cardigan. love this shirt!!!</td>\n",
              "      <td>5</td>\n",
              "      <td>1</td>\n",
              "      <td>6</td>\n",
              "      <td>General</td>\n",
              "      <td>Tops</td>\n",
              "      <td>Blouses</td>\n",
              "    </tr>\n",
              "  </tbody>\n",
              "</table>\n",
              "</div>\n",
              "      <button class=\"colab-df-convert\" onclick=\"convertToInteractive('df-c1e2eb81-fc6e-4d11-bb8a-4be9e0475df4')\"\n",
              "              title=\"Convert this dataframe to an interactive table.\"\n",
              "              style=\"display:none;\">\n",
              "        \n",
              "  <svg xmlns=\"http://www.w3.org/2000/svg\" height=\"24px\"viewBox=\"0 0 24 24\"\n",
              "       width=\"24px\">\n",
              "    <path d=\"M0 0h24v24H0V0z\" fill=\"none\"/>\n",
              "    <path d=\"M18.56 5.44l.94 2.06.94-2.06 2.06-.94-2.06-.94-.94-2.06-.94 2.06-2.06.94zm-11 1L8.5 8.5l.94-2.06 2.06-.94-2.06-.94L8.5 2.5l-.94 2.06-2.06.94zm10 10l.94 2.06.94-2.06 2.06-.94-2.06-.94-.94-2.06-.94 2.06-2.06.94z\"/><path d=\"M17.41 7.96l-1.37-1.37c-.4-.4-.92-.59-1.43-.59-.52 0-1.04.2-1.43.59L10.3 9.45l-7.72 7.72c-.78.78-.78 2.05 0 2.83L4 21.41c.39.39.9.59 1.41.59.51 0 1.02-.2 1.41-.59l7.78-7.78 2.81-2.81c.8-.78.8-2.07 0-2.86zM5.41 20L4 18.59l7.72-7.72 1.47 1.35L5.41 20z\"/>\n",
              "  </svg>\n",
              "      </button>\n",
              "      \n",
              "  <style>\n",
              "    .colab-df-container {\n",
              "      display:flex;\n",
              "      flex-wrap:wrap;\n",
              "      gap: 12px;\n",
              "    }\n",
              "\n",
              "    .colab-df-convert {\n",
              "      background-color: #E8F0FE;\n",
              "      border: none;\n",
              "      border-radius: 50%;\n",
              "      cursor: pointer;\n",
              "      display: none;\n",
              "      fill: #1967D2;\n",
              "      height: 32px;\n",
              "      padding: 0 0 0 0;\n",
              "      width: 32px;\n",
              "    }\n",
              "\n",
              "    .colab-df-convert:hover {\n",
              "      background-color: #E2EBFA;\n",
              "      box-shadow: 0px 1px 2px rgba(60, 64, 67, 0.3), 0px 1px 3px 1px rgba(60, 64, 67, 0.15);\n",
              "      fill: #174EA6;\n",
              "    }\n",
              "\n",
              "    [theme=dark] .colab-df-convert {\n",
              "      background-color: #3B4455;\n",
              "      fill: #D2E3FC;\n",
              "    }\n",
              "\n",
              "    [theme=dark] .colab-df-convert:hover {\n",
              "      background-color: #434B5C;\n",
              "      box-shadow: 0px 1px 3px 1px rgba(0, 0, 0, 0.15);\n",
              "      filter: drop-shadow(0px 1px 2px rgba(0, 0, 0, 0.3));\n",
              "      fill: #FFFFFF;\n",
              "    }\n",
              "  </style>\n",
              "\n",
              "      <script>\n",
              "        const buttonEl =\n",
              "          document.querySelector('#df-c1e2eb81-fc6e-4d11-bb8a-4be9e0475df4 button.colab-df-convert');\n",
              "        buttonEl.style.display =\n",
              "          google.colab.kernel.accessAllowed ? 'block' : 'none';\n",
              "\n",
              "        async function convertToInteractive(key) {\n",
              "          const element = document.querySelector('#df-c1e2eb81-fc6e-4d11-bb8a-4be9e0475df4');\n",
              "          const dataTable =\n",
              "            await google.colab.kernel.invokeFunction('convertToInteractive',\n",
              "                                                     [key], {});\n",
              "          if (!dataTable) return;\n",
              "\n",
              "          const docLinkHtml = 'Like what you see? Visit the ' +\n",
              "            '<a target=\"_blank\" href=https://colab.research.google.com/notebooks/data_table.ipynb>data table notebook</a>'\n",
              "            + ' to learn more about interactive tables.';\n",
              "          element.innerHTML = '';\n",
              "          dataTable['output_type'] = 'display_data';\n",
              "          await google.colab.output.renderOutput(dataTable, element);\n",
              "          const docLink = document.createElement('div');\n",
              "          docLink.innerHTML = docLinkHtml;\n",
              "          element.appendChild(docLink);\n",
              "        }\n",
              "      </script>\n",
              "    </div>\n",
              "  </div>\n",
              "  "
            ]
          },
          "metadata": {},
          "execution_count": 31
        }
      ],
      "source": [
        "df = pd.read_csv('women_clothing_review.csv')\n",
        "df.head()"
      ]
    },
    {
      "cell_type": "markdown",
      "metadata": {
        "id": "OeBz-gSaGPyK"
      },
      "source": [
        "here, we are using the pandas to read the file women_Clothing_reviews.csv and also using the df.head() we are displaying the data. df is the object of the pandas read csv()  function."
      ]
    },
    {
      "cell_type": "markdown",
      "metadata": {
        "id": "u9kwsSpyCemJ"
      },
      "source": [
        "# **Dropping unused columns:**"
      ]
    },
    {
      "cell_type": "code",
      "execution_count": null,
      "metadata": {
        "id": "QlfCk6zzCe40"
      },
      "outputs": [],
      "source": [
        "df = df.drop(['Title', 'Positive Feedback Count', 'Unnamed: 0', ], axis=1)\n",
        "df.dropna(inplace=True)"
      ]
    },
    {
      "cell_type": "markdown",
      "metadata": {
        "id": "2-aniDUFHe3C"
      },
      "source": [
        "here, we are dropping some unused columns from the dataframe. here we are creating the obejct of the dataframe and drop() function we are passing the columns name in to the drop() function along with the axis=1.\n",
        "\n",
        "here its remove the rows with the missing values from the dataframe 'df' in the place, it means the main dataframe is changes and drop NAN values and dropped from the dataframe.\n"
      ]
    },
    {
      "cell_type": "markdown",
      "metadata": {
        "id": "XGmYzYmhCpPY"
      },
      "source": [
        "# **Calculating the polarity:**"
      ]
    },
    {
      "cell_type": "code",
      "execution_count": null,
      "metadata": {
        "colab": {
          "base_uri": "https://localhost:8080/",
          "height": 406
        },
        "id": "rzWbPJxSCpfi",
        "outputId": "2e41e91c-ebb2-4781-eece-db8d8067e996"
      },
      "outputs": [
        {
          "output_type": "execute_result",
          "data": {
            "text/plain": [
              "   Clothing ID  Age  \\\n",
              "0          767   33   \n",
              "1         1080   34   \n",
              "2         1077   60   \n",
              "3         1049   50   \n",
              "4          847   47   \n",
              "\n",
              "                                                                                                                                                                                                                                                                                                                                                                                                                                                                                                            Review Text  \\\n",
              "0                                                                                                                                                                                                                                                                                                                                                                                                                                                                 Absolutely wonderful - silky and sexy and comfortable   \n",
              "1                                                                                                                                                                                                       Love this dress!  it's sooo pretty.  i happened to find it in a store, and i'm glad i did bc i never would have ordered it online bc it's petite.  i bought a petite and am 5'8\".  i love the length on me- hits just a little below the knee.  would definitely be a true midi on someone who is truly petite.   \n",
              "2  I had such high hopes for this dress and really wanted it to work for me. i initially ordered the petite small (my usual size) but i found this to be outrageously small. so small in fact that i could not zip it up! i reordered it in petite medium, which was just ok. overall, the top half was comfortable and fit nicely, but the bottom half had a very tight under layer and several somewhat cheap (net) over layers. imo, a major design flaw was the net over layer sewn directly into the zipper - it c   \n",
              "3                                                                                                                                                                                                                                                                                                                                                                                          I love, love, love this jumpsuit. it's fun, flirty, and fabulous! every time i wear it, i get nothing but great compliments!   \n",
              "4                                                                                                                                                                                                                                                                                                                      This shirt is very flattering to all due to the adjustable front tie. it is the perfect length to wear with leggings and it is sleeveless so it pairs well with any cardigan. love this shirt!!!   \n",
              "\n",
              "   Rating  Recommended IND   Division Name Department Name Class Name  \\\n",
              "0       4                1       Initmates        Intimate  Intimates   \n",
              "1       5                1         General         Dresses    Dresses   \n",
              "2       3                0         General         Dresses    Dresses   \n",
              "3       5                1  General Petite         Bottoms      Pants   \n",
              "4       5                1         General            Tops    Blouses   \n",
              "\n",
              "  Polarity_Rating  \n",
              "0        Positive  \n",
              "1        Positive  \n",
              "2         Neutral  \n",
              "3        Positive  \n",
              "4        Positive  "
            ],
            "text/html": [
              "\n",
              "  <div id=\"df-468800b2-5dbc-45be-a23a-39d580d92be5\">\n",
              "    <div class=\"colab-df-container\">\n",
              "      <div>\n",
              "<style scoped>\n",
              "    .dataframe tbody tr th:only-of-type {\n",
              "        vertical-align: middle;\n",
              "    }\n",
              "\n",
              "    .dataframe tbody tr th {\n",
              "        vertical-align: top;\n",
              "    }\n",
              "\n",
              "    .dataframe thead th {\n",
              "        text-align: right;\n",
              "    }\n",
              "</style>\n",
              "<table border=\"1\" class=\"dataframe\">\n",
              "  <thead>\n",
              "    <tr style=\"text-align: right;\">\n",
              "      <th></th>\n",
              "      <th>Clothing ID</th>\n",
              "      <th>Age</th>\n",
              "      <th>Review Text</th>\n",
              "      <th>Rating</th>\n",
              "      <th>Recommended IND</th>\n",
              "      <th>Division Name</th>\n",
              "      <th>Department Name</th>\n",
              "      <th>Class Name</th>\n",
              "      <th>Polarity_Rating</th>\n",
              "    </tr>\n",
              "  </thead>\n",
              "  <tbody>\n",
              "    <tr>\n",
              "      <th>0</th>\n",
              "      <td>767</td>\n",
              "      <td>33</td>\n",
              "      <td>Absolutely wonderful - silky and sexy and comfortable</td>\n",
              "      <td>4</td>\n",
              "      <td>1</td>\n",
              "      <td>Initmates</td>\n",
              "      <td>Intimate</td>\n",
              "      <td>Intimates</td>\n",
              "      <td>Positive</td>\n",
              "    </tr>\n",
              "    <tr>\n",
              "      <th>1</th>\n",
              "      <td>1080</td>\n",
              "      <td>34</td>\n",
              "      <td>Love this dress!  it's sooo pretty.  i happened to find it in a store, and i'm glad i did bc i never would have ordered it online bc it's petite.  i bought a petite and am 5'8\".  i love the length on me- hits just a little below the knee.  would definitely be a true midi on someone who is truly petite.</td>\n",
              "      <td>5</td>\n",
              "      <td>1</td>\n",
              "      <td>General</td>\n",
              "      <td>Dresses</td>\n",
              "      <td>Dresses</td>\n",
              "      <td>Positive</td>\n",
              "    </tr>\n",
              "    <tr>\n",
              "      <th>2</th>\n",
              "      <td>1077</td>\n",
              "      <td>60</td>\n",
              "      <td>I had such high hopes for this dress and really wanted it to work for me. i initially ordered the petite small (my usual size) but i found this to be outrageously small. so small in fact that i could not zip it up! i reordered it in petite medium, which was just ok. overall, the top half was comfortable and fit nicely, but the bottom half had a very tight under layer and several somewhat cheap (net) over layers. imo, a major design flaw was the net over layer sewn directly into the zipper - it c</td>\n",
              "      <td>3</td>\n",
              "      <td>0</td>\n",
              "      <td>General</td>\n",
              "      <td>Dresses</td>\n",
              "      <td>Dresses</td>\n",
              "      <td>Neutral</td>\n",
              "    </tr>\n",
              "    <tr>\n",
              "      <th>3</th>\n",
              "      <td>1049</td>\n",
              "      <td>50</td>\n",
              "      <td>I love, love, love this jumpsuit. it's fun, flirty, and fabulous! every time i wear it, i get nothing but great compliments!</td>\n",
              "      <td>5</td>\n",
              "      <td>1</td>\n",
              "      <td>General Petite</td>\n",
              "      <td>Bottoms</td>\n",
              "      <td>Pants</td>\n",
              "      <td>Positive</td>\n",
              "    </tr>\n",
              "    <tr>\n",
              "      <th>4</th>\n",
              "      <td>847</td>\n",
              "      <td>47</td>\n",
              "      <td>This shirt is very flattering to all due to the adjustable front tie. it is the perfect length to wear with leggings and it is sleeveless so it pairs well with any cardigan. love this shirt!!!</td>\n",
              "      <td>5</td>\n",
              "      <td>1</td>\n",
              "      <td>General</td>\n",
              "      <td>Tops</td>\n",
              "      <td>Blouses</td>\n",
              "      <td>Positive</td>\n",
              "    </tr>\n",
              "  </tbody>\n",
              "</table>\n",
              "</div>\n",
              "      <button class=\"colab-df-convert\" onclick=\"convertToInteractive('df-468800b2-5dbc-45be-a23a-39d580d92be5')\"\n",
              "              title=\"Convert this dataframe to an interactive table.\"\n",
              "              style=\"display:none;\">\n",
              "        \n",
              "  <svg xmlns=\"http://www.w3.org/2000/svg\" height=\"24px\"viewBox=\"0 0 24 24\"\n",
              "       width=\"24px\">\n",
              "    <path d=\"M0 0h24v24H0V0z\" fill=\"none\"/>\n",
              "    <path d=\"M18.56 5.44l.94 2.06.94-2.06 2.06-.94-2.06-.94-.94-2.06-.94 2.06-2.06.94zm-11 1L8.5 8.5l.94-2.06 2.06-.94-2.06-.94L8.5 2.5l-.94 2.06-2.06.94zm10 10l.94 2.06.94-2.06 2.06-.94-2.06-.94-.94-2.06-.94 2.06-2.06.94z\"/><path d=\"M17.41 7.96l-1.37-1.37c-.4-.4-.92-.59-1.43-.59-.52 0-1.04.2-1.43.59L10.3 9.45l-7.72 7.72c-.78.78-.78 2.05 0 2.83L4 21.41c.39.39.9.59 1.41.59.51 0 1.02-.2 1.41-.59l7.78-7.78 2.81-2.81c.8-.78.8-2.07 0-2.86zM5.41 20L4 18.59l7.72-7.72 1.47 1.35L5.41 20z\"/>\n",
              "  </svg>\n",
              "      </button>\n",
              "      \n",
              "  <style>\n",
              "    .colab-df-container {\n",
              "      display:flex;\n",
              "      flex-wrap:wrap;\n",
              "      gap: 12px;\n",
              "    }\n",
              "\n",
              "    .colab-df-convert {\n",
              "      background-color: #E8F0FE;\n",
              "      border: none;\n",
              "      border-radius: 50%;\n",
              "      cursor: pointer;\n",
              "      display: none;\n",
              "      fill: #1967D2;\n",
              "      height: 32px;\n",
              "      padding: 0 0 0 0;\n",
              "      width: 32px;\n",
              "    }\n",
              "\n",
              "    .colab-df-convert:hover {\n",
              "      background-color: #E2EBFA;\n",
              "      box-shadow: 0px 1px 2px rgba(60, 64, 67, 0.3), 0px 1px 3px 1px rgba(60, 64, 67, 0.15);\n",
              "      fill: #174EA6;\n",
              "    }\n",
              "\n",
              "    [theme=dark] .colab-df-convert {\n",
              "      background-color: #3B4455;\n",
              "      fill: #D2E3FC;\n",
              "    }\n",
              "\n",
              "    [theme=dark] .colab-df-convert:hover {\n",
              "      background-color: #434B5C;\n",
              "      box-shadow: 0px 1px 3px 1px rgba(0, 0, 0, 0.15);\n",
              "      filter: drop-shadow(0px 1px 2px rgba(0, 0, 0, 0.3));\n",
              "      fill: #FFFFFF;\n",
              "    }\n",
              "  </style>\n",
              "\n",
              "      <script>\n",
              "        const buttonEl =\n",
              "          document.querySelector('#df-468800b2-5dbc-45be-a23a-39d580d92be5 button.colab-df-convert');\n",
              "        buttonEl.style.display =\n",
              "          google.colab.kernel.accessAllowed ? 'block' : 'none';\n",
              "\n",
              "        async function convertToInteractive(key) {\n",
              "          const element = document.querySelector('#df-468800b2-5dbc-45be-a23a-39d580d92be5');\n",
              "          const dataTable =\n",
              "            await google.colab.kernel.invokeFunction('convertToInteractive',\n",
              "                                                     [key], {});\n",
              "          if (!dataTable) return;\n",
              "\n",
              "          const docLinkHtml = 'Like what you see? Visit the ' +\n",
              "            '<a target=\"_blank\" href=https://colab.research.google.com/notebooks/data_table.ipynb>data table notebook</a>'\n",
              "            + ' to learn more about interactive tables.';\n",
              "          element.innerHTML = '';\n",
              "          dataTable['output_type'] = 'display_data';\n",
              "          await google.colab.output.renderOutput(dataTable, element);\n",
              "          const docLink = document.createElement('div');\n",
              "          docLink.innerHTML = docLinkHtml;\n",
              "          element.appendChild(docLink);\n",
              "        }\n",
              "      </script>\n",
              "    </div>\n",
              "  </div>\n",
              "  "
            ]
          },
          "metadata": {},
          "execution_count": 33
        }
      ],
      "source": [
        "df['Polarity_Rating'] = df['Rating'].apply(lambda x: 'Positive' if x > 3 else('Neutral' if x == 3  else 'Negative'))\n",
        "df.head()"
      ]
    },
    {
      "cell_type": "markdown",
      "metadata": {
        "id": "udoBsP3HJZ3C"
      },
      "source": [
        "here ,we are creating the new columns name as the polarity rating in the exisitng dataframe using the lambda function for assign the value for the 'positive' to rows with rating >3, 'neutral' for the rows with the rating =3 and for 'negative' the rating < 3. here its handled by the sentiment polarity for the (positice, negative, neutral) for doing further analysis.\n",
        "\n",
        "\n"
      ]
    },
    {
      "cell_type": "markdown",
      "metadata": {
        "id": "PSlTIO5OC2cA"
      },
      "source": [
        "# **plot diagram for rating visualization:**"
      ]
    },
    {
      "cell_type": "code",
      "execution_count": null,
      "metadata": {
        "colab": {
          "base_uri": "https://localhost:8080/",
          "height": 466
        },
        "id": "XLrHMX7BC2wL",
        "outputId": "90b82db7-f5a8-4b8f-906a-3930e1e1791f"
      },
      "outputs": [
        {
          "output_type": "execute_result",
          "data": {
            "text/plain": [
              "<Axes: xlabel='Rating', ylabel='count'>"
            ]
          },
          "metadata": {},
          "execution_count": 34
        },
        {
          "output_type": "display_data",
          "data": {
            "text/plain": [
              "<Figure size 640x480 with 1 Axes>"
            ],
            "image/png": "[encoded data removed]"
          },
          "metadata": {}
        }
      ],
      "source": [
        "sns.set_style('whitegrid')\n",
        "sns.countplot(x='Rating',data=df, palette='YlGnBu_r')"
      ]
    },
    {
      "cell_type": "markdown",
      "metadata": {
        "id": "Gbt88wqTLGMu"
      },
      "source": [
        "here, we are ploting the diagram using the seaborn libraries.here we are setting the plotting style 'whitegrid' using the set_style() function. after that we are creating the count plot  using the countplot function for display the distribution of the rating values in the dataframe using the greed and blue colors palattes.here we are using the palatte as a 'YlGnBu_r'.\n",
        "\n",
        "\n"
      ]
    },
    {
      "cell_type": "markdown",
      "metadata": {
        "id": "Zew2JTRLDFf9"
      },
      "source": [
        "# **plot diagram for rating count:**"
      ]
    },
    {
      "cell_type": "code",
      "execution_count": null,
      "metadata": {
        "colab": {
          "base_uri": "https://localhost:8080/",
          "height": 467
        },
        "id": "Am0bl4e4DF4L",
        "outputId": "2c11b66e-9a84-40ae-a10f-4516c79522fc"
      },
      "outputs": [
        {
          "output_type": "execute_result",
          "data": {
            "text/plain": [
              "<Axes: xlabel='Polarity_Rating', ylabel='count'>"
            ]
          },
          "metadata": {},
          "execution_count": 35
        },
        {
          "output_type": "display_data",
          "data": {
            "text/plain": [
              "<Figure size 640x480 with 1 Axes>"
            ],
            "image/png": "[encoded data removed]"
          },
          "metadata": {}
        }
      ],
      "source": [
        "sns.set_style('whitegrid')\n",
        "sns.countplot(x='Polarity_Rating',data=df, palette='summer')"
      ]
    },
    {
      "cell_type": "markdown",
      "metadata": {
        "id": "btR1oDVJMi59"
      },
      "source": [
        "Here, we are using the plotting style as the 'whitegrid' using the set_Style() function from the seaborn library. now we are creating the count plot using the countplot  function to display the distribution of the polarity rating values in the dataframe which is assign based on the previus steps depends on the rating values using the summer as color palatte.\n",
        "\n"
      ]
    },
    {
      "cell_type": "markdown",
      "metadata": {
        "id": "1gYXoB4KDPeI"
      },
      "source": [
        "# **Data preprocessing:**"
      ]
    },
    {
      "cell_type": "code",
      "execution_count": null,
      "metadata": {
        "id": "QP8XGWl0DXcT"
      },
      "outputs": [],
      "source": [
        "df_Positive = df[df['Polarity_Rating'] == 'Positive'][0:8000]\n",
        "df_Neutral = df[df['Polarity_Rating'] == 'Neutral']\n",
        "df_Negative = df[df['Polarity_Rating'] == 'Negative']"
      ]
    },
    {
      "cell_type": "markdown",
      "metadata": {
        "id": "klcFcj11NTyT"
      },
      "source": [
        "here, we are creating the three different kind of the dataframes as a positive,negative and neutral by filtering the dataframe based on the polarity rating columns. here the df_positive contains the first 8000 rows with the positive polarity while the df_neutral with the neutral polarity rating and for 'df_negative' here negative polarity rating is used. this is handled by the seperate the reviews based on the polarity rating for the sentiment analysis traning and testing the classification model.\n",
        "\n",
        "\n"
      ]
    },
    {
      "cell_type": "markdown",
      "metadata": {
        "id": "jwszBrYkDaOx"
      },
      "source": [
        "# **merging the sample of the negative and neutral polarity and creating the new dataframe:**"
      ]
    },
    {
      "cell_type": "code",
      "execution_count": null,
      "metadata": {
        "id": "z8yO-OMHDnAs"
      },
      "outputs": [],
      "source": [
        "df_Neutral_over = df_Neutral.sample(8000, replace=True)\n",
        "df_Negative_over = df_Negative.sample(8000, replace=True)\n",
        "df = pd.concat([df_Positive, df_Neutral_over, df_Negative_over], axis=0)"
      ]
    },
    {
      "cell_type": "markdown",
      "metadata": {
        "id": "EbJaYvqNtwUB"
      },
      "source": [
        "Here, we are doing oversampling of the minority classes in the dataset for balanced the distribution of the each classes. we are randomly sampling the 8000 data points with the neutral and negative classes to match with the positive classes. at the last we are concating all the dataframes into one dataframe.\n",
        "\n",
        "here, we are doing this for address classes imbalance, which is occured when one class has few sample than the others. classes imblanced will be make biased model performance, where the model got the higher accuracy for the large amount of the classes but performance is poorly on the some small classes. by doing oversampling the small portion of the classes, we are now creating the balanced dataset and its improve the model performance of the classes.\n",
        "\n"
      ]
    },
    {
      "cell_type": "markdown",
      "metadata": {
        "id": "KetHzZY_Dqhh"
      },
      "source": [
        "# **Text preprocessing:**"
      ]
    },
    {
      "cell_type": "code",
      "execution_count": null,
      "metadata": {
        "id": "ZL6Vj76XDqu9"
      },
      "outputs": [],
      "source": [
        "def get_text_processing(text):\n",
        "    stpword = stopwords.words('english')\n",
        "    no_punctuation = [char for char in text if char not in string.punctuation]\n",
        "    no_punctuation = ''.join(no_punctuation)\n",
        "    return ' '.join([word for word in no_punctuation.split() if word.lower() not in stpword])"
      ]
    },
    {
      "cell_type": "markdown",
      "metadata": {
        "id": "8pzuTu8i2yRF"
      },
      "source": [
        "Here, we are defining the function called get_text_processing which takes the text string as input.\n",
        "this function removes the all punctuations from the text using the string. also do the tokenization where its tokenize the string into the words and remove the stopwords using the stopwords.words function.\n",
        "the main aim of this is to preprocess text data for easy to make model to analyze it. removing the stopwords and punctuation will help to reduce the noise from the text and focus in the important part of the data.\n",
        "\n",
        "\n"
      ]
    },
    {
      "cell_type": "markdown",
      "metadata": {
        "id": "QmHIEZvcD18K"
      },
      "source": [
        "# **Now Apply the method \"get_text_processing\" into column review text:**"
      ]
    },
    {
      "cell_type": "code",
      "execution_count": null,
      "metadata": {
        "colab": {
          "base_uri": "https://localhost:8080/",
          "height": 510
        },
        "id": "3rbNhxonD2VA",
        "outputId": "8e709f9b-1bbd-485a-cbee-a755d79ba2a7"
      },
      "outputs": [
        {
          "output_type": "execute_result",
          "data": {
            "text/plain": [
              "   Clothing ID  Age  \\\n",
              "0          767   33   \n",
              "1         1080   34   \n",
              "3         1049   50   \n",
              "4          847   47   \n",
              "6          858   39   \n",
              "\n",
              "                                                                                                                                                                                                                                                                                                                                                                                                                                                                                                        Review Text  \\\n",
              "0                                                                                                                                                                                                                                                                                                                                                                                                                                                             Absolutely wonderful - silky and sexy and comfortable   \n",
              "1                                                                                                                                                                                                   Love this dress!  it's sooo pretty.  i happened to find it in a store, and i'm glad i did bc i never would have ordered it online bc it's petite.  i bought a petite and am 5'8\".  i love the length on me- hits just a little below the knee.  would definitely be a true midi on someone who is truly petite.   \n",
              "3                                                                                                                                                                                                                                                                                                                                                                                      I love, love, love this jumpsuit. it's fun, flirty, and fabulous! every time i wear it, i get nothing but great compliments!   \n",
              "4                                                                                                                                                                                                                                                                                                                  This shirt is very flattering to all due to the adjustable front tie. it is the perfect length to wear with leggings and it is sleeveless so it pairs well with any cardigan. love this shirt!!!   \n",
              "6  I aded this in my basket at hte last mintue to see what it would look like in person. (store pick up). i went with teh darkler color only because i am so pale :-) hte color is really gorgeous, and turns out it mathced everythiing i was trying on with it prefectly. it is a little baggy on me and hte xs is hte msallet size (bummer, no petite). i decided to jkeep it though, because as i said, it matvehd everything. my ejans, pants, and the 3 skirts i waas trying on (of which i ]kept all ) oops.   \n",
              "\n",
              "   Rating  Recommended IND   Division Name Department Name Class Name  \\\n",
              "0       4                1       Initmates        Intimate  Intimates   \n",
              "1       5                1         General         Dresses    Dresses   \n",
              "3       5                1  General Petite         Bottoms      Pants   \n",
              "4       5                1         General            Tops    Blouses   \n",
              "6       5                1  General Petite            Tops      Knits   \n",
              "\n",
              "  Polarity_Rating  \\\n",
              "0        Positive   \n",
              "1        Positive   \n",
              "3        Positive   \n",
              "4        Positive   \n",
              "6        Positive   \n",
              "\n",
              "                                                                                                                                                                                                                                                                                                          review  \n",
              "0                                                                                                                                                                                                                                                                    Absolutely wonderful silky sexy comfortable  \n",
              "1                                                                                                                       Love dress sooo pretty happened find store im glad bc never would ordered online bc petite bought petite 58 love length hits little knee would definitely true midi someone truly petite  \n",
              "3                                                                                                                                                                                                                      love love love jumpsuit fun flirty fabulous every time wear get nothing great compliments  \n",
              "4                                                                                                                                                                                               shirt flattering due adjustable front tie perfect length wear leggings sleeveless pairs well cardigan love shirt  \n",
              "6  aded basket hte last mintue see would look like person store pick went teh darkler color pale hte color really gorgeous turns mathced everythiing trying prefectly little baggy hte xs hte msallet size bummer petite decided jkeep though said matvehd everything ejans pants 3 skirts waas trying kept oops  "
            ],
            "text/html": [
              "\n",
              "  <div id=\"df-b06b67f8-c165-435b-b229-2e8c2039ed07\">\n",
              "    <div class=\"colab-df-container\">\n",
              "      <div>\n",
              "<style scoped>\n",
              "    .dataframe tbody tr th:only-of-type {\n",
              "        vertical-align: middle;\n",
              "    }\n",
              "\n",
              "    .dataframe tbody tr th {\n",
              "        vertical-align: top;\n",
              "    }\n",
              "\n",
              "    .dataframe thead th {\n",
              "        text-align: right;\n",
              "    }\n",
              "</style>\n",
              "<table border=\"1\" class=\"dataframe\">\n",
              "  <thead>\n",
              "    <tr style=\"text-align: right;\">\n",
              "      <th></th>\n",
              "      <th>Clothing ID</th>\n",
              "      <th>Age</th>\n",
              "      <th>Review Text</th>\n",
              "      <th>Rating</th>\n",
              "      <th>Recommended IND</th>\n",
              "      <th>Division Name</th>\n",
              "      <th>Department Name</th>\n",
              "      <th>Class Name</th>\n",
              "      <th>Polarity_Rating</th>\n",
              "      <th>review</th>\n",
              "    </tr>\n",
              "  </thead>\n",
              "  <tbody>\n",
              "    <tr>\n",
              "      <th>0</th>\n",
              "      <td>767</td>\n",
              "      <td>33</td>\n",
              "      <td>Absolutely wonderful - silky and sexy and comfortable</td>\n",
              "      <td>4</td>\n",
              "      <td>1</td>\n",
              "      <td>Initmates</td>\n",
              "      <td>Intimate</td>\n",
              "      <td>Intimates</td>\n",
              "      <td>Positive</td>\n",
              "      <td>Absolutely wonderful silky sexy comfortable</td>\n",
              "    </tr>\n",
              "    <tr>\n",
              "      <th>1</th>\n",
              "      <td>1080</td>\n",
              "      <td>34</td>\n",
              "      <td>Love this dress!  it's sooo pretty.  i happened to find it in a store, and i'm glad i did bc i never would have ordered it online bc it's petite.  i bought a petite and am 5'8\".  i love the length on me- hits just a little below the knee.  would definitely be a true midi on someone who is truly petite.</td>\n",
              "      <td>5</td>\n",
              "      <td>1</td>\n",
              "      <td>General</td>\n",
              "      <td>Dresses</td>\n",
              "      <td>Dresses</td>\n",
              "      <td>Positive</td>\n",
              "      <td>Love dress sooo pretty happened find store im glad bc never would ordered online bc petite bought petite 58 love length hits little knee would definitely true midi someone truly petite</td>\n",
              "    </tr>\n",
              "    <tr>\n",
              "      <th>3</th>\n",
              "      <td>1049</td>\n",
              "      <td>50</td>\n",
              "      <td>I love, love, love this jumpsuit. it's fun, flirty, and fabulous! every time i wear it, i get nothing but great compliments!</td>\n",
              "      <td>5</td>\n",
              "      <td>1</td>\n",
              "      <td>General Petite</td>\n",
              "      <td>Bottoms</td>\n",
              "      <td>Pants</td>\n",
              "      <td>Positive</td>\n",
              "      <td>love love love jumpsuit fun flirty fabulous every time wear get nothing great compliments</td>\n",
              "    </tr>\n",
              "    <tr>\n",
              "      <th>4</th>\n",
              "      <td>847</td>\n",
              "      <td>47</td>\n",
              "      <td>This shirt is very flattering to all due to the adjustable front tie. it is the perfect length to wear with leggings and it is sleeveless so it pairs well with any cardigan. love this shirt!!!</td>\n",
              "      <td>5</td>\n",
              "      <td>1</td>\n",
              "      <td>General</td>\n",
              "      <td>Tops</td>\n",
              "      <td>Blouses</td>\n",
              "      <td>Positive</td>\n",
              "      <td>shirt flattering due adjustable front tie perfect length wear leggings sleeveless pairs well cardigan love shirt</td>\n",
              "    </tr>\n",
              "    <tr>\n",
              "      <th>6</th>\n",
              "      <td>858</td>\n",
              "      <td>39</td>\n",
              "      <td>I aded this in my basket at hte last mintue to see what it would look like in person. (store pick up). i went with teh darkler color only because i am so pale :-) hte color is really gorgeous, and turns out it mathced everythiing i was trying on with it prefectly. it is a little baggy on me and hte xs is hte msallet size (bummer, no petite). i decided to jkeep it though, because as i said, it matvehd everything. my ejans, pants, and the 3 skirts i waas trying on (of which i ]kept all ) oops.</td>\n",
              "      <td>5</td>\n",
              "      <td>1</td>\n",
              "      <td>General Petite</td>\n",
              "      <td>Tops</td>\n",
              "      <td>Knits</td>\n",
              "      <td>Positive</td>\n",
              "      <td>aded basket hte last mintue see would look like person store pick went teh darkler color pale hte color really gorgeous turns mathced everythiing trying prefectly little baggy hte xs hte msallet size bummer petite decided jkeep though said matvehd everything ejans pants 3 skirts waas trying kept oops</td>\n",
              "    </tr>\n",
              "  </tbody>\n",
              "</table>\n",
              "</div>\n",
              "      <button class=\"colab-df-convert\" onclick=\"convertToInteractive('df-b06b67f8-c165-435b-b229-2e8c2039ed07')\"\n",
              "              title=\"Convert this dataframe to an interactive table.\"\n",
              "              style=\"display:none;\">\n",
              "        \n",
              "  <svg xmlns=\"http://www.w3.org/2000/svg\" height=\"24px\"viewBox=\"0 0 24 24\"\n",
              "       width=\"24px\">\n",
              "    <path d=\"M0 0h24v24H0V0z\" fill=\"none\"/>\n",
              "    <path d=\"M18.56 5.44l.94 2.06.94-2.06 2.06-.94-2.06-.94-.94-2.06-.94 2.06-2.06.94zm-11 1L8.5 8.5l.94-2.06 2.06-.94-2.06-.94L8.5 2.5l-.94 2.06-2.06.94zm10 10l.94 2.06.94-2.06 2.06-.94-2.06-.94-.94-2.06-.94 2.06-2.06.94z\"/><path d=\"M17.41 7.96l-1.37-1.37c-.4-.4-.92-.59-1.43-.59-.52 0-1.04.2-1.43.59L10.3 9.45l-7.72 7.72c-.78.78-.78 2.05 0 2.83L4 21.41c.39.39.9.59 1.41.59.51 0 1.02-.2 1.41-.59l7.78-7.78 2.81-2.81c.8-.78.8-2.07 0-2.86zM5.41 20L4 18.59l7.72-7.72 1.47 1.35L5.41 20z\"/>\n",
              "  </svg>\n",
              "      </button>\n",
              "      \n",
              "  <style>\n",
              "    .colab-df-container {\n",
              "      display:flex;\n",
              "      flex-wrap:wrap;\n",
              "      gap: 12px;\n",
              "    }\n",
              "\n",
              "    .colab-df-convert {\n",
              "      background-color: #E8F0FE;\n",
              "      border: none;\n",
              "      border-radius: 50%;\n",
              "      cursor: pointer;\n",
              "      display: none;\n",
              "      fill: #1967D2;\n",
              "      height: 32px;\n",
              "      padding: 0 0 0 0;\n",
              "      width: 32px;\n",
              "    }\n",
              "\n",
              "    .colab-df-convert:hover {\n",
              "      background-color: #E2EBFA;\n",
              "      box-shadow: 0px 1px 2px rgba(60, 64, 67, 0.3), 0px 1px 3px 1px rgba(60, 64, 67, 0.15);\n",
              "      fill: #174EA6;\n",
              "    }\n",
              "\n",
              "    [theme=dark] .colab-df-convert {\n",
              "      background-color: #3B4455;\n",
              "      fill: #D2E3FC;\n",
              "    }\n",
              "\n",
              "    [theme=dark] .colab-df-convert:hover {\n",
              "      background-color: #434B5C;\n",
              "      box-shadow: 0px 1px 3px 1px rgba(0, 0, 0, 0.15);\n",
              "      filter: drop-shadow(0px 1px 2px rgba(0, 0, 0, 0.3));\n",
              "      fill: #FFFFFF;\n",
              "    }\n",
              "  </style>\n",
              "\n",
              "      <script>\n",
              "        const buttonEl =\n",
              "          document.querySelector('#df-b06b67f8-c165-435b-b229-2e8c2039ed07 button.colab-df-convert');\n",
              "        buttonEl.style.display =\n",
              "          google.colab.kernel.accessAllowed ? 'block' : 'none';\n",
              "\n",
              "        async function convertToInteractive(key) {\n",
              "          const element = document.querySelector('#df-b06b67f8-c165-435b-b229-2e8c2039ed07');\n",
              "          const dataTable =\n",
              "            await google.colab.kernel.invokeFunction('convertToInteractive',\n",
              "                                                     [key], {});\n",
              "          if (!dataTable) return;\n",
              "\n",
              "          const docLinkHtml = 'Like what you see? Visit the ' +\n",
              "            '<a target=\"_blank\" href=https://colab.research.google.com/notebooks/data_table.ipynb>data table notebook</a>'\n",
              "            + ' to learn more about interactive tables.';\n",
              "          element.innerHTML = '';\n",
              "          dataTable['output_type'] = 'display_data';\n",
              "          await google.colab.output.renderOutput(dataTable, element);\n",
              "          const docLink = document.createElement('div');\n",
              "          docLink.innerHTML = docLinkHtml;\n",
              "          element.appendChild(docLink);\n",
              "        }\n",
              "      </script>\n",
              "    </div>\n",
              "  </div>\n",
              "  "
            ]
          },
          "metadata": {},
          "execution_count": 39
        }
      ],
      "source": [
        "df['review'] = df['Review Text'].apply(get_text_processing)\n",
        "df.head()"
      ]
    },
    {
      "cell_type": "markdown",
      "metadata": {
        "id": "jcM191Mv4jsW"
      },
      "source": [
        "here, we are creating the new column in the existing dataframe called review by applying the get_text_processing function to the values in the review text column. here apply() method we will use to each row in the columns.\n",
        "\n",
        "here we are preprocess the text data into the review text column by removing the punctuations and stopwords and stored them into the processed text in the new column review. this is easy to analyze the data in the dataframe.\n",
        "\n",
        "\n"
      ]
    },
    {
      "cell_type": "markdown",
      "metadata": {
        "id": "w2JDG0EUEIM6"
      },
      "source": [
        "# **Visualize Text Review with Polarity Rating**"
      ]
    },
    {
      "cell_type": "code",
      "execution_count": null,
      "metadata": {
        "colab": {
          "base_uri": "https://localhost:8080/",
          "height": 267
        },
        "id": "3Jgm6rgEEIbe",
        "outputId": "9f906f22-15df-44e0-990a-d4753b6899b0"
      },
      "outputs": [
        {
          "output_type": "execute_result",
          "data": {
            "text/plain": [
              "                                                                                                                                                                                                                                                                                                          review  \\\n",
              "0                                                                                                                                                                                                                                                                    Absolutely wonderful silky sexy comfortable   \n",
              "1                                                                                                                       Love dress sooo pretty happened find store im glad bc never would ordered online bc petite bought petite 58 love length hits little knee would definitely true midi someone truly petite   \n",
              "3                                                                                                                                                                                                                      love love love jumpsuit fun flirty fabulous every time wear get nothing great compliments   \n",
              "4                                                                                                                                                                                               shirt flattering due adjustable front tie perfect length wear leggings sleeveless pairs well cardigan love shirt   \n",
              "6  aded basket hte last mintue see would look like person store pick went teh darkler color pale hte color really gorgeous turns mathced everythiing trying prefectly little baggy hte xs hte msallet size bummer petite decided jkeep though said matvehd everything ejans pants 3 skirts waas trying kept oops   \n",
              "\n",
              "  Polarity_Rating  \n",
              "0        Positive  \n",
              "1        Positive  \n",
              "3        Positive  \n",
              "4        Positive  \n",
              "6        Positive  "
            ],
            "text/html": [
              "\n",
              "  <div id=\"df-7035fb96-9d9c-4803-b600-764d64140e41\">\n",
              "    <div class=\"colab-df-container\">\n",
              "      <div>\n",
              "<style scoped>\n",
              "    .dataframe tbody tr th:only-of-type {\n",
              "        vertical-align: middle;\n",
              "    }\n",
              "\n",
              "    .dataframe tbody tr th {\n",
              "        vertical-align: top;\n",
              "    }\n",
              "\n",
              "    .dataframe thead th {\n",
              "        text-align: right;\n",
              "    }\n",
              "</style>\n",
              "<table border=\"1\" class=\"dataframe\">\n",
              "  <thead>\n",
              "    <tr style=\"text-align: right;\">\n",
              "      <th></th>\n",
              "      <th>review</th>\n",
              "      <th>Polarity_Rating</th>\n",
              "    </tr>\n",
              "  </thead>\n",
              "  <tbody>\n",
              "    <tr>\n",
              "      <th>0</th>\n",
              "      <td>Absolutely wonderful silky sexy comfortable</td>\n",
              "      <td>Positive</td>\n",
              "    </tr>\n",
              "    <tr>\n",
              "      <th>1</th>\n",
              "      <td>Love dress sooo pretty happened find store im glad bc never would ordered online bc petite bought petite 58 love length hits little knee would definitely true midi someone truly petite</td>\n",
              "      <td>Positive</td>\n",
              "    </tr>\n",
              "    <tr>\n",
              "      <th>3</th>\n",
              "      <td>love love love jumpsuit fun flirty fabulous every time wear get nothing great compliments</td>\n",
              "      <td>Positive</td>\n",
              "    </tr>\n",
              "    <tr>\n",
              "      <th>4</th>\n",
              "      <td>shirt flattering due adjustable front tie perfect length wear leggings sleeveless pairs well cardigan love shirt</td>\n",
              "      <td>Positive</td>\n",
              "    </tr>\n",
              "    <tr>\n",
              "      <th>6</th>\n",
              "      <td>aded basket hte last mintue see would look like person store pick went teh darkler color pale hte color really gorgeous turns mathced everythiing trying prefectly little baggy hte xs hte msallet size bummer petite decided jkeep though said matvehd everything ejans pants 3 skirts waas trying kept oops</td>\n",
              "      <td>Positive</td>\n",
              "    </tr>\n",
              "  </tbody>\n",
              "</table>\n",
              "</div>\n",
              "      <button class=\"colab-df-convert\" onclick=\"convertToInteractive('df-7035fb96-9d9c-4803-b600-764d64140e41')\"\n",
              "              title=\"Convert this dataframe to an interactive table.\"\n",
              "              style=\"display:none;\">\n",
              "        \n",
              "  <svg xmlns=\"http://www.w3.org/2000/svg\" height=\"24px\"viewBox=\"0 0 24 24\"\n",
              "       width=\"24px\">\n",
              "    <path d=\"M0 0h24v24H0V0z\" fill=\"none\"/>\n",
              "    <path d=\"M18.56 5.44l.94 2.06.94-2.06 2.06-.94-2.06-.94-.94-2.06-.94 2.06-2.06.94zm-11 1L8.5 8.5l.94-2.06 2.06-.94-2.06-.94L8.5 2.5l-.94 2.06-2.06.94zm10 10l.94 2.06.94-2.06 2.06-.94-2.06-.94-.94-2.06-.94 2.06-2.06.94z\"/><path d=\"M17.41 7.96l-1.37-1.37c-.4-.4-.92-.59-1.43-.59-.52 0-1.04.2-1.43.59L10.3 9.45l-7.72 7.72c-.78.78-.78 2.05 0 2.83L4 21.41c.39.39.9.59 1.41.59.51 0 1.02-.2 1.41-.59l7.78-7.78 2.81-2.81c.8-.78.8-2.07 0-2.86zM5.41 20L4 18.59l7.72-7.72 1.47 1.35L5.41 20z\"/>\n",
              "  </svg>\n",
              "      </button>\n",
              "      \n",
              "  <style>\n",
              "    .colab-df-container {\n",
              "      display:flex;\n",
              "      flex-wrap:wrap;\n",
              "      gap: 12px;\n",
              "    }\n",
              "\n",
              "    .colab-df-convert {\n",
              "      background-color: #E8F0FE;\n",
              "      border: none;\n",
              "      border-radius: 50%;\n",
              "      cursor: pointer;\n",
              "      display: none;\n",
              "      fill: #1967D2;\n",
              "      height: 32px;\n",
              "      padding: 0 0 0 0;\n",
              "      width: 32px;\n",
              "    }\n",
              "\n",
              "    .colab-df-convert:hover {\n",
              "      background-color: #E2EBFA;\n",
              "      box-shadow: 0px 1px 2px rgba(60, 64, 67, 0.3), 0px 1px 3px 1px rgba(60, 64, 67, 0.15);\n",
              "      fill: #174EA6;\n",
              "    }\n",
              "\n",
              "    [theme=dark] .colab-df-convert {\n",
              "      background-color: #3B4455;\n",
              "      fill: #D2E3FC;\n",
              "    }\n",
              "\n",
              "    [theme=dark] .colab-df-convert:hover {\n",
              "      background-color: #434B5C;\n",
              "      box-shadow: 0px 1px 3px 1px rgba(0, 0, 0, 0.15);\n",
              "      filter: drop-shadow(0px 1px 2px rgba(0, 0, 0, 0.3));\n",
              "      fill: #FFFFFF;\n",
              "    }\n",
              "  </style>\n",
              "\n",
              "      <script>\n",
              "        const buttonEl =\n",
              "          document.querySelector('#df-7035fb96-9d9c-4803-b600-764d64140e41 button.colab-df-convert');\n",
              "        buttonEl.style.display =\n",
              "          google.colab.kernel.accessAllowed ? 'block' : 'none';\n",
              "\n",
              "        async function convertToInteractive(key) {\n",
              "          const element = document.querySelector('#df-7035fb96-9d9c-4803-b600-764d64140e41');\n",
              "          const dataTable =\n",
              "            await google.colab.kernel.invokeFunction('convertToInteractive',\n",
              "                                                     [key], {});\n",
              "          if (!dataTable) return;\n",
              "\n",
              "          const docLinkHtml = 'Like what you see? Visit the ' +\n",
              "            '<a target=\"_blank\" href=https://colab.research.google.com/notebooks/data_table.ipynb>data table notebook</a>'\n",
              "            + ' to learn more about interactive tables.';\n",
              "          element.innerHTML = '';\n",
              "          dataTable['output_type'] = 'display_data';\n",
              "          await google.colab.output.renderOutput(dataTable, element);\n",
              "          const docLink = document.createElement('div');\n",
              "          docLink.innerHTML = docLinkHtml;\n",
              "          element.appendChild(docLink);\n",
              "        }\n",
              "      </script>\n",
              "    </div>\n",
              "  </div>\n",
              "  "
            ]
          },
          "metadata": {},
          "execution_count": 40
        }
      ],
      "source": [
        "df = df[['review', 'Polarity_Rating']]\n",
        "df.head()"
      ]
    },
    {
      "cell_type": "markdown",
      "metadata": {
        "id": "SbnZTdaNYxCK"
      },
      "source": [
        "here, we are visualizing the data of the two different columns review and polarity_rating.\n",
        "first line here is for selecting the columns review and polarity_rating from the dataframe. the second line of the code is display the first few rows of the dataframe.\n",
        "\n"
      ]
    },
    {
      "cell_type": "markdown",
      "metadata": {
        "id": "bG3o-_UOEPDC"
      },
      "source": [
        "# **Apply One hot encoding on negative, neutral, and positive:**"
      ]
    },
    {
      "cell_type": "code",
      "execution_count": null,
      "metadata": {
        "colab": {
          "base_uri": "https://localhost:8080/",
          "height": 267
        },
        "id": "1I7B2ecdEPRK",
        "outputId": "99757eae-90bf-4195-d2b5-960aad3a7054"
      },
      "outputs": [
        {
          "output_type": "execute_result",
          "data": {
            "text/plain": [
              "                                                                                                                                                                                                                                                                                                          review  \\\n",
              "0                                                                                                                                                                                                                                                                    Absolutely wonderful silky sexy comfortable   \n",
              "1                                                                                                                       Love dress sooo pretty happened find store im glad bc never would ordered online bc petite bought petite 58 love length hits little knee would definitely true midi someone truly petite   \n",
              "3                                                                                                                                                                                                                      love love love jumpsuit fun flirty fabulous every time wear get nothing great compliments   \n",
              "4                                                                                                                                                                                               shirt flattering due adjustable front tie perfect length wear leggings sleeveless pairs well cardigan love shirt   \n",
              "6  aded basket hte last mintue see would look like person store pick went teh darkler color pale hte color really gorgeous turns mathced everythiing trying prefectly little baggy hte xs hte msallet size bummer petite decided jkeep though said matvehd everything ejans pants 3 skirts waas trying kept oops   \n",
              "\n",
              "   Negative  Neutral  Positive  \n",
              "0         0        0         1  \n",
              "1         0        0         1  \n",
              "3         0        0         1  \n",
              "4         0        0         1  \n",
              "6         0        0         1  "
            ],
            "text/html": [
              "\n",
              "  <div id=\"df-823458cd-519f-429d-b25b-265874e2e7a3\">\n",
              "    <div class=\"colab-df-container\">\n",
              "      <div>\n",
              "<style scoped>\n",
              "    .dataframe tbody tr th:only-of-type {\n",
              "        vertical-align: middle;\n",
              "    }\n",
              "\n",
              "    .dataframe tbody tr th {\n",
              "        vertical-align: top;\n",
              "    }\n",
              "\n",
              "    .dataframe thead th {\n",
              "        text-align: right;\n",
              "    }\n",
              "</style>\n",
              "<table border=\"1\" class=\"dataframe\">\n",
              "  <thead>\n",
              "    <tr style=\"text-align: right;\">\n",
              "      <th></th>\n",
              "      <th>review</th>\n",
              "      <th>Negative</th>\n",
              "      <th>Neutral</th>\n",
              "      <th>Positive</th>\n",
              "    </tr>\n",
              "  </thead>\n",
              "  <tbody>\n",
              "    <tr>\n",
              "      <th>0</th>\n",
              "      <td>Absolutely wonderful silky sexy comfortable</td>\n",
              "      <td>0</td>\n",
              "      <td>0</td>\n",
              "      <td>1</td>\n",
              "    </tr>\n",
              "    <tr>\n",
              "      <th>1</th>\n",
              "      <td>Love dress sooo pretty happened find store im glad bc never would ordered online bc petite bought petite 58 love length hits little knee would definitely true midi someone truly petite</td>\n",
              "      <td>0</td>\n",
              "      <td>0</td>\n",
              "      <td>1</td>\n",
              "    </tr>\n",
              "    <tr>\n",
              "      <th>3</th>\n",
              "      <td>love love love jumpsuit fun flirty fabulous every time wear get nothing great compliments</td>\n",
              "      <td>0</td>\n",
              "      <td>0</td>\n",
              "      <td>1</td>\n",
              "    </tr>\n",
              "    <tr>\n",
              "      <th>4</th>\n",
              "      <td>shirt flattering due adjustable front tie perfect length wear leggings sleeveless pairs well cardigan love shirt</td>\n",
              "      <td>0</td>\n",
              "      <td>0</td>\n",
              "      <td>1</td>\n",
              "    </tr>\n",
              "    <tr>\n",
              "      <th>6</th>\n",
              "      <td>aded basket hte last mintue see would look like person store pick went teh darkler color pale hte color really gorgeous turns mathced everythiing trying prefectly little baggy hte xs hte msallet size bummer petite decided jkeep though said matvehd everything ejans pants 3 skirts waas trying kept oops</td>\n",
              "      <td>0</td>\n",
              "      <td>0</td>\n",
              "      <td>1</td>\n",
              "    </tr>\n",
              "  </tbody>\n",
              "</table>\n",
              "</div>\n",
              "      <button class=\"colab-df-convert\" onclick=\"convertToInteractive('df-823458cd-519f-429d-b25b-265874e2e7a3')\"\n",
              "              title=\"Convert this dataframe to an interactive table.\"\n",
              "              style=\"display:none;\">\n",
              "        \n",
              "  <svg xmlns=\"http://www.w3.org/2000/svg\" height=\"24px\"viewBox=\"0 0 24 24\"\n",
              "       width=\"24px\">\n",
              "    <path d=\"M0 0h24v24H0V0z\" fill=\"none\"/>\n",
              "    <path d=\"M18.56 5.44l.94 2.06.94-2.06 2.06-.94-2.06-.94-.94-2.06-.94 2.06-2.06.94zm-11 1L8.5 8.5l.94-2.06 2.06-.94-2.06-.94L8.5 2.5l-.94 2.06-2.06.94zm10 10l.94 2.06.94-2.06 2.06-.94-2.06-.94-.94-2.06-.94 2.06-2.06.94z\"/><path d=\"M17.41 7.96l-1.37-1.37c-.4-.4-.92-.59-1.43-.59-.52 0-1.04.2-1.43.59L10.3 9.45l-7.72 7.72c-.78.78-.78 2.05 0 2.83L4 21.41c.39.39.9.59 1.41.59.51 0 1.02-.2 1.41-.59l7.78-7.78 2.81-2.81c.8-.78.8-2.07 0-2.86zM5.41 20L4 18.59l7.72-7.72 1.47 1.35L5.41 20z\"/>\n",
              "  </svg>\n",
              "      </button>\n",
              "      \n",
              "  <style>\n",
              "    .colab-df-container {\n",
              "      display:flex;\n",
              "      flex-wrap:wrap;\n",
              "      gap: 12px;\n",
              "    }\n",
              "\n",
              "    .colab-df-convert {\n",
              "      background-color: #E8F0FE;\n",
              "      border: none;\n",
              "      border-radius: 50%;\n",
              "      cursor: pointer;\n",
              "      display: none;\n",
              "      fill: #1967D2;\n",
              "      height: 32px;\n",
              "      padding: 0 0 0 0;\n",
              "      width: 32px;\n",
              "    }\n",
              "\n",
              "    .colab-df-convert:hover {\n",
              "      background-color: #E2EBFA;\n",
              "      box-shadow: 0px 1px 2px rgba(60, 64, 67, 0.3), 0px 1px 3px 1px rgba(60, 64, 67, 0.15);\n",
              "      fill: #174EA6;\n",
              "    }\n",
              "\n",
              "    [theme=dark] .colab-df-convert {\n",
              "      background-color: #3B4455;\n",
              "      fill: #D2E3FC;\n",
              "    }\n",
              "\n",
              "    [theme=dark] .colab-df-convert:hover {\n",
              "      background-color: #434B5C;\n",
              "      box-shadow: 0px 1px 3px 1px rgba(0, 0, 0, 0.15);\n",
              "      filter: drop-shadow(0px 1px 2px rgba(0, 0, 0, 0.3));\n",
              "      fill: #FFFFFF;\n",
              "    }\n",
              "  </style>\n",
              "\n",
              "      <script>\n",
              "        const buttonEl =\n",
              "          document.querySelector('#df-823458cd-519f-429d-b25b-265874e2e7a3 button.colab-df-convert');\n",
              "        buttonEl.style.display =\n",
              "          google.colab.kernel.accessAllowed ? 'block' : 'none';\n",
              "\n",
              "        async function convertToInteractive(key) {\n",
              "          const element = document.querySelector('#df-823458cd-519f-429d-b25b-265874e2e7a3');\n",
              "          const dataTable =\n",
              "            await google.colab.kernel.invokeFunction('convertToInteractive',\n",
              "                                                     [key], {});\n",
              "          if (!dataTable) return;\n",
              "\n",
              "          const docLinkHtml = 'Like what you see? Visit the ' +\n",
              "            '<a target=\"_blank\" href=https://colab.research.google.com/notebooks/data_table.ipynb>data table notebook</a>'\n",
              "            + ' to learn more about interactive tables.';\n",
              "          element.innerHTML = '';\n",
              "          dataTable['output_type'] = 'display_data';\n",
              "          await google.colab.output.renderOutput(dataTable, element);\n",
              "          const docLink = document.createElement('div');\n",
              "          docLink.innerHTML = docLinkHtml;\n",
              "          element.appendChild(docLink);\n",
              "        }\n",
              "      </script>\n",
              "    </div>\n",
              "  </div>\n",
              "  "
            ]
          },
          "metadata": {},
          "execution_count": 41
        }
      ],
      "source": [
        "one_hot = pd.get_dummies(df[\"Polarity_Rating\"])\n",
        "df.drop(['Polarity_Rating'],axis=1,inplace=True)\n",
        "df = pd.concat([df,one_hot],axis=1)\n",
        "df.head()"
      ]
    },
    {
      "cell_type": "markdown",
      "metadata": {
        "id": "Qt9rUtzlZVlo"
      },
      "source": [
        "here, first we are creating one-hot encoded its represent of the polarity_rating columns in the dataframe. in the second line we are droping the lines of the polarity_rating columns from the original dataframe.\n",
        "\n",
        "after that we are concatenating the one-hot encoded to represent of the polarity_rating with the original dataframes and here we are assigning the result into the dataframe.\n",
        "\n",
        "here we are convert the categorical variable polarity_rating into the numerical values which can be use as input for the models. here one-hot encoding creates the binary columns for the each unique value in the categorical variable,with the value of 1 in the column and indicate the present of that value in the original data.\n",
        "\n",
        "\n"
      ]
    },
    {
      "cell_type": "markdown",
      "metadata": {
        "id": "8SrDt2MgEXEZ"
      },
      "source": [
        "# **Spliting the data:**"
      ]
    },
    {
      "cell_type": "code",
      "execution_count": null,
      "metadata": {
        "id": "mCloY6odEXUa"
      },
      "outputs": [],
      "source": [
        "X = df['review'].values\n",
        "y = df.drop('review', axis=1).values\n",
        "X_train, X_test, y_train, y_test = train_test_split(X, y, test_size=0.30, random_state=42)"
      ]
    },
    {
      "cell_type": "markdown",
      "metadata": {
        "id": "_jSGQqcdZXct"
      },
      "source": [
        "here,we are spliting the data using the train_test_split() function.\n",
        "\n",
        "first we are selecting x where we select the review column from the dataframe and extracting the values. while, for y we are droping the review columns data and taking input as a other columns values.\n",
        "\n",
        "after that we are spliting the data into the X_train, X_test, y_train, y_test using the train_test_split() function. here we are passing some parameter into this such as  x which is have the values of the review columns data and y which is have other columns values rather then review values. after that we are providing the spliting percentage for train and test, where the train set is containing the 70% of the data while the testing set contains the 30% of the data. additionally, we are passing the last parameter which is random_state=42 which is represent that we are spliting the data based on the random manner.\n",
        "\n",
        "\n"
      ]
    },
    {
      "cell_type": "markdown",
      "metadata": {
        "id": "NjqpPtnHEgj8"
      },
      "source": [
        "# **Apply vectorization:**"
      ]
    },
    {
      "cell_type": "code",
      "execution_count": null,
      "metadata": {
        "id": "Yrr4Bn0JEg0m"
      },
      "outputs": [],
      "source": [
        "vect = CountVectorizer()\n",
        "X_train = vect.fit_transform(X_train)\n",
        "X_test = vect.transform(X_test)"
      ]
    },
    {
      "cell_type": "markdown",
      "metadata": {
        "id": "q068xIl0Z6nH"
      },
      "source": [
        "here we are creating the instance of the countervectorizer() which is used for convert the categorical data into the numberical matrics.\n",
        "for that first we are creating the instance of the countervectorizer() and after that we are trying to fiting the data intot the X_train using the fit_transform() which is used for converting the data into the sparse matrix representing the word count in the each review and assign the results into the X_train variable.\n",
        "\n",
        "the last line represent that here we are using the transform() method to convert the data into the sparse matrix and represent the word counts and we store this values into the X_test variable.\n",
        "\n",
        "the main aim is to doing this is to convert the categorical data into the numerical sparse matrix represent the word count and frequency of the words which are going to use as input for the train the model.\n",
        "\n",
        "\n",
        "\n",
        "\n",
        "\n"
      ]
    },
    {
      "cell_type": "markdown",
      "metadata": {
        "id": "k_xNoFCNEmwh"
      },
      "source": [
        "# **Apply frequency, inverse document frequency::**"
      ]
    },
    {
      "cell_type": "code",
      "execution_count": null,
      "metadata": {
        "id": "hMIq2s3jEm-1"
      },
      "outputs": [],
      "source": [
        "tfidf = TfidfTransformer()\n",
        "X_train = tfidf.fit_transform(X_train)\n",
        "X_test = tfidf.transform(X_test)\n",
        "X_train = X_train.toarray()\n",
        "X_test = X_test.toarray()"
      ]
    },
    {
      "cell_type": "markdown",
      "metadata": {
        "id": "MtoCL90MaONx"
      },
      "source": [
        "Tf-Idf - term frewuency- inverse document frequency.\n",
        "here,first we are creating the instance of the tfidftransformer() and assign the variable into the tfidf.\n",
        "after that we are uisng the fit_transform() methof with the x_train data which is convert the data into the sparse matrix represent of the term frequency-inverse document frequency in the each words in each reviews and assign the values into the X_train.\n",
        "\n",
        "after that we are using the transform method for the testing data X_test into the sparse matrix representation of the tf-idf score. and here we are cinverting the training and testing the data into the dense array using the toarray method.\n",
        "\n",
        "here we are performing normalize the words counts in the each reviews by taking into the account of the frequency of the each word across the all reviews. and here were reducing the effect of the common words which are appear in the many reviews and are less useful for sentiment analysis. here tf-idf features is used for the input in the model for training.\n",
        "\n",
        "\n"
      ]
    },
    {
      "cell_type": "markdown",
      "metadata": {
        "id": "n1T53qq6ojTb"
      },
      "source": [
        "# **Add different layers:**"
      ]
    },
    {
      "cell_type": "code",
      "execution_count": null,
      "metadata": {
        "id": "Oxwm6DlIoji0"
      },
      "outputs": [],
      "source": [
        "model = Sequential()\n",
        "\n",
        "model.add(Dense(units=12673,activation='relu'))\n",
        "model.add(Dropout(0.5))\n",
        "\n",
        "model.add(Dense(units=4000,activation='relu'))\n",
        "model.add(Dropout(0.5))\n",
        "\n",
        "model.add(Dense(units=500,activation='relu'))\n",
        "model.add(Dropout(0.5))\n",
        "\n",
        "model.add(Dense(units=3, activation='softmax'))\n",
        "\n",
        "opt=tf.keras.optimizers.Adam(learning_rate=0.001)\n",
        "model.compile(loss='categorical_crossentropy', optimizer=opt, metrics=['accuracy'])\n",
        "\n",
        "early_stop = EarlyStopping(monitor='val_loss', mode='min', verbose=1, patience=2)"
      ]
    },
    {
      "cell_type": "markdown",
      "metadata": {
        "id": "VPkDjNGIbxGh"
      },
      "source": [
        "here, we are using the sequential neural network model using the keras library. here there are four dense layers with Relu activation function and dropout regularization for solving issue of the overfitting.\n",
        "\n",
        "now we are using the output layer with the three units and a softmax activation function for predicting the probability of the each sentiment labels. after that we are using the adam optimizer with the learning rate of 0.001 and set the loss function to categorical cross entropy and metrix accuracy.\n",
        "\n",
        "here after that we are calling the callback method to early stopping and for monitor the loss of the validation during the training and callback will stop if the performance of the model will not improve  for two epochs, its required for preventing to overfitting and reduce the training time.\n",
        "\n",
        "here we are compiling the model using the parameters first is loss function value is used as categorical crossentropy, second is optimizer with opt values and last is the matrics with value as the accuracy.\n",
        "\n",
        "at the last weare doing early stopping process with passing the  parameters which are monitor with the value is val_loss and second is mode with min value and verbose set as 1 and last patience with 2.\n"
      ]
    },
    {
      "cell_type": "markdown",
      "metadata": {
        "id": "DNwhBiDKoqqG"
      },
      "source": [
        "# **Fit the model:**"
      ]
    },
    {
      "cell_type": "code",
      "execution_count": null,
      "metadata": {
        "colab": {
          "base_uri": "https://localhost:8080/"
        },
        "id": "26dCDnSEoq6Z",
        "outputId": "4bc8e23d-2858-4aca-e65b-626458dd5e42"
      },
      "outputs": [
        {
          "output_type": "stream",
          "name": "stdout",
          "text": [
            "Epoch 1/100\n",
            "66/66 [==============================] - 390s 6s/step - loss: 0.0036 - accuracy: 0.9994 - val_loss: 0.3808 - val_accuracy: 0.9314\n",
            "Epoch 2/100\n",
            "66/66 [==============================] - 379s 6s/step - loss: 0.0044 - accuracy: 0.9990 - val_loss: 0.3985 - val_accuracy: 0.9318\n",
            "Epoch 3/100\n",
            "66/66 [==============================] - 385s 6s/step - loss: 0.0028 - accuracy: 0.9992 - val_loss: 0.4197 - val_accuracy: 0.9299\n",
            "Epoch 3: early stopping\n"
          ]
        },
        {
          "output_type": "execute_result",
          "data": {
            "text/plain": [
              "<keras.callbacks.History at 0x7fa0c43c1490>"
            ]
          },
          "metadata": {},
          "execution_count": 48
        }
      ],
      "source": [
        "model.fit(x=X_train, y=y_train, batch_size=256, epochs=100, validation_data=(X_test, y_test), verbose=1, callbacks=early_stop)"
      ]
    },
    {
      "cell_type": "markdown",
      "metadata": {
        "id": "MBYFxpCvcLiw"
      },
      "source": [
        "here,we are training the model using the fit() method.\n",
        "we are first using the instance of the model and use fit() method with the parameters which are x for x_train , y for y_train, batch size of 256,  epochs are set 100 and validation data is passes as x_test and y_test as well as verbose as 1 and callsback is set as the early stop for preventing the overfitting the model and reducing the training timing.\n",
        "\n",
        "the main aim is to train the neural network model using  the training data and evaluate the performance using the validation data and we are using the callback function also to stop the modle if the models epochs 2 and its not improving the performance of the model.\n",
        "\n"
      ]
    },
    {
      "cell_type": "markdown",
      "metadata": {
        "id": "6D3KFjZyoyd0"
      },
      "source": [
        "# **Evaluation the model:**"
      ]
    },
    {
      "cell_type": "code",
      "execution_count": null,
      "metadata": {
        "colab": {
          "base_uri": "https://localhost:8080/"
        },
        "id": "br75EXCsoyvB",
        "outputId": "dd079df9-62c9-4b65-caae-47c9662dc141"
      },
      "outputs": [
        {
          "output_type": "stream",
          "name": "stdout",
          "text": [
            "113/113 [==============================] - 46s 408ms/step - loss: 0.4197 - accuracy: 0.9299\n",
            "Test accuracy: 0.9298611283302307\n"
          ]
        }
      ],
      "source": [
        "model_score = model.evaluate(X_test, y_test, batch_size=64, verbose=1)\n",
        "print('Test accuracy:', model_score[1])"
      ]
    },
    {
      "cell_type": "markdown",
      "metadata": {
        "id": "cqpMp-W4cXyQ"
      },
      "source": [
        "Here, we are evaluating the model using the testing dataset.\n",
        "first we are creating the instance of the model named variable as the model_score.\n",
        "\n",
        "after that we are using the evaluate method in this method we are passing the parameters which are X_test, y_test, batch size as 64 and verbose as 1.\n",
        "\n",
        "and the last we are printing the test accuracy and passing the model_Score as 1.\n",
        "\n",
        "here we are evaluating the performance of the trained neural network model using the testing data and here we are giving the accuracy score, which is here defines the predicted labels using the sentiment labels for all the testing examples.\n",
        "\n"
      ]
    },
    {
      "cell_type": "markdown",
      "metadata": {
        "id": "6Krhxcsyo5OS"
      },
      "source": [
        "# **prediction:**"
      ]
    },
    {
      "cell_type": "code",
      "execution_count": null,
      "metadata": {
        "colab": {
          "base_uri": "https://localhost:8080/"
        },
        "id": "qWWNanHQo5f_",
        "outputId": "052632ac-fcc8-4ed6-8d2c-7310112b1588"
      },
      "outputs": [
        {
          "output_type": "stream",
          "name": "stdout",
          "text": [
            "225/225 [==============================] - 54s 239ms/step\n"
          ]
        },
        {
          "output_type": "execute_result",
          "data": {
            "text/plain": [
              "array([[1.2932129e-11, 7.8521641e-11, 9.9999994e-01],\n",
              "       [9.9999970e-01, 4.5962678e-09, 1.8270124e-07],\n",
              "       [9.9999982e-01, 6.3653616e-09, 7.3791803e-08],\n",
              "       ...,\n",
              "       [9.9999815e-01, 1.4736141e-08, 1.8470030e-06],\n",
              "       [2.3108317e-09, 2.5500330e-10, 9.9999994e-01],\n",
              "       [1.9690034e-09, 1.7569791e-09, 9.9999994e-01]], dtype=float32)"
            ]
          },
          "metadata": {},
          "execution_count": 50
        }
      ],
      "source": [
        "preds = model.predict(X_test)\n",
        "preds"
      ]
    },
    {
      "cell_type": "markdown",
      "metadata": {
        "id": "yp19_X0ecz8-"
      },
      "source": [
        "here, we are predicting the labels using the actual labels.\n",
        "\n",
        "for that we are using the instance of the model along with the predict() method and in this method we are passing the parameter x_test and storing the labels in to the preds variable. and at the last we are returning the variable preds.\n",
        "\n",
        "here its use for generating the predictiong of the sentiment labels using the testing data using the neural network model, which is used for the further analysis and evaluating the model performance.\n",
        "\n"
      ]
    },
    {
      "cell_type": "markdown",
      "metadata": {
        "id": "PtspnsA6FN6x"
      },
      "source": [
        "#Task 6: (20 Points)\n",
        "\n",
        "Write a Python function that takes in a list of sentences and uses the NLTK library to perform sentiment analysis on each sentence."
      ]
    },
    {
      "cell_type": "code",
      "execution_count": null,
      "metadata": {
        "colab": {
          "base_uri": "https://localhost:8080/"
        },
        "id": "nbbQB4GTFw0E",
        "outputId": "ed8905a2-416d-4fe0-d0a5-dcf9e64a3b2e"
      },
      "outputs": [
        {
          "output_type": "stream",
          "name": "stdout",
          "text": [
            "I love going to the beach on a sunny day: Positive\n",
            "The traffic is terrible during rush hour: Negative\n",
            "I can't stand the taste of broccoli: Neutral\n",
            "I had a great time at the party last night: Positive\n",
            "The movie was really boring and slow-paced: Negative\n"
          ]
        },
        {
          "output_type": "stream",
          "name": "stderr",
          "text": [
            "[nltk_data] Downloading package vader_lexicon to /root/nltk_data...\n"
          ]
        }
      ],
      "source": [
        "#Your code here\n",
        "import nltk\n",
        "from nltk.sentiment.vader import SentimentIntensityAnalyzer\n",
        "\n",
        "nltk.download('vader_lexicon')\n",
        "\n",
        "def analyze_sentiments(sentences):\n",
        "    sid = SentimentIntensityAnalyzer()\n",
        "    results = []\n",
        "    for sentence in sentences:\n",
        "        sentiment_scores = sid.polarity_scores(sentence)\n",
        "        sentiment_score = sentiment_scores['compound']\n",
        "        if sentiment_score > 0.05:\n",
        "            sentiment_label = 'Positive'\n",
        "        elif sentiment_score < -0.05:\n",
        "            sentiment_label = 'Negative'\n",
        "        else:\n",
        "            sentiment_label = 'Neutral'\n",
        "        results.append((sentence, sentiment_score, sentiment_label))\n",
        "    return results\n",
        "sentences = [    \"I love going to the beach on a sunny day\",    \"The traffic is terrible during rush hour\",    \"I can't stand the taste of broccoli\",    \"I had a great time at the party last night\",    \"The movie was really boring and slow-paced\"]\n",
        "\n",
        "results = analyze_sentiments(sentences)\n",
        "\n",
        "for sentence, score, label in results:\n",
        "    print(f\"{sentence}: {label}\")\n"
      ]
    },
    {
      "cell_type": "markdown",
      "metadata": {
        "id": "Y5IBL2DHdJx_"
      },
      "source": [
        "here, we are using the nltk for performing the sentiment analysis.\n",
        "\n",
        "first, we are nltk library as well as the sentimentintensity analyzer which is used for performing the sentiment analysis task.\n",
        "\n",
        "here we are defining the function named analyze sentiments which takes a list of the sentences as a input and use this into vader sentiment analysis for  analyze the emotions of the each sentence.\n",
        "\n",
        "here this function is to calculate the score of the each sentence using the compound scored  which is provide by vader, and here its assign the sentiment labels such as positive, negative, neutral based on the score value.\n",
        "\n",
        "here this function is return the list of the tuples, where each tuple contains the original sentence  and its sentiment score and sentiment labels.\n",
        "\n",
        "here we are now defining the  list of example sentences and calls tje analyze sentiments  function on the list to generate the list of the sentiments analysis results.\n",
        "\n",
        "at the last we are iterating the over the sentiment analysis results and prints each of the sentences along with the assigned labels. this process is handle by analyze sentiment function used ot perform sentiment analysis on the list of the sentences and assign the sentiment labels to each one.\n",
        "\n",
        "\n"
      ]
    },
    {
      "cell_type": "markdown",
      "metadata": {
        "id": "x2kQMJL8xyQW"
      },
      "source": [
        "#Task 7 (10 points)\n",
        "\n",
        "How do different sentiment analysis lexicons compare in terms of their agreement on the polarity of words, and what factors contribute to disagreements between lexicons"
      ]
    },
    {
      "cell_type": "markdown",
      "metadata": {
        "id": "5-grnc4pQYbB"
      },
      "source": [
        "**Answer:**\n",
        "There are different kind of sentiment analysis lexicons available, and performance of the model and polarity agreement  of the words can be different. talking about the agreement between the lexicons which is be affected by  different kind of factors, including the data which is use to creare the lexicons, here the corpus of the text will be use for evaluate the model, and method will be use to annotate the sentiment of the words, and the intention use for the lexicon.\n",
        "\n",
        "talking about the general terms lexicons are  based on the larger and more diverse corpus of the text which is use for perform better and have higher agreement with other lexicons. for instance, lexicons are based on the general domain corpus text, which are sentiwordnet and wordnet lexicons, which is use for the intention of the high agreement with other lexicons.\n",
        "\n",
        "\n",
        "in contrast, lexicons are created for specific domain, for instance product reviews or social media, which may have lower agreement with other type of the lexicons. This is befcause of the sentiment of the words which are vary depending on the context and the domain which are they used. for instance, the word such as \"like\" and \"not goog\" may be get the positive connotation in the some contexts but a negative connotation in others.\n",
        "\n",
        "In addition, this method is use for annotate the sentiment of the words whihc affect the agreement between lexicons. for instance, here some of the lexicons rely on human annotators to give the labels of the sentiment words, on the other hand use the automated methods. lexicons based on the human annotators which is may have higher agreement with other lexicons, but they are also be  more subjective and biased towards the annotators for personal preferences.\n",
        "\n",
        "\n",
        "all in all, the agreement between sentiment analysis lexicons which are dependent on the several  factors, which include the data used for create the lexicon, here the corpus of the text used to evaluate the model and method which is used for annotate the sentiment of the words, and the emotions of the text is use for the lexicon. therefore, its essential to evaluate and compare the performance of the various sentiment analysis lexicons before choosing one for the specific application.\n",
        "\n",
        "\n",
        "\n"
      ]
    }
  ],
  "metadata": {
    "colab": {
      "provenance": []
    },
    "kernelspec": {
      "display_name": "Python 3",
      "name": "python3"
    },
    "language_info": {
      "name": "python"
    },
    "widgets": {
      "application/vnd.jupyter.widget-state+json": {
        "14e8423910404036851a1a9ff183b72c": {
          "model_module": "@jupyter-widgets/controls",
          "model_name": "HBoxModel",
          "model_module_version": "1.5.0",
          "state": {
            "_dom_classes": [],
            "_model_module": "@jupyter-widgets/controls",
            "_model_module_version": "1.5.0",
            "_model_name": "HBoxModel",
            "_view_count": null,
            "_view_module": "@jupyter-widgets/controls",
            "_view_module_version": "1.5.0",
            "_view_name": "HBoxView",
            "box_style": "",
            "children": [
              "IPY_MODEL_069b5608c78f4e869989ed972ae61d70",
              "IPY_MODEL_a254650860f24c7caedb48c4f93a0c49",
              "IPY_MODEL_7f39e450621740c2a5f4796e4637cc76"
            ],
            "layout": "IPY_MODEL_fea2acae7edd4b7db456f9de61e122ee"
          }
        },
        "069b5608c78f4e869989ed972ae61d70": {
          "model_module": "@jupyter-widgets/controls",
          "model_name": "HTMLModel",
          "model_module_version": "1.5.0",
          "state": {
            "_dom_classes": [],
            "_model_module": "@jupyter-widgets/controls",
            "_model_module_version": "1.5.0",
            "_model_name": "HTMLModel",
            "_view_count": null,
            "_view_module": "@jupyter-widgets/controls",
            "_view_module_version": "1.5.0",
            "_view_name": "HTMLView",
            "description": "",
            "description_tooltip": null,
            "layout": "IPY_MODEL_ddf5cd273e1747239225b54acfac2846",
            "placeholder": "​",
            "style": "IPY_MODEL_c8787e265e374e00b55882280308ed6f",
            "value": "Downloading (…)okenizer_config.json: 100%"
          }
        },
        "a254650860f24c7caedb48c4f93a0c49": {
          "model_module": "@jupyter-widgets/controls",
          "model_name": "FloatProgressModel",
          "model_module_version": "1.5.0",
          "state": {
            "_dom_classes": [],
            "_model_module": "@jupyter-widgets/controls",
            "_model_module_version": "1.5.0",
            "_model_name": "FloatProgressModel",
            "_view_count": null,
            "_view_module": "@jupyter-widgets/controls",
            "_view_module_version": "1.5.0",
            "_view_name": "ProgressView",
            "bar_style": "success",
            "description": "",
            "description_tooltip": null,
            "layout": "IPY_MODEL_66a302f110734992a974ea9b81695ced",
            "max": 28,
            "min": 0,
            "orientation": "horizontal",
            "style": "IPY_MODEL_ab579a5168364900a159bf9c615db90b",
            "value": 28
          }
        },
        "7f39e450621740c2a5f4796e4637cc76": {
          "model_module": "@jupyter-widgets/controls",
          "model_name": "HTMLModel",
          "model_module_version": "1.5.0",
          "state": {
            "_dom_classes": [],
            "_model_module": "@jupyter-widgets/controls",
            "_model_module_version": "1.5.0",
            "_model_name": "HTMLModel",
            "_view_count": null,
            "_view_module": "@jupyter-widgets/controls",
            "_view_module_version": "1.5.0",
            "_view_name": "HTMLView",
            "description": "",
            "description_tooltip": null,
            "layout": "IPY_MODEL_f85a64ff91d74638a81ab16f13ebc4d0",
            "placeholder": "​",
            "style": "IPY_MODEL_a9b4a1be0219494ea7547db2b94f7576",
            "value": " 28.0/28.0 [00:00&lt;00:00, 1.17kB/s]"
          }
        },
        "fea2acae7edd4b7db456f9de61e122ee": {
          "model_module": "@jupyter-widgets/base",
          "model_name": "LayoutModel",
          "model_module_version": "1.2.0",
          "state": {
            "_model_module": "@jupyter-widgets/base",
            "_model_module_version": "1.2.0",
            "_model_name": "LayoutModel",
            "_view_count": null,
            "_view_module": "@jupyter-widgets/base",
            "_view_module_version": "1.2.0",
            "_view_name": "LayoutView",
            "align_content": null,
            "align_items": null,
            "align_self": null,
            "border": null,
            "bottom": null,
            "display": null,
            "flex": null,
            "flex_flow": null,
            "grid_area": null,
            "grid_auto_columns": null,
            "grid_auto_flow": null,
            "grid_auto_rows": null,
            "grid_column": null,
            "grid_gap": null,
            "grid_row": null,
            "grid_template_areas": null,
            "grid_template_columns": null,
            "grid_template_rows": null,
            "height": null,
            "justify_content": null,
            "justify_items": null,
            "left": null,
            "margin": null,
            "max_height": null,
            "max_width": null,
            "min_height": null,
            "min_width": null,
            "object_fit": null,
            "object_position": null,
            "order": null,
            "overflow": null,
            "overflow_x": null,
            "overflow_y": null,
            "padding": null,
            "right": null,
            "top": null,
            "visibility": null,
            "width": null
          }
        },
        "ddf5cd273e1747239225b54acfac2846": {
          "model_module": "@jupyter-widgets/base",
          "model_name": "LayoutModel",
          "model_module_version": "1.2.0",
          "state": {
            "_model_module": "@jupyter-widgets/base",
            "_model_module_version": "1.2.0",
            "_model_name": "LayoutModel",
            "_view_count": null,
            "_view_module": "@jupyter-widgets/base",
            "_view_module_version": "1.2.0",
            "_view_name": "LayoutView",
            "align_content": null,
            "align_items": null,
            "align_self": null,
            "border": null,
            "bottom": null,
            "display": null,
            "flex": null,
            "flex_flow": null,
            "grid_area": null,
            "grid_auto_columns": null,
            "grid_auto_flow": null,
            "grid_auto_rows": null,
            "grid_column": null,
            "grid_gap": null,
            "grid_row": null,
            "grid_template_areas": null,
            "grid_template_columns": null,
            "grid_template_rows": null,
            "height": null,
            "justify_content": null,
            "justify_items": null,
            "left": null,
            "margin": null,
            "max_height": null,
            "max_width": null,
            "min_height": null,
            "min_width": null,
            "object_fit": null,
            "object_position": null,
            "order": null,
            "overflow": null,
            "overflow_x": null,
            "overflow_y": null,
            "padding": null,
            "right": null,
            "top": null,
            "visibility": null,
            "width": null
          }
        },
        "c8787e265e374e00b55882280308ed6f": {
          "model_module": "@jupyter-widgets/controls",
          "model_name": "DescriptionStyleModel",
          "model_module_version": "1.5.0",
          "state": {
            "_model_module": "@jupyter-widgets/controls",
            "_model_module_version": "1.5.0",
            "_model_name": "DescriptionStyleModel",
            "_view_count": null,
            "_view_module": "@jupyter-widgets/base",
            "_view_module_version": "1.2.0",
            "_view_name": "StyleView",
            "description_width": ""
          }
        },
        "66a302f110734992a974ea9b81695ced": {
          "model_module": "@jupyter-widgets/base",
          "model_name": "LayoutModel",
          "model_module_version": "1.2.0",
          "state": {
            "_model_module": "@jupyter-widgets/base",
            "_model_module_version": "1.2.0",
            "_model_name": "LayoutModel",
            "_view_count": null,
            "_view_module": "@jupyter-widgets/base",
            "_view_module_version": "1.2.0",
            "_view_name": "LayoutView",
            "align_content": null,
            "align_items": null,
            "align_self": null,
            "border": null,
            "bottom": null,
            "display": null,
            "flex": null,
            "flex_flow": null,
            "grid_area": null,
            "grid_auto_columns": null,
            "grid_auto_flow": null,
            "grid_auto_rows": null,
            "grid_column": null,
            "grid_gap": null,
            "grid_row": null,
            "grid_template_areas": null,
            "grid_template_columns": null,
            "grid_template_rows": null,
            "height": null,
            "justify_content": null,
            "justify_items": null,
            "left": null,
            "margin": null,
            "max_height": null,
            "max_width": null,
            "min_height": null,
            "min_width": null,
            "object_fit": null,
            "object_position": null,
            "order": null,
            "overflow": null,
            "overflow_x": null,
            "overflow_y": null,
            "padding": null,
            "right": null,
            "top": null,
            "visibility": null,
            "width": null
          }
        },
        "ab579a5168364900a159bf9c615db90b": {
          "model_module": "@jupyter-widgets/controls",
          "model_name": "ProgressStyleModel",
          "model_module_version": "1.5.0",
          "state": {
            "_model_module": "@jupyter-widgets/controls",
            "_model_module_version": "1.5.0",
            "_model_name": "ProgressStyleModel",
            "_view_count": null,
            "_view_module": "@jupyter-widgets/base",
            "_view_module_version": "1.2.0",
            "_view_name": "StyleView",
            "bar_color": null,
            "description_width": ""
          }
        },
        "f85a64ff91d74638a81ab16f13ebc4d0": {
          "model_module": "@jupyter-widgets/base",
          "model_name": "LayoutModel",
          "model_module_version": "1.2.0",
          "state": {
            "_model_module": "@jupyter-widgets/base",
            "_model_module_version": "1.2.0",
            "_model_name": "LayoutModel",
            "_view_count": null,
            "_view_module": "@jupyter-widgets/base",
            "_view_module_version": "1.2.0",
            "_view_name": "LayoutView",
            "align_content": null,
            "align_items": null,
            "align_self": null,
            "border": null,
            "bottom": null,
            "display": null,
            "flex": null,
            "flex_flow": null,
            "grid_area": null,
            "grid_auto_columns": null,
            "grid_auto_flow": null,
            "grid_auto_rows": null,
            "grid_column": null,
            "grid_gap": null,
            "grid_row": null,
            "grid_template_areas": null,
            "grid_template_columns": null,
            "grid_template_rows": null,
            "height": null,
            "justify_content": null,
            "justify_items": null,
            "left": null,
            "margin": null,
            "max_height": null,
            "max_width": null,
            "min_height": null,
            "min_width": null,
            "object_fit": null,
            "object_position": null,
            "order": null,
            "overflow": null,
            "overflow_x": null,
            "overflow_y": null,
            "padding": null,
            "right": null,
            "top": null,
            "visibility": null,
            "width": null
          }
        },
        "a9b4a1be0219494ea7547db2b94f7576": {
          "model_module": "@jupyter-widgets/controls",
          "model_name": "DescriptionStyleModel",
          "model_module_version": "1.5.0",
          "state": {
            "_model_module": "@jupyter-widgets/controls",
            "_model_module_version": "1.5.0",
            "_model_name": "DescriptionStyleModel",
            "_view_count": null,
            "_view_module": "@jupyter-widgets/base",
            "_view_module_version": "1.2.0",
            "_view_name": "StyleView",
            "description_width": ""
          }
        },
        "b589ddbb1fee458680782bdba826d256": {
          "model_module": "@jupyter-widgets/controls",
          "model_name": "HBoxModel",
          "model_module_version": "1.5.0",
          "state": {
            "_dom_classes": [],
            "_model_module": "@jupyter-widgets/controls",
            "_model_module_version": "1.5.0",
            "_model_name": "HBoxModel",
            "_view_count": null,
            "_view_module": "@jupyter-widgets/controls",
            "_view_module_version": "1.5.0",
            "_view_name": "HBoxView",
            "box_style": "",
            "children": [
              "IPY_MODEL_654e18730e5841b7ac733e2b8c20bbdd",
              "IPY_MODEL_a0a57557d9be4369a13a10c7df6c6684",
              "IPY_MODEL_1e14f50394184a75b46c92b77ec0ef1f"
            ],
            "layout": "IPY_MODEL_d364a4b04ef74effa67d190b99b0ab29"
          }
        },
        "654e18730e5841b7ac733e2b8c20bbdd": {
          "model_module": "@jupyter-widgets/controls",
          "model_name": "HTMLModel",
          "model_module_version": "1.5.0",
          "state": {
            "_dom_classes": [],
            "_model_module": "@jupyter-widgets/controls",
            "_model_module_version": "1.5.0",
            "_model_name": "HTMLModel",
            "_view_count": null,
            "_view_module": "@jupyter-widgets/controls",
            "_view_module_version": "1.5.0",
            "_view_name": "HTMLView",
            "description": "",
            "description_tooltip": null,
            "layout": "IPY_MODEL_e2c91bd725ce4efea73fc4515a539d6c",
            "placeholder": "​",
            "style": "IPY_MODEL_28b08edf346b465483322db0c5d8a735",
            "value": "Downloading (…)lve/main/config.json: 100%"
          }
        },
        "a0a57557d9be4369a13a10c7df6c6684": {
          "model_module": "@jupyter-widgets/controls",
          "model_name": "FloatProgressModel",
          "model_module_version": "1.5.0",
          "state": {
            "_dom_classes": [],
            "_model_module": "@jupyter-widgets/controls",
            "_model_module_version": "1.5.0",
            "_model_name": "FloatProgressModel",
            "_view_count": null,
            "_view_module": "@jupyter-widgets/controls",
            "_view_module_version": "1.5.0",
            "_view_name": "ProgressView",
            "bar_style": "success",
            "description": "",
            "description_tooltip": null,
            "layout": "IPY_MODEL_74968e681c6e40e3b07299be985036c5",
            "max": 483,
            "min": 0,
            "orientation": "horizontal",
            "style": "IPY_MODEL_03756ee424274a02850ba6f9c202a2f8",
            "value": 483
          }
        },
        "1e14f50394184a75b46c92b77ec0ef1f": {
          "model_module": "@jupyter-widgets/controls",
          "model_name": "HTMLModel",
          "model_module_version": "1.5.0",
          "state": {
            "_dom_classes": [],
            "_model_module": "@jupyter-widgets/controls",
            "_model_module_version": "1.5.0",
            "_model_name": "HTMLModel",
            "_view_count": null,
            "_view_module": "@jupyter-widgets/controls",
            "_view_module_version": "1.5.0",
            "_view_name": "HTMLView",
            "description": "",
            "description_tooltip": null,
            "layout": "IPY_MODEL_8ca845e72bfe407a8dd00165273dfc4a",
            "placeholder": "​",
            "style": "IPY_MODEL_df5d388ef04449299beb747f3069659e",
            "value": " 483/483 [00:00&lt;00:00, 20.1kB/s]"
          }
        },
        "d364a4b04ef74effa67d190b99b0ab29": {
          "model_module": "@jupyter-widgets/base",
          "model_name": "LayoutModel",
          "model_module_version": "1.2.0",
          "state": {
            "_model_module": "@jupyter-widgets/base",
            "_model_module_version": "1.2.0",
            "_model_name": "LayoutModel",
            "_view_count": null,
            "_view_module": "@jupyter-widgets/base",
            "_view_module_version": "1.2.0",
            "_view_name": "LayoutView",
            "align_content": null,
            "align_items": null,
            "align_self": null,
            "border": null,
            "bottom": null,
            "display": null,
            "flex": null,
            "flex_flow": null,
            "grid_area": null,
            "grid_auto_columns": null,
            "grid_auto_flow": null,
            "grid_auto_rows": null,
            "grid_column": null,
            "grid_gap": null,
            "grid_row": null,
            "grid_template_areas": null,
            "grid_template_columns": null,
            "grid_template_rows": null,
            "height": null,
            "justify_content": null,
            "justify_items": null,
            "left": null,
            "margin": null,
            "max_height": null,
            "max_width": null,
            "min_height": null,
            "min_width": null,
            "object_fit": null,
            "object_position": null,
            "order": null,
            "overflow": null,
            "overflow_x": null,
            "overflow_y": null,
            "padding": null,
            "right": null,
            "top": null,
            "visibility": null,
            "width": null
          }
        },
        "e2c91bd725ce4efea73fc4515a539d6c": {
          "model_module": "@jupyter-widgets/base",
          "model_name": "LayoutModel",
          "model_module_version": "1.2.0",
          "state": {
            "_model_module": "@jupyter-widgets/base",
            "_model_module_version": "1.2.0",
            "_model_name": "LayoutModel",
            "_view_count": null,
            "_view_module": "@jupyter-widgets/base",
            "_view_module_version": "1.2.0",
            "_view_name": "LayoutView",
            "align_content": null,
            "align_items": null,
            "align_self": null,
            "border": null,
            "bottom": null,
            "display": null,
            "flex": null,
            "flex_flow": null,
            "grid_area": null,
            "grid_auto_columns": null,
            "grid_auto_flow": null,
            "grid_auto_rows": null,
            "grid_column": null,
            "grid_gap": null,
            "grid_row": null,
            "grid_template_areas": null,
            "grid_template_columns": null,
            "grid_template_rows": null,
            "height": null,
            "justify_content": null,
            "justify_items": null,
            "left": null,
            "margin": null,
            "max_height": null,
            "max_width": null,
            "min_height": null,
            "min_width": null,
            "object_fit": null,
            "object_position": null,
            "order": null,
            "overflow": null,
            "overflow_x": null,
            "overflow_y": null,
            "padding": null,
            "right": null,
            "top": null,
            "visibility": null,
            "width": null
          }
        },
        "28b08edf346b465483322db0c5d8a735": {
          "model_module": "@jupyter-widgets/controls",
          "model_name": "DescriptionStyleModel",
          "model_module_version": "1.5.0",
          "state": {
            "_model_module": "@jupyter-widgets/controls",
            "_model_module_version": "1.5.0",
            "_model_name": "DescriptionStyleModel",
            "_view_count": null,
            "_view_module": "@jupyter-widgets/base",
            "_view_module_version": "1.2.0",
            "_view_name": "StyleView",
            "description_width": ""
          }
        },
        "74968e681c6e40e3b07299be985036c5": {
          "model_module": "@jupyter-widgets/base",
          "model_name": "LayoutModel",
          "model_module_version": "1.2.0",
          "state": {
            "_model_module": "@jupyter-widgets/base",
            "_model_module_version": "1.2.0",
            "_model_name": "LayoutModel",
            "_view_count": null,
            "_view_module": "@jupyter-widgets/base",
            "_view_module_version": "1.2.0",
            "_view_name": "LayoutView",
            "align_content": null,
            "align_items": null,
            "align_self": null,
            "border": null,
            "bottom": null,
            "display": null,
            "flex": null,
            "flex_flow": null,
            "grid_area": null,
            "grid_auto_columns": null,
            "grid_auto_flow": null,
            "grid_auto_rows": null,
            "grid_column": null,
            "grid_gap": null,
            "grid_row": null,
            "grid_template_areas": null,
            "grid_template_columns": null,
            "grid_template_rows": null,
            "height": null,
            "justify_content": null,
            "justify_items": null,
            "left": null,
            "margin": null,
            "max_height": null,
            "max_width": null,
            "min_height": null,
            "min_width": null,
            "object_fit": null,
            "object_position": null,
            "order": null,
            "overflow": null,
            "overflow_x": null,
            "overflow_y": null,
            "padding": null,
            "right": null,
            "top": null,
            "visibility": null,
            "width": null
          }
        },
        "03756ee424274a02850ba6f9c202a2f8": {
          "model_module": "@jupyter-widgets/controls",
          "model_name": "ProgressStyleModel",
          "model_module_version": "1.5.0",
          "state": {
            "_model_module": "@jupyter-widgets/controls",
            "_model_module_version": "1.5.0",
            "_model_name": "ProgressStyleModel",
            "_view_count": null,
            "_view_module": "@jupyter-widgets/base",
            "_view_module_version": "1.2.0",
            "_view_name": "StyleView",
            "bar_color": null,
            "description_width": ""
          }
        },
        "8ca845e72bfe407a8dd00165273dfc4a": {
          "model_module": "@jupyter-widgets/base",
          "model_name": "LayoutModel",
          "model_module_version": "1.2.0",
          "state": {
            "_model_module": "@jupyter-widgets/base",
            "_model_module_version": "1.2.0",
            "_model_name": "LayoutModel",
            "_view_count": null,
            "_view_module": "@jupyter-widgets/base",
            "_view_module_version": "1.2.0",
            "_view_name": "LayoutView",
            "align_content": null,
            "align_items": null,
            "align_self": null,
            "border": null,
            "bottom": null,
            "display": null,
            "flex": null,
            "flex_flow": null,
            "grid_area": null,
            "grid_auto_columns": null,
            "grid_auto_flow": null,
            "grid_auto_rows": null,
            "grid_column": null,
            "grid_gap": null,
            "grid_row": null,
            "grid_template_areas": null,
            "grid_template_columns": null,
            "grid_template_rows": null,
            "height": null,
            "justify_content": null,
            "justify_items": null,
            "left": null,
            "margin": null,
            "max_height": null,
            "max_width": null,
            "min_height": null,
            "min_width": null,
            "object_fit": null,
            "object_position": null,
            "order": null,
            "overflow": null,
            "overflow_x": null,
            "overflow_y": null,
            "padding": null,
            "right": null,
            "top": null,
            "visibility": null,
            "width": null
          }
        },
        "df5d388ef04449299beb747f3069659e": {
          "model_module": "@jupyter-widgets/controls",
          "model_name": "DescriptionStyleModel",
          "model_module_version": "1.5.0",
          "state": {
            "_model_module": "@jupyter-widgets/controls",
            "_model_module_version": "1.5.0",
            "_model_name": "DescriptionStyleModel",
            "_view_count": null,
            "_view_module": "@jupyter-widgets/base",
            "_view_module_version": "1.2.0",
            "_view_name": "StyleView",
            "description_width": ""
          }
        },
        "5ac91f7efe55402b9d5dfac720273b7e": {
          "model_module": "@jupyter-widgets/controls",
          "model_name": "HBoxModel",
          "model_module_version": "1.5.0",
          "state": {
            "_dom_classes": [],
            "_model_module": "@jupyter-widgets/controls",
            "_model_module_version": "1.5.0",
            "_model_name": "HBoxModel",
            "_view_count": null,
            "_view_module": "@jupyter-widgets/controls",
            "_view_module_version": "1.5.0",
            "_view_name": "HBoxView",
            "box_style": "",
            "children": [
              "IPY_MODEL_47cc3a0096b1432ba430476774958c9c",
              "IPY_MODEL_478a3181e1f24505ae8d7c0fa5ab1eba",
              "IPY_MODEL_9d99647607214554bd31ba5042d0fb4f"
            ],
            "layout": "IPY_MODEL_9e8a5cd312a945c087a0bece569da69e"
          }
        },
        "47cc3a0096b1432ba430476774958c9c": {
          "model_module": "@jupyter-widgets/controls",
          "model_name": "HTMLModel",
          "model_module_version": "1.5.0",
          "state": {
            "_dom_classes": [],
            "_model_module": "@jupyter-widgets/controls",
            "_model_module_version": "1.5.0",
            "_model_name": "HTMLModel",
            "_view_count": null,
            "_view_module": "@jupyter-widgets/controls",
            "_view_module_version": "1.5.0",
            "_view_name": "HTMLView",
            "description": "",
            "description_tooltip": null,
            "layout": "IPY_MODEL_003d99fb73124b1abb9c29d3337f42f7",
            "placeholder": "​",
            "style": "IPY_MODEL_ed21fc16f206453da7dbe34fd4d8b356",
            "value": "Downloading (…)solve/main/vocab.txt: 100%"
          }
        },
        "478a3181e1f24505ae8d7c0fa5ab1eba": {
          "model_module": "@jupyter-widgets/controls",
          "model_name": "FloatProgressModel",
          "model_module_version": "1.5.0",
          "state": {
            "_dom_classes": [],
            "_model_module": "@jupyter-widgets/controls",
            "_model_module_version": "1.5.0",
            "_model_name": "FloatProgressModel",
            "_view_count": null,
            "_view_module": "@jupyter-widgets/controls",
            "_view_module_version": "1.5.0",
            "_view_name": "ProgressView",
            "bar_style": "success",
            "description": "",
            "description_tooltip": null,
            "layout": "IPY_MODEL_5858982edf2744aca5e98d98e9b4d61e",
            "max": 231508,
            "min": 0,
            "orientation": "horizontal",
            "style": "IPY_MODEL_2ac7113d38d943eeb4abbf5d75a1df72",
            "value": 231508
          }
        },
        "9d99647607214554bd31ba5042d0fb4f": {
          "model_module": "@jupyter-widgets/controls",
          "model_name": "HTMLModel",
          "model_module_version": "1.5.0",
          "state": {
            "_dom_classes": [],
            "_model_module": "@jupyter-widgets/controls",
            "_model_module_version": "1.5.0",
            "_model_name": "HTMLModel",
            "_view_count": null,
            "_view_module": "@jupyter-widgets/controls",
            "_view_module_version": "1.5.0",
            "_view_name": "HTMLView",
            "description": "",
            "description_tooltip": null,
            "layout": "IPY_MODEL_4e5fb4a1544c4bb7a9f9779f4a88da04",
            "placeholder": "​",
            "style": "IPY_MODEL_fa1d43a273ed48ebad4465d83ba69ada",
            "value": " 232k/232k [00:00&lt;00:00, 1.87MB/s]"
          }
        },
        "9e8a5cd312a945c087a0bece569da69e": {
          "model_module": "@jupyter-widgets/base",
          "model_name": "LayoutModel",
          "model_module_version": "1.2.0",
          "state": {
            "_model_module": "@jupyter-widgets/base",
            "_model_module_version": "1.2.0",
            "_model_name": "LayoutModel",
            "_view_count": null,
            "_view_module": "@jupyter-widgets/base",
            "_view_module_version": "1.2.0",
            "_view_name": "LayoutView",
            "align_content": null,
            "align_items": null,
            "align_self": null,
            "border": null,
            "bottom": null,
            "display": null,
            "flex": null,
            "flex_flow": null,
            "grid_area": null,
            "grid_auto_columns": null,
            "grid_auto_flow": null,
            "grid_auto_rows": null,
            "grid_column": null,
            "grid_gap": null,
            "grid_row": null,
            "grid_template_areas": null,
            "grid_template_columns": null,
            "grid_template_rows": null,
            "height": null,
            "justify_content": null,
            "justify_items": null,
            "left": null,
            "margin": null,
            "max_height": null,
            "max_width": null,
            "min_height": null,
            "min_width": null,
            "object_fit": null,
            "object_position": null,
            "order": null,
            "overflow": null,
            "overflow_x": null,
            "overflow_y": null,
            "padding": null,
            "right": null,
            "top": null,
            "visibility": null,
            "width": null
          }
        },
        "003d99fb73124b1abb9c29d3337f42f7": {
          "model_module": "@jupyter-widgets/base",
          "model_name": "LayoutModel",
          "model_module_version": "1.2.0",
          "state": {
            "_model_module": "@jupyter-widgets/base",
            "_model_module_version": "1.2.0",
            "_model_name": "LayoutModel",
            "_view_count": null,
            "_view_module": "@jupyter-widgets/base",
            "_view_module_version": "1.2.0",
            "_view_name": "LayoutView",
            "align_content": null,
            "align_items": null,
            "align_self": null,
            "border": null,
            "bottom": null,
            "display": null,
            "flex": null,
            "flex_flow": null,
            "grid_area": null,
            "grid_auto_columns": null,
            "grid_auto_flow": null,
            "grid_auto_rows": null,
            "grid_column": null,
            "grid_gap": null,
            "grid_row": null,
            "grid_template_areas": null,
            "grid_template_columns": null,
            "grid_template_rows": null,
            "height": null,
            "justify_content": null,
            "justify_items": null,
            "left": null,
            "margin": null,
            "max_height": null,
            "max_width": null,
            "min_height": null,
            "min_width": null,
            "object_fit": null,
            "object_position": null,
            "order": null,
            "overflow": null,
            "overflow_x": null,
            "overflow_y": null,
            "padding": null,
            "right": null,
            "top": null,
            "visibility": null,
            "width": null
          }
        },
        "ed21fc16f206453da7dbe34fd4d8b356": {
          "model_module": "@jupyter-widgets/controls",
          "model_name": "DescriptionStyleModel",
          "model_module_version": "1.5.0",
          "state": {
            "_model_module": "@jupyter-widgets/controls",
            "_model_module_version": "1.5.0",
            "_model_name": "DescriptionStyleModel",
            "_view_count": null,
            "_view_module": "@jupyter-widgets/base",
            "_view_module_version": "1.2.0",
            "_view_name": "StyleView",
            "description_width": ""
          }
        },
        "5858982edf2744aca5e98d98e9b4d61e": {
          "model_module": "@jupyter-widgets/base",
          "model_name": "LayoutModel",
          "model_module_version": "1.2.0",
          "state": {
            "_model_module": "@jupyter-widgets/base",
            "_model_module_version": "1.2.0",
            "_model_name": "LayoutModel",
            "_view_count": null,
            "_view_module": "@jupyter-widgets/base",
            "_view_module_version": "1.2.0",
            "_view_name": "LayoutView",
            "align_content": null,
            "align_items": null,
            "align_self": null,
            "border": null,
            "bottom": null,
            "display": null,
            "flex": null,
            "flex_flow": null,
            "grid_area": null,
            "grid_auto_columns": null,
            "grid_auto_flow": null,
            "grid_auto_rows": null,
            "grid_column": null,
            "grid_gap": null,
            "grid_row": null,
            "grid_template_areas": null,
            "grid_template_columns": null,
            "grid_template_rows": null,
            "height": null,
            "justify_content": null,
            "justify_items": null,
            "left": null,
            "margin": null,
            "max_height": null,
            "max_width": null,
            "min_height": null,
            "min_width": null,
            "object_fit": null,
            "object_position": null,
            "order": null,
            "overflow": null,
            "overflow_x": null,
            "overflow_y": null,
            "padding": null,
            "right": null,
            "top": null,
            "visibility": null,
            "width": null
          }
        },
        "2ac7113d38d943eeb4abbf5d75a1df72": {
          "model_module": "@jupyter-widgets/controls",
          "model_name": "ProgressStyleModel",
          "model_module_version": "1.5.0",
          "state": {
            "_model_module": "@jupyter-widgets/controls",
            "_model_module_version": "1.5.0",
            "_model_name": "ProgressStyleModel",
            "_view_count": null,
            "_view_module": "@jupyter-widgets/base",
            "_view_module_version": "1.2.0",
            "_view_name": "StyleView",
            "bar_color": null,
            "description_width": ""
          }
        },
        "4e5fb4a1544c4bb7a9f9779f4a88da04": {
          "model_module": "@jupyter-widgets/base",
          "model_name": "LayoutModel",
          "model_module_version": "1.2.0",
          "state": {
            "_model_module": "@jupyter-widgets/base",
            "_model_module_version": "1.2.0",
            "_model_name": "LayoutModel",
            "_view_count": null,
            "_view_module": "@jupyter-widgets/base",
            "_view_module_version": "1.2.0",
            "_view_name": "LayoutView",
            "align_content": null,
            "align_items": null,
            "align_self": null,
            "border": null,
            "bottom": null,
            "display": null,
            "flex": null,
            "flex_flow": null,
            "grid_area": null,
            "grid_auto_columns": null,
            "grid_auto_flow": null,
            "grid_auto_rows": null,
            "grid_column": null,
            "grid_gap": null,
            "grid_row": null,
            "grid_template_areas": null,
            "grid_template_columns": null,
            "grid_template_rows": null,
            "height": null,
            "justify_content": null,
            "justify_items": null,
            "left": null,
            "margin": null,
            "max_height": null,
            "max_width": null,
            "min_height": null,
            "min_width": null,
            "object_fit": null,
            "object_position": null,
            "order": null,
            "overflow": null,
            "overflow_x": null,
            "overflow_y": null,
            "padding": null,
            "right": null,
            "top": null,
            "visibility": null,
            "width": null
          }
        },
        "fa1d43a273ed48ebad4465d83ba69ada": {
          "model_module": "@jupyter-widgets/controls",
          "model_name": "DescriptionStyleModel",
          "model_module_version": "1.5.0",
          "state": {
            "_model_module": "@jupyter-widgets/controls",
            "_model_module_version": "1.5.0",
            "_model_name": "DescriptionStyleModel",
            "_view_count": null,
            "_view_module": "@jupyter-widgets/base",
            "_view_module_version": "1.2.0",
            "_view_name": "StyleView",
            "description_width": ""
          }
        },
        "f1d485917d214b71846b62290a859e46": {
          "model_module": "@jupyter-widgets/controls",
          "model_name": "HBoxModel",
          "model_module_version": "1.5.0",
          "state": {
            "_dom_classes": [],
            "_model_module": "@jupyter-widgets/controls",
            "_model_module_version": "1.5.0",
            "_model_name": "HBoxModel",
            "_view_count": null,
            "_view_module": "@jupyter-widgets/controls",
            "_view_module_version": "1.5.0",
            "_view_name": "HBoxView",
            "box_style": "",
            "children": [
              "IPY_MODEL_0c62e1435d5e4ac88b60ca06977136ce",
              "IPY_MODEL_e9069e4e9b7c4ed8b272e35a64140ed3",
              "IPY_MODEL_6c7db91304e04ddb949346b26a5322d8"
            ],
            "layout": "IPY_MODEL_d8cb97164c4b4c51956654284f92600e"
          }
        },
        "0c62e1435d5e4ac88b60ca06977136ce": {
          "model_module": "@jupyter-widgets/controls",
          "model_name": "HTMLModel",
          "model_module_version": "1.5.0",
          "state": {
            "_dom_classes": [],
            "_model_module": "@jupyter-widgets/controls",
            "_model_module_version": "1.5.0",
            "_model_name": "HTMLModel",
            "_view_count": null,
            "_view_module": "@jupyter-widgets/controls",
            "_view_module_version": "1.5.0",
            "_view_name": "HTMLView",
            "description": "",
            "description_tooltip": null,
            "layout": "IPY_MODEL_a5d6405f9cd14f73985a853ae6bcca95",
            "placeholder": "​",
            "style": "IPY_MODEL_e4bb0601b13846949143510952b734f7",
            "value": "Downloading (…)/main/tokenizer.json: 100%"
          }
        },
        "e9069e4e9b7c4ed8b272e35a64140ed3": {
          "model_module": "@jupyter-widgets/controls",
          "model_name": "FloatProgressModel",
          "model_module_version": "1.5.0",
          "state": {
            "_dom_classes": [],
            "_model_module": "@jupyter-widgets/controls",
            "_model_module_version": "1.5.0",
            "_model_name": "FloatProgressModel",
            "_view_count": null,
            "_view_module": "@jupyter-widgets/controls",
            "_view_module_version": "1.5.0",
            "_view_name": "ProgressView",
            "bar_style": "success",
            "description": "",
            "description_tooltip": null,
            "layout": "IPY_MODEL_41de7ec5fcbb49e99d0339b4748ab6bc",
            "max": 466062,
            "min": 0,
            "orientation": "horizontal",
            "style": "IPY_MODEL_13ba1c02d2f646fbbcf4aa606301a5dd",
            "value": 466062
          }
        },
        "6c7db91304e04ddb949346b26a5322d8": {
          "model_module": "@jupyter-widgets/controls",
          "model_name": "HTMLModel",
          "model_module_version": "1.5.0",
          "state": {
            "_dom_classes": [],
            "_model_module": "@jupyter-widgets/controls",
            "_model_module_version": "1.5.0",
            "_model_name": "HTMLModel",
            "_view_count": null,
            "_view_module": "@jupyter-widgets/controls",
            "_view_module_version": "1.5.0",
            "_view_name": "HTMLView",
            "description": "",
            "description_tooltip": null,
            "layout": "IPY_MODEL_dccf82a87e714c28bca8bc4d0314c75c",
            "placeholder": "​",
            "style": "IPY_MODEL_26d0a637f8cf4458a3de0fc2fbb0e1ab",
            "value": " 466k/466k [00:00&lt;00:00, 3.63MB/s]"
          }
        },
        "d8cb97164c4b4c51956654284f92600e": {
          "model_module": "@jupyter-widgets/base",
          "model_name": "LayoutModel",
          "model_module_version": "1.2.0",
          "state": {
            "_model_module": "@jupyter-widgets/base",
            "_model_module_version": "1.2.0",
            "_model_name": "LayoutModel",
            "_view_count": null,
            "_view_module": "@jupyter-widgets/base",
            "_view_module_version": "1.2.0",
            "_view_name": "LayoutView",
            "align_content": null,
            "align_items": null,
            "align_self": null,
            "border": null,
            "bottom": null,
            "display": null,
            "flex": null,
            "flex_flow": null,
            "grid_area": null,
            "grid_auto_columns": null,
            "grid_auto_flow": null,
            "grid_auto_rows": null,
            "grid_column": null,
            "grid_gap": null,
            "grid_row": null,
            "grid_template_areas": null,
            "grid_template_columns": null,
            "grid_template_rows": null,
            "height": null,
            "justify_content": null,
            "justify_items": null,
            "left": null,
            "margin": null,
            "max_height": null,
            "max_width": null,
            "min_height": null,
            "min_width": null,
            "object_fit": null,
            "object_position": null,
            "order": null,
            "overflow": null,
            "overflow_x": null,
            "overflow_y": null,
            "padding": null,
            "right": null,
            "top": null,
            "visibility": null,
            "width": null
          }
        },
        "a5d6405f9cd14f73985a853ae6bcca95": {
          "model_module": "@jupyter-widgets/base",
          "model_name": "LayoutModel",
          "model_module_version": "1.2.0",
          "state": {
            "_model_module": "@jupyter-widgets/base",
            "_model_module_version": "1.2.0",
            "_model_name": "LayoutModel",
            "_view_count": null,
            "_view_module": "@jupyter-widgets/base",
            "_view_module_version": "1.2.0",
            "_view_name": "LayoutView",
            "align_content": null,
            "align_items": null,
            "align_self": null,
            "border": null,
            "bottom": null,
            "display": null,
            "flex": null,
            "flex_flow": null,
            "grid_area": null,
            "grid_auto_columns": null,
            "grid_auto_flow": null,
            "grid_auto_rows": null,
            "grid_column": null,
            "grid_gap": null,
            "grid_row": null,
            "grid_template_areas": null,
            "grid_template_columns": null,
            "grid_template_rows": null,
            "height": null,
            "justify_content": null,
            "justify_items": null,
            "left": null,
            "margin": null,
            "max_height": null,
            "max_width": null,
            "min_height": null,
            "min_width": null,
            "object_fit": null,
            "object_position": null,
            "order": null,
            "overflow": null,
            "overflow_x": null,
            "overflow_y": null,
            "padding": null,
            "right": null,
            "top": null,
            "visibility": null,
            "width": null
          }
        },
        "e4bb0601b13846949143510952b734f7": {
          "model_module": "@jupyter-widgets/controls",
          "model_name": "DescriptionStyleModel",
          "model_module_version": "1.5.0",
          "state": {
            "_model_module": "@jupyter-widgets/controls",
            "_model_module_version": "1.5.0",
            "_model_name": "DescriptionStyleModel",
            "_view_count": null,
            "_view_module": "@jupyter-widgets/base",
            "_view_module_version": "1.2.0",
            "_view_name": "StyleView",
            "description_width": ""
          }
        },
        "41de7ec5fcbb49e99d0339b4748ab6bc": {
          "model_module": "@jupyter-widgets/base",
          "model_name": "LayoutModel",
          "model_module_version": "1.2.0",
          "state": {
            "_model_module": "@jupyter-widgets/base",
            "_model_module_version": "1.2.0",
            "_model_name": "LayoutModel",
            "_view_count": null,
            "_view_module": "@jupyter-widgets/base",
            "_view_module_version": "1.2.0",
            "_view_name": "LayoutView",
            "align_content": null,
            "align_items": null,
            "align_self": null,
            "border": null,
            "bottom": null,
            "display": null,
            "flex": null,
            "flex_flow": null,
            "grid_area": null,
            "grid_auto_columns": null,
            "grid_auto_flow": null,
            "grid_auto_rows": null,
            "grid_column": null,
            "grid_gap": null,
            "grid_row": null,
            "grid_template_areas": null,
            "grid_template_columns": null,
            "grid_template_rows": null,
            "height": null,
            "justify_content": null,
            "justify_items": null,
            "left": null,
            "margin": null,
            "max_height": null,
            "max_width": null,
            "min_height": null,
            "min_width": null,
            "object_fit": null,
            "object_position": null,
            "order": null,
            "overflow": null,
            "overflow_x": null,
            "overflow_y": null,
            "padding": null,
            "right": null,
            "top": null,
            "visibility": null,
            "width": null
          }
        },
        "13ba1c02d2f646fbbcf4aa606301a5dd": {
          "model_module": "@jupyter-widgets/controls",
          "model_name": "ProgressStyleModel",
          "model_module_version": "1.5.0",
          "state": {
            "_model_module": "@jupyter-widgets/controls",
            "_model_module_version": "1.5.0",
            "_model_name": "ProgressStyleModel",
            "_view_count": null,
            "_view_module": "@jupyter-widgets/base",
            "_view_module_version": "1.2.0",
            "_view_name": "StyleView",
            "bar_color": null,
            "description_width": ""
          }
        },
        "dccf82a87e714c28bca8bc4d0314c75c": {
          "model_module": "@jupyter-widgets/base",
          "model_name": "LayoutModel",
          "model_module_version": "1.2.0",
          "state": {
            "_model_module": "@jupyter-widgets/base",
            "_model_module_version": "1.2.0",
            "_model_name": "LayoutModel",
            "_view_count": null,
            "_view_module": "@jupyter-widgets/base",
            "_view_module_version": "1.2.0",
            "_view_name": "LayoutView",
            "align_content": null,
            "align_items": null,
            "align_self": null,
            "border": null,
            "bottom": null,
            "display": null,
            "flex": null,
            "flex_flow": null,
            "grid_area": null,
            "grid_auto_columns": null,
            "grid_auto_flow": null,
            "grid_auto_rows": null,
            "grid_column": null,
            "grid_gap": null,
            "grid_row": null,
            "grid_template_areas": null,
            "grid_template_columns": null,
            "grid_template_rows": null,
            "height": null,
            "justify_content": null,
            "justify_items": null,
            "left": null,
            "margin": null,
            "max_height": null,
            "max_width": null,
            "min_height": null,
            "min_width": null,
            "object_fit": null,
            "object_position": null,
            "order": null,
            "overflow": null,
            "overflow_x": null,
            "overflow_y": null,
            "padding": null,
            "right": null,
            "top": null,
            "visibility": null,
            "width": null
          }
        },
        "26d0a637f8cf4458a3de0fc2fbb0e1ab": {
          "model_module": "@jupyter-widgets/controls",
          "model_name": "DescriptionStyleModel",
          "model_module_version": "1.5.0",
          "state": {
            "_model_module": "@jupyter-widgets/controls",
            "_model_module_version": "1.5.0",
            "_model_name": "DescriptionStyleModel",
            "_view_count": null,
            "_view_module": "@jupyter-widgets/base",
            "_view_module_version": "1.2.0",
            "_view_name": "StyleView",
            "description_width": ""
          }
        }
      }
    }
  },
  "nbformat": 4,
  "nbformat_minor": 0
}